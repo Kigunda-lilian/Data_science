{
  "nbformat": 4,
  "nbformat_minor": 0,
  "metadata": {
    "colab": {
      "provenance": [],
      "toc_visible": true,
      "include_colab_link": true
    },
    "kernelspec": {
      "name": "python3",
      "display_name": "Python 3"
    }
  },
  "cells": [
    {
      "cell_type": "markdown",
      "metadata": {
        "id": "view-in-github",
        "colab_type": "text"
      },
      "source": [
        "<a href=\"https://colab.research.google.com/github/lilian-2021/DS/blob/main/%5BSolution_Notebook%5D_Python_Basics_for_Data_Science_Project.ipynb\" target=\"_parent\"><img src=\"https://colab.research.google.com/assets/colab-badge.svg\" alt=\"Open In Colab\"/></a>"
      ]
    },
    {
      "cell_type": "markdown",
      "metadata": {
        "id": "WjBYe1ofnIPR"
      },
      "source": [
        "# Solution Notebook: Python Basics for Data Science: Project"
      ]
    },
    {
      "cell_type": "markdown",
      "metadata": {
        "id": "bFY9DKx2fRGX"
      },
      "source": [
        "## Solution"
      ]
    },
    {
      "cell_type": "code",
      "metadata": {
        "id": "Zsali4DcnIPS"
      },
      "source": [
        "# Defining our dictionary\n",
        "# ---\n",
        "# We will create a dictionary of input data with the following keys:\n",
        "# minutes_used, minutes_included, texts_used, texts_included,\n",
        "# monthly_plan, costperminute, cost_per_sms, vat_tax.\n",
        "# ---\n",
        "mobile_sub = {'minutes_used': 200, 'minutes_included': 200,\n",
        "              'texts_used': 300, 'texts_included': 200,\n",
        "               'monthly_plan': 10, 'costperminute': 0.3, 'cost_per_sms': 0.001,\n",
        "               'vat_tax': 0.14}"
      ],
      "execution_count": null,
      "outputs": []
    },
    {
      "cell_type": "code",
      "metadata": {
        "id": "0OaG5gNTnIPX",
        "colab": {
          "base_uri": "https://localhost:8080/",
          "height": 54
        },
        "outputId": "ed401f05-0699-414f-bd76-94e89bdbd197"
      },
      "source": [
        "# Defining a function that takes in the dictionary and provides output\n",
        "def evaluateCharges(input_data):\n",
        "    \"\"\"\n",
        "    Receives a dictionary containing minutes_used and\n",
        "    text_used as key/value pairs and returns a string\n",
        "    describing a breakdown of the charges applied\n",
        "    based on the values received.\n",
        "    \"\"\"\n",
        "    minutes_used = input_data['minutes_used']\n",
        "    texts_used = input_data['texts_used']\n",
        "    basecharge = 10\n",
        "\n",
        "    # Performing different actions based on the conditions indicated in the question.\n",
        "    if minutes_used > 200:\n",
        "        aditional_minutes = minutes_used - 200\n",
        "        basecharge = basecharge + (aditional_minutes * 0.3)\n",
        "\n",
        "    if texts_used > 200:\n",
        "        aditional_texts = texts_used - 200\n",
        "        basecharge = basecharge + (aditional_texts * 0.001)\n",
        "\n",
        "    VAT_TAX = basecharge * 0.14\n",
        "    basecharge += VAT_TAX\n",
        "\n",
        "    # \"{:.2f}\" converts value to 2dp\n",
        "    finalCharges =  \"{:.2f}\".format(basecharge)\n",
        "\n",
        "    # You can also use print() function to create the following string\n",
        "    output_string = (\n",
        "        f\"Dear customer, you have transacted {texts_used} \" +\n",
        "        f\"messages and {minutes_used} minutes and have been charged ${finalCharges}. \" +\n",
        "        f\"Kindly note that an additional VAT Tax of ${'{:.2f}'.format(VAT_TAX)} has been applied.\"\n",
        "    )\n",
        "    return print(output_string)\n",
        "\n",
        "# Calling our function and passing our dictionary\n",
        "evaluateCharges(mobile_sub)"
      ],
      "execution_count": null,
      "outputs": [
        {
          "output_type": "stream",
          "text": [
            "Dear customer, you have transacted 300 messages and 200 minutes and have been charged $11.51. Kindly note that an additional VAT Tax of $1.41 has been applied.\n"
          ],
          "name": "stdout"
        }
      ]
    }
  ]
}