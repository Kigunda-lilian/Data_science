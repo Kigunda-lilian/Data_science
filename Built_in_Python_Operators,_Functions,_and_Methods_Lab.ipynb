{
  "cells": [
    {
      "cell_type": "markdown",
      "metadata": {
        "id": "view-in-github",
        "colab_type": "text"
      },
      "source": [
        "<a href=\"https://colab.research.google.com/github/lilian-2021/DS/blob/main/Built_in_Python_Operators%2C_Functions%2C_and_Methods_Lab.ipynb\" target=\"_parent\"><img src=\"https://colab.research.google.com/assets/colab-badge.svg\" alt=\"Open In Colab\"/></a>"
      ]
    },
    {
      "cell_type": "markdown",
      "metadata": {
        "id": "IuDaOgLM3zNO"
      },
      "source": [
        "# Built-in Python Operators, Functions, and Methods - Lab\n",
        "\n",
        "## Introduction\n",
        "We've looked at some of the built-in methods, functions, and the operators in Python. These are all very powerful tools we can (and will) use in our code. Below, we'll put these new tools to use to solve the tests in this lab.\n",
        "\n",
        "## Objectives\n",
        "\n",
        "In this lab you will:\n",
        "\n",
        "* Use built-in Python functions and methods\n",
        "* Use comparison operators to compare objects\n",
        "* Use logical operators to incorporate multiple conditions\n",
        "* Use identity operators to confirm the identity of an object\n",
        "\n",
        "\n",
        "## Instructions\n",
        "\n",
        "Let's start by using some built-in functions and methods. Employ the appropriate functions and methods to get the intended result."
      ]
    },
    {
      "cell_type": "code",
      "execution_count": null,
      "metadata": {
        "id": "MEIJuOAn3zNk",
        "outputId": "f07d9042-ca6c-4800-87a3-1c294afa24ec"
      },
      "outputs": [
        {
          "data": {
            "text/plain": [
              "'HELLO, THERE'"
            ]
          },
          "execution_count": 10,
          "metadata": {},
          "output_type": "execute_result"
        }
      ],
      "source": [
        "# Desired output: \"HELLO, THERE\"\n",
        "yell_hello = \"hello, there\".upper()\n",
        "yell_hello"
      ]
    },
    {
      "cell_type": "code",
      "execution_count": null,
      "metadata": {
        "id": "LNcQkPwy3zN2",
        "outputId": "e1e7c1b3-dc2b-46ae-eb33-84e0e1ec0762"
      },
      "outputs": [
        {
          "data": {
            "text/plain": [
              "'psst, hey'"
            ]
          },
          "execution_count": 11,
          "metadata": {},
          "output_type": "execute_result"
        }
      ],
      "source": [
        "# Desired output: \"psst, hey\"\n",
        "whisper_hey = \"PSST, HEY\".lower()\n",
        "whisper_hey"
      ]
    },
    {
      "cell_type": "code",
      "execution_count": null,
      "metadata": {
        "id": "q8aBZcKG3zN5",
        "outputId": "f28f07dd-29eb-4424-f475-ff421910e172"
      },
      "outputs": [
        {
          "data": {
            "text/plain": [
              "'Learn. Love. Code.'"
            ]
          },
          "execution_count": 12,
          "metadata": {},
          "output_type": "execute_result"
        }
      ],
      "source": [
        "# Desired output: \"Learn. Love. Code\"\n",
        "flatiron_mantra = \"LEARN. LOVE. CODE.\".title()\n",
        "flatiron_mantra"
      ]
    },
    {
      "cell_type": "code",
      "execution_count": null,
      "metadata": {
        "id": "1FKEu90G3zN7",
        "outputId": "8e1c2d26-6583-43d7-e0b5-e5ebce2b2c67"
      },
      "outputs": [
        {
          "data": {
            "text/plain": [
              "str"
            ]
          },
          "execution_count": 13,
          "metadata": {},
          "output_type": "execute_result"
        }
      ],
      "source": [
        "# Desired output: str\n",
        "type_string = type(\"i'm a string\")\n",
        "\n",
        "type_string"
      ]
    },
    {
      "cell_type": "code",
      "execution_count": null,
      "metadata": {
        "id": "ajAijrJf3zN-",
        "outputId": "03d59f1e-952c-435c-c42d-8267c2e62d59"
      },
      "outputs": [
        {
          "data": {
            "text/plain": [
              "list"
            ]
          },
          "execution_count": 14,
          "metadata": {},
          "output_type": "execute_result"
        }
      ],
      "source": [
        "# Desired output: list\n",
        "type_list = type([\"i'm\", \"a\", \"list\"])\n",
        "type_list"
      ]
    },
    {
      "cell_type": "code",
      "execution_count": null,
      "metadata": {
        "id": "Dx2t3NZb3zOB",
        "outputId": "0fc960e7-bc76-4740-9acd-1ebc721aa6cb"
      },
      "outputs": [
        {
          "data": {
            "text/plain": [
              "3"
            ]
          },
          "execution_count": 15,
          "metadata": {},
          "output_type": "execute_result"
        }
      ],
      "source": [
        "# Desired output: 3\n",
        "length_of_list = len([\"i'm\", \"a\", \"list\"])\n",
        "length_of_list"
      ]
    },
    {
      "cell_type": "code",
      "execution_count": null,
      "metadata": {
        "id": "nWzhqPT23zOF",
        "outputId": "42c02659-1de5-466d-9be2-dfa2e4496dd0"
      },
      "outputs": [
        {
          "data": {
            "text/plain": [
              "'list'"
            ]
          },
          "execution_count": 16,
          "metadata": {},
          "output_type": "execute_result"
        }
      ],
      "source": [
        "# Desired output: \"list\"\n",
        "longest_word_in_list =max([\"i'm\", \"a\", \"list\"])\n",
        "longest_word_in_list"
      ]
    },
    {
      "cell_type": "code",
      "execution_count": null,
      "metadata": {
        "id": "YfTNrJyZ3zOI",
        "outputId": "68d2aa67-982f-4e91-a511-fe1930b5be22"
      },
      "outputs": [
        {
          "data": {
            "text/plain": [
              "1"
            ]
          },
          "execution_count": 17,
          "metadata": {},
          "output_type": "execute_result"
        }
      ],
      "source": [
        "# Desired output: 1\n",
        "smallest_number = min([1, 3, 4, 78])\n",
        "smallest_number"
      ]
    },
    {
      "cell_type": "code",
      "execution_count": null,
      "metadata": {
        "id": "zzlLs4Hi3zOK",
        "outputId": "cbbce9e2-d7a3-4e58-fbc4-426a2bf4c010"
      },
      "outputs": [
        {
          "data": {
            "text/plain": [
              "11"
            ]
          },
          "execution_count": 18,
          "metadata": {},
          "output_type": "execute_result"
        }
      ],
      "source": [
        "# Desired output: 11\n",
        "sum_of_numbers = sum([1, 2, 3, 5])\n",
        "sum_of_numbers"
      ]
    },
    {
      "cell_type": "markdown",
      "metadata": {
        "id": "3NLvOrlT3zON"
      },
      "source": [
        "Uncomment the code in each cell as you start working on them. For example, when you begin working on the first cell, remove `#` at the start of each line.  \n",
        "\n",
        "> **Note:** The `cmd+?` keyboard shortcut comments or uncomments a given line of code!\n",
        "\n",
        "Replace `[COMPARISON]`, with the correct comparison operator to get the desired output, which you will find as a comment at the end of each line. See the example below.\n",
        "\n",
        "```python\n",
        "# boolean_compare = False [COMPARISON] True # True\n",
        "=> boolean_compare = False != True # True\n",
        "OR\n",
        "=> boolean_compare = False != True\n",
        "```\n",
        "\n",
        "Once uncommented, you can check the output to see if your comparisons match the answers provided in the ending comments."
      ]
    },
    {
      "cell_type": "markdown",
      "metadata": {
        "id": "SkrFZyHN3zOO"
      },
      "source": [
        "> **Remember** the comparison operators are: `==`, `!=`, `<`, `>`, `<=`, `>=`"
      ]
    },
    {
      "cell_type": "code",
      "execution_count": null,
      "metadata": {
        "id": "p5rH79_P3zOP",
        "outputId": "cf2d040c-bb06-4ec4-f88f-fd5df09a49cb"
      },
      "outputs": [
        {
          "name": "stdout",
          "output_type": "stream",
          "text": [
            "False False\n"
          ]
        }
      ],
      "source": [
        " boolean_compare = True != True # False\n",
        "boolean_compare2 = False == True # False\n",
        " print(boolean_compare, boolean_compare2)"
      ]
    },
    {
      "cell_type": "code",
      "execution_count": null,
      "metadata": {
        "id": "NFqL07zJ3zOQ",
        "outputId": "c3f0d181-c6c9-49c5-b064-313b3d25db8e"
      },
      "outputs": [
        {
          "name": "stdout",
          "output_type": "stream",
          "text": [
            "True True False\n"
          ]
        }
      ],
      "source": [
        " number_compare = 10 == 10 # True\n",
        "number_compare2 = -20 != 30 # True\n",
        " number_compare3 = 4 > 5 # False\n",
        "print(number_compare, number_compare2, number_compare3)"
      ]
    },
    {
      "cell_type": "code",
      "execution_count": null,
      "metadata": {
        "id": "lGmbnxu53zOR",
        "outputId": "1be0f148-0e82-42a1-e687-4c5944dd9ee5"
      },
      "outputs": [
        {
          "name": "stdout",
          "output_type": "stream",
          "text": [
            "True False True\n"
          ]
        }
      ],
      "source": [
        " string_compare = \"stacy\" != \"STACY\" # True\n",
        " string_compare2 = \"hey i love python!\" == \"hi love python\" # False\n",
        " string_compare3 = \"this string is bigger than the other\" != \"that is true\" # True\n",
        " print(string_compare, string_compare2, string_compare3)"
      ]
    },
    {
      "cell_type": "markdown",
      "metadata": {
        "id": "u1bmMpp63zOT"
      },
      "source": [
        "In the next section, do not use either `==` or `!=` operators"
      ]
    },
    {
      "cell_type": "code",
      "execution_count": null,
      "metadata": {
        "scrolled": true,
        "id": "EKojRDZF3zOX",
        "outputId": "ae87db47-fa7c-4654-d0be-7fa3de14d520"
      },
      "outputs": [
        {
          "name": "stdout",
          "output_type": "stream",
          "text": [
            "True True False True True\n"
          ]
        }
      ],
      "source": [
        " list_compare = [0, 0, 0, 0] >= [0, 0, 0] # True\n",
        " list_compare2 = [1, 0, 0] >= [0, 0, 0] # True\n",
        " list_compare3 = [0, 0, 0] >= [0, 0, 3] # False\n",
        " list_compare4 = [0, 0, 3, 0] >= [0, 0, 3] # True\n",
        " list_compare5 = [0, 0, 4, 0] >= [0, 0, 3] # False\n",
        " print(list_compare, list_compare2, list_compare3, list_compare4, list_compare5)"
      ]
    },
    {
      "cell_type": "markdown",
      "metadata": {
        "id": "QWzAaDTj3zOZ"
      },
      "source": [
        "### Practicing Identity and Logical Operators"
      ]
    },
    {
      "cell_type": "markdown",
      "metadata": {
        "id": "B_J8_blr3zOa"
      },
      "source": [
        "In this next section, use the identity and logical operators to get the desired output as you did in the examples above using the comparison operators."
      ]
    },
    {
      "cell_type": "markdown",
      "metadata": {
        "id": "wBwWgMdx3zOb"
      },
      "source": [
        "> **Remember** the **logical operators** are `and`, `or`, & `not`; and the **identity operators** are `is` & `is not`"
      ]
    },
    {
      "cell_type": "markdown",
      "metadata": {
        "id": "CTQRNNP-3zOb"
      },
      "source": [
        "Use logical operators for this section"
      ]
    },
    {
      "cell_type": "code",
      "execution_count": null,
      "metadata": {
        "id": "5eVIZ_Vz3zOc",
        "outputId": "54cce0ba-ec99-47c4-e477-2cef93bba3fc"
      },
      "outputs": [
        {
          "name": "stdout",
          "output_type": "stream",
          "text": [
            "[] True 0 2 2 False False\n"
          ]
        }
      ],
      "source": [
        "logical_compare = 2 and [] # []\n",
        "logical_compare2 = not [] # True\n",
        "logical_compare3 = 0 and [] # 0\n",
        "logical_compare4 = True and 2 # 2\n",
        "logical_compare5 = 2 or 3 # 2\n",
        "logical_compare6 = not True # False\n",
        "logical_compare7 = False and 2 # False\n",
        "print(logical_compare, logical_compare2, logical_compare3, logical_compare4,\n",
        "       logical_compare5, logical_compare6, logical_compare7)"
      ]
    },
    {
      "cell_type": "markdown",
      "metadata": {
        "id": "AVo01Tib3zOd"
      },
      "source": [
        "Use identity operators for this section"
      ]
    },
    {
      "cell_type": "code",
      "execution_count": null,
      "metadata": {
        "id": "PW2_86M43zOe",
        "outputId": "e95353fe-0e19-4d4c-8a0c-644f39a8b757"
      },
      "outputs": [
        {
          "name": "stdout",
          "output_type": "stream",
          "text": [
            "False True True True False False\n"
          ]
        },
        {
          "name": "stderr",
          "output_type": "stream",
          "text": [
            "<>:6: SyntaxWarning: \"is not\" with a literal. Did you mean \"!=\"?\n",
            "<>:7: SyntaxWarning: \"is not\" with a literal. Did you mean \"!=\"?\n",
            "<>:6: SyntaxWarning: \"is not\" with a literal. Did you mean \"!=\"?\n",
            "<>:7: SyntaxWarning: \"is not\" with a literal. Did you mean \"!=\"?\n",
            "/tmp/ipykernel_75/3127574702.py:6: SyntaxWarning: \"is not\" with a literal. Did you mean \"!=\"?\n",
            "  identity_compare4 = 9 is not 10 # True\n",
            "/tmp/ipykernel_75/3127574702.py:7: SyntaxWarning: \"is not\" with a literal. Did you mean \"!=\"?\n",
            "  identity_compare5 = \"Same\" is not \"Same\" # False\n"
          ]
        }
      ],
      "source": [
        " a = []\n",
        " b = a\n",
        " identity_compare = {} is {} # False\n",
        " identity_compare2 = a is b # True\n",
        " identity_compare3 = b == [] # True\n",
        " identity_compare4 = 9 is not 10 # True\n",
        " identity_compare5 = \"Same\" is not \"Same\" # False\n",
        " identity_compare6 = [1,3,4] is [1,2,3] # False\n",
        " print(identity_compare, identity_compare2, identity_compare3,\n",
        "       identity_compare4, identity_compare5, identity_compare6)"
      ]
    },
    {
      "cell_type": "markdown",
      "metadata": {
        "id": "OIpI-7tx3zOg"
      },
      "source": [
        "## Summary\n",
        "Great work! After all that, there's nothing we can't compare. Well, I guess apples and oranges might still be off the table. We practiced using comparison, logical, and identity operators in Python to compare elements of the same and different datatypes and/or values. Going forward, there will be plenty of instances where we will need to compare elements. So, it is important to have a good understanding of how each of these operators works. Don't worry, as with all concepts in programming, the more we work with something the better we understand it."
      ]
    }
  ],
  "metadata": {
    "kernelspec": {
      "display_name": "saturn (Python 3)",
      "language": "python",
      "name": "python3"
    },
    "language_info": {
      "codemirror_mode": {
        "name": "ipython",
        "version": 3
      },
      "file_extension": ".py",
      "mimetype": "text/x-python",
      "name": "python",
      "nbconvert_exporter": "python",
      "pygments_lexer": "ipython3",
      "version": "3.10.6"
    },
    "toc": {
      "base_numbering": 1,
      "nav_menu": {},
      "number_sections": true,
      "sideBar": true,
      "skip_h1_title": false,
      "title_cell": "Table of Contents",
      "title_sidebar": "Contents",
      "toc_cell": false,
      "toc_position": {},
      "toc_section_display": true,
      "toc_window_display": false
    },
    "colab": {
      "provenance": [],
      "include_colab_link": true
    }
  },
  "nbformat": 4,
  "nbformat_minor": 0
}