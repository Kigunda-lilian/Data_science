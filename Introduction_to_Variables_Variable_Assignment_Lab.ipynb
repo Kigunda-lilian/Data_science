{
  "cells": [
    {
      "cell_type": "markdown",
      "metadata": {
        "id": "view-in-github",
        "colab_type": "text"
      },
      "source": [
        "<a href=\"https://colab.research.google.com/github/lilian-2021/-te/blob/main/Introduction_to_Variables_Variable_Assignment_Lab.ipynb\" target=\"_parent\"><img src=\"https://colab.research.google.com/assets/colab-badge.svg\" alt=\"Open In Colab\"/></a>"
      ]
    },
    {
      "cell_type": "markdown",
      "metadata": {
        "id": "RmT3MuXaUC2E"
      },
      "source": [
        "# Introduction to Variables: Variable Assignment - Lab"
      ]
    },
    {
      "cell_type": "markdown",
      "metadata": {
        "id": "4E-3f558UC3P"
      },
      "source": [
        "## Introduction\n",
        "Now that we know about variables, we want to put them to use by associating them with some data.  Here, we will be using variables to store information related to a vacation that we would like to go on.\n",
        "\n",
        "Just as before, we ask you to run the code and ensure that it matches what is commented out."
      ]
    },
    {
      "cell_type": "markdown",
      "metadata": {
        "id": "WC8NqxJuUC3Y"
      },
      "source": [
        "## Objectives\n",
        "\n",
        "You will be able to:\n",
        "\n",
        "* Assign and declare a python variable"
      ]
    },
    {
      "cell_type": "markdown",
      "metadata": {
        "id": "YaVAPQ3sUC3e"
      },
      "source": [
        "## Assigning variables"
      ]
    },
    {
      "cell_type": "markdown",
      "metadata": {
        "id": "io0SsPe9UC3g"
      },
      "source": [
        "Assign the string \"January\" to the variable `travel_month`, as that is the month we would like to travel."
      ]
    },
    {
      "cell_type": "code",
      "execution_count": null,
      "metadata": {
        "id": "NdB-2u8XUC3r"
      },
      "outputs": [],
      "source": [
        "travel_month = None"
      ]
    },
    {
      "cell_type": "code",
      "execution_count": null,
      "metadata": {
        "id": "wzL6ZPZ2UC4N",
        "outputId": "8bb7f342-3925-4ccb-e818-eadd6c426d3c"
      },
      "outputs": [
        {
          "data": {
            "text/plain": [
              "'January'"
            ]
          },
          "execution_count": 3,
          "metadata": {},
          "output_type": "execute_result"
        }
      ],
      "source": [
        "travel_month = \"January\"\n",
        "travel_month"
      ]
    },
    {
      "cell_type": "markdown",
      "metadata": {
        "id": "guNnf4TDUC4c"
      },
      "source": [
        "> We start by setting the variable equal to the data type None.  As we know, `None` represents the absence of a value. Now we can take care of assigning the variable to something other than `None`."
      ]
    },
    {
      "cell_type": "code",
      "execution_count": null,
      "metadata": {
        "id": "-lq1sm36UC6h",
        "outputId": "aec6e8ca-1d80-4d17-f3cb-965a7ba6fbc1"
      },
      "outputs": [
        {
          "data": {
            "text/plain": [
              "'January'"
            ]
          },
          "execution_count": 4,
          "metadata": {},
          "output_type": "execute_result"
        }
      ],
      "source": [
        "travel_month # \"January\""
      ]
    },
    {
      "cell_type": "markdown",
      "metadata": {
        "id": "BoH3yJVaUC62"
      },
      "source": [
        "Now let's assign a variable equal to the number of weeks that we would like to travel, 3."
      ]
    },
    {
      "cell_type": "code",
      "execution_count": null,
      "metadata": {
        "id": "xD_oxLiqUC7A"
      },
      "outputs": [],
      "source": [
        "number_of_weeks = None"
      ]
    },
    {
      "cell_type": "code",
      "execution_count": null,
      "metadata": {
        "id": "CG6l3reeUC7F"
      },
      "outputs": [],
      "source": [
        "number_of_weeks = 3"
      ]
    },
    {
      "cell_type": "markdown",
      "metadata": {
        "id": "hHIZxRUNUC7L"
      },
      "source": [
        "number_of_weeks = 3\n",
        "number_of_weeks"
      ]
    },
    {
      "cell_type": "markdown",
      "metadata": {
        "id": "K4TznzhGUC7V"
      },
      "source": []
    },
    {
      "cell_type": "code",
      "execution_count": null,
      "metadata": {
        "id": "72DNzmb_UC7W",
        "outputId": "e73bd188-64db-4d41-9afd-1927147e8840"
      },
      "outputs": [
        {
          "data": {
            "text/plain": [
              "3"
            ]
          },
          "execution_count": 9,
          "metadata": {},
          "output_type": "execute_result"
        }
      ],
      "source": [
        "number_of_weeks # 3"
      ]
    },
    {
      "cell_type": "code",
      "execution_count": null,
      "metadata": {
        "id": "_-YYo-qVUC7X",
        "outputId": "c3a19ddc-e380-4cc9-ccd8-0e73e272ac62"
      },
      "outputs": [
        {
          "data": {
            "text/plain": [
              "5"
            ]
          },
          "execution_count": 2,
          "metadata": {},
          "output_type": "execute_result"
        }
      ],
      "source": [
        "number_of_weeks = 5\n",
        "number_of_weeks"
      ]
    },
    {
      "cell_type": "markdown",
      "metadata": {
        "id": "tuGatQT9UC7a"
      },
      "source": [
        "UPDATE: we just learned that we can travel for a longer period of time. So, we need to reassign the `number_of_weeks` variable to 5."
      ]
    },
    {
      "cell_type": "code",
      "execution_count": null,
      "metadata": {
        "id": "F4Lj2nAOUC7d"
      },
      "outputs": [],
      "source": [
        "number_of_weeks # 5"
      ]
    },
    {
      "cell_type": "code",
      "execution_count": null,
      "metadata": {
        "id": "IHMqlff1UC7f",
        "outputId": "54018086-4da9-4ea7-814e-4acdc0beb1e3"
      },
      "outputs": [
        {
          "data": {
            "text/plain": [
              "'I will be travelling 3 weeks starting in the month ofJanuary'"
            ]
          },
          "execution_count": 17,
          "metadata": {},
          "output_type": "execute_result"
        }
      ],
      "source": [
        "\"I will be travelling\" + ' ' + str(number_of_weeks)+ ' ' + \"weeks starting in the month of\" + travel_month"
      ]
    },
    {
      "cell_type": "markdown",
      "metadata": {
        "id": "VG3C2NRlUC7o"
      },
      "source": [
        "Now that's more like it.\n",
        "\n",
        "Finally, let's create a string that uses both of these variables to tell us how many weeks we will be traveling in our travel month. The string should read `\"I will be traveling 5 weeks starting in the month of January\"`. The process of using one or more variables as placeholders within a larger string is called **string interpolation**.  Interpolate the `num_of_weeks` and `travel_month` to get the correct string.\n",
        "\n",
        "> **Remember:** We can interpolate strings in the following ways:\n",
        "* \"Start of string\" + variable_to_interpolate_1 + \"middle\" + variable_to_interpolate_2 + \"end of string\"\n",
        "* \"Start of string {variable_1} middle {variable_2} end of string\".format(variable_1=variable_to_interpolate, variable_2=variable_to_interpolate)\n",
        "* f\"Start of string {variable_to_interpolate_1} middle {variable_to_interpolate_2} end of string\""
      ]
    },
    {
      "cell_type": "code",
      "execution_count": null,
      "metadata": {
        "id": "YA74ShoxUC7p",
        "outputId": "208a26cc-3563-4fa9-e197-3161665217c2"
      },
      "outputs": [
        {
          "data": {
            "text/plain": [
              "'I will be travelling 3 weeks starting in the month ofJanuary'"
            ]
          },
          "execution_count": 21,
          "metadata": {},
          "output_type": "execute_result"
        }
      ],
      "source": [
        "\"I will be travelling {number_of_weeks} weeks starting in the month of{travel_month}\".format(number_of_weeks = 3,travel_month = 'January')"
      ]
    },
    {
      "cell_type": "code",
      "execution_count": null,
      "metadata": {
        "id": "HoyCUG9PUC7w",
        "outputId": "2922a4e5-6024-4253-e976-e00872501e7f"
      },
      "outputs": [
        {
          "data": {
            "text/plain": [
              "'I will be travelling 3 weeks starting in the month ofJanuary'"
            ]
          },
          "execution_count": 22,
          "metadata": {},
          "output_type": "execute_result"
        }
      ],
      "source": [
        "f\"I will be travelling {number_of_weeks} weeks starting in the month of{travel_month}\""
      ]
    },
    {
      "cell_type": "code",
      "execution_count": null,
      "metadata": {
        "id": "s58BlPbYUC7z"
      },
      "outputs": [],
      "source": [
        "traveling_schedule = None"
      ]
    },
    {
      "cell_type": "markdown",
      "metadata": {
        "id": "LnF6l4OLUC70"
      },
      "source": [
        "### Summary"
      ]
    },
    {
      "cell_type": "markdown",
      "metadata": {
        "id": "U_LUpY25UC7-"
      },
      "source": [
        "Great! In this lab, we were able to get some more practice with storing information in variables through assignment and reassignment."
      ]
    }
  ],
  "metadata": {
    "kernelspec": {
      "display_name": "saturn (Python 3)",
      "language": "python",
      "name": "python3"
    },
    "language_info": {
      "codemirror_mode": {
        "name": "ipython",
        "version": 3
      },
      "file_extension": ".py",
      "mimetype": "text/x-python",
      "name": "python",
      "nbconvert_exporter": "python",
      "pygments_lexer": "ipython3",
      "version": "3.10.6"
    },
    "colab": {
      "provenance": [],
      "include_colab_link": true
    }
  },
  "nbformat": 4,
  "nbformat_minor": 0
}