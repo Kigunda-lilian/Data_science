{
  "nbformat": 4,
  "nbformat_minor": 0,
  "metadata": {
    "colab": {
      "provenance": [],
      "include_colab_link": true
    },
    "kernelspec": {
      "name": "python3",
      "display_name": "Python 3"
    },
    "language_info": {
      "name": "python"
    }
  },
  "cells": [
    {
      "cell_type": "markdown",
      "metadata": {
        "id": "view-in-github",
        "colab_type": "text"
      },
      "source": [
        "<a href=\"https://colab.research.google.com/github/lilian-2021/DS/blob/main/SQL_LECTURE.ipynb\" target=\"_parent\"><img src=\"https://colab.research.google.com/assets/colab-badge.svg\" alt=\"Open In Colab\"/></a>"
      ]
    },
    {
      "cell_type": "code",
      "execution_count": null,
      "metadata": {
        "id": "gws7mE3xp_tE"
      },
      "outputs": [],
      "source": [
        "import sqlite3"
      ]
    },
    {
      "cell_type": "code",
      "source": [
        "!ls"
      ],
      "metadata": {
        "colab": {
          "base_uri": "https://localhost:8080/"
        },
        "id": "0eFAgb_EqF8V",
        "outputId": "c36df786-b66e-4a31-f395-00f0c0d97ea8"
      },
      "execution_count": null,
      "outputs": [
        {
          "output_type": "stream",
          "name": "stdout",
          "text": [
            "flight.db  flights.db  sample_data\n"
          ]
        }
      ]
    },
    {
      "cell_type": "code",
      "source": [
        "con = sqlite3.connect(\"flights.db\")"
      ],
      "metadata": {
        "id": "BjrBwQ7zsH0s"
      },
      "execution_count": null,
      "outputs": []
    },
    {
      "cell_type": "code",
      "source": [
        "cursor = con.cursor()"
      ],
      "metadata": {
        "id": "YVzd_p95sjbD"
      },
      "execution_count": null,
      "outputs": []
    },
    {
      "cell_type": "code",
      "source": [
        "tables_query = \"\"\"\n",
        "SELECT * from sqlite_master\n",
        "WHERE type='table';\"\"\"\n",
        "cursor.execute(tables_query)"
      ],
      "metadata": {
        "colab": {
          "base_uri": "https://localhost:8080/"
        },
        "id": "3QI6og-wyGe0",
        "outputId": "64d77e18-0f26-4c6c-e277-bf46ac3f3913"
      },
      "execution_count": null,
      "outputs": [
        {
          "output_type": "execute_result",
          "data": {
            "text/plain": [
              "<sqlite3.Cursor at 0x7fe45e4e3740>"
            ]
          },
          "metadata": {},
          "execution_count": 29
        }
      ]
    },
    {
      "cell_type": "code",
      "source": [
        "tables = [i[1]for i in cursor.fetchall()]\n",
        "print(tables)"
      ],
      "metadata": {
        "colab": {
          "base_uri": "https://localhost:8080/"
        },
        "id": "QOdiZKO7yDhU",
        "outputId": "60763577-cd23-4b8f-a262-2653cee9f31a"
      },
      "execution_count": null,
      "outputs": [
        {
          "output_type": "stream",
          "name": "stdout",
          "text": [
            "['airports', 'airlines', 'routes']\n"
          ]
        }
      ]
    },
    {
      "cell_type": "code",
      "source": [
        "airports_query = \\\n",
        "\"\"\"\n",
        "SELECT *\n",
        "FROM airports\n",
        "\"\"\""
      ],
      "metadata": {
        "id": "ZbYtmzo7vla4"
      },
      "execution_count": null,
      "outputs": []
    },
    {
      "cell_type": "code",
      "source": [
        "import pandas as pd\n",
        "airports_df = pd.read_sql(airports_query, con)\n",
        "airports_df.head()"
      ],
      "metadata": {
        "colab": {
          "base_uri": "https://localhost:8080/",
          "height": 461
        },
        "id": "an5gW-C6tOIS",
        "outputId": "ec30d467-516d-4145-f39d-d590a7f25e53"
      },
      "execution_count": null,
      "outputs": [
        {
          "output_type": "execute_result",
          "data": {
            "text/plain": [
              "   index id                        name          city           country code  \\\n",
              "0      0  1                      Goroka        Goroka  Papua New Guinea  GKA   \n",
              "1      1  2                      Madang        Madang  Papua New Guinea  MAG   \n",
              "2      2  3                 Mount Hagen   Mount Hagen  Papua New Guinea  HGU   \n",
              "3      3  4                      Nadzab        Nadzab  Papua New Guinea  LAE   \n",
              "4      4  5  Port Moresby Jacksons Intl  Port Moresby  Papua New Guinea  POM   \n",
              "\n",
              "   icao   latitude   longitude altitude offset dst              timezone  \n",
              "0  AYGA  -6.081689  145.391881     5282     10   U  Pacific/Port_Moresby  \n",
              "1  AYMD  -5.207083    145.7887       20     10   U  Pacific/Port_Moresby  \n",
              "2  AYMH  -5.826789  144.295861     5388     10   U  Pacific/Port_Moresby  \n",
              "3  AYNZ  -6.569828  146.726242      239     10   U  Pacific/Port_Moresby  \n",
              "4  AYPY  -9.443383   147.22005      146     10   U  Pacific/Port_Moresby  "
            ],
            "text/html": [
              "\n",
              "  <div id=\"df-a210ddf8-a729-4cb2-b2e4-0c8d7232ec4e\">\n",
              "    <div class=\"colab-df-container\">\n",
              "      <div>\n",
              "<style scoped>\n",
              "    .dataframe tbody tr th:only-of-type {\n",
              "        vertical-align: middle;\n",
              "    }\n",
              "\n",
              "    .dataframe tbody tr th {\n",
              "        vertical-align: top;\n",
              "    }\n",
              "\n",
              "    .dataframe thead th {\n",
              "        text-align: right;\n",
              "    }\n",
              "</style>\n",
              "<table border=\"1\" class=\"dataframe\">\n",
              "  <thead>\n",
              "    <tr style=\"text-align: right;\">\n",
              "      <th></th>\n",
              "      <th>index</th>\n",
              "      <th>id</th>\n",
              "      <th>name</th>\n",
              "      <th>city</th>\n",
              "      <th>country</th>\n",
              "      <th>code</th>\n",
              "      <th>icao</th>\n",
              "      <th>latitude</th>\n",
              "      <th>longitude</th>\n",
              "      <th>altitude</th>\n",
              "      <th>offset</th>\n",
              "      <th>dst</th>\n",
              "      <th>timezone</th>\n",
              "    </tr>\n",
              "  </thead>\n",
              "  <tbody>\n",
              "    <tr>\n",
              "      <th>0</th>\n",
              "      <td>0</td>\n",
              "      <td>1</td>\n",
              "      <td>Goroka</td>\n",
              "      <td>Goroka</td>\n",
              "      <td>Papua New Guinea</td>\n",
              "      <td>GKA</td>\n",
              "      <td>AYGA</td>\n",
              "      <td>-6.081689</td>\n",
              "      <td>145.391881</td>\n",
              "      <td>5282</td>\n",
              "      <td>10</td>\n",
              "      <td>U</td>\n",
              "      <td>Pacific/Port_Moresby</td>\n",
              "    </tr>\n",
              "    <tr>\n",
              "      <th>1</th>\n",
              "      <td>1</td>\n",
              "      <td>2</td>\n",
              "      <td>Madang</td>\n",
              "      <td>Madang</td>\n",
              "      <td>Papua New Guinea</td>\n",
              "      <td>MAG</td>\n",
              "      <td>AYMD</td>\n",
              "      <td>-5.207083</td>\n",
              "      <td>145.7887</td>\n",
              "      <td>20</td>\n",
              "      <td>10</td>\n",
              "      <td>U</td>\n",
              "      <td>Pacific/Port_Moresby</td>\n",
              "    </tr>\n",
              "    <tr>\n",
              "      <th>2</th>\n",
              "      <td>2</td>\n",
              "      <td>3</td>\n",
              "      <td>Mount Hagen</td>\n",
              "      <td>Mount Hagen</td>\n",
              "      <td>Papua New Guinea</td>\n",
              "      <td>HGU</td>\n",
              "      <td>AYMH</td>\n",
              "      <td>-5.826789</td>\n",
              "      <td>144.295861</td>\n",
              "      <td>5388</td>\n",
              "      <td>10</td>\n",
              "      <td>U</td>\n",
              "      <td>Pacific/Port_Moresby</td>\n",
              "    </tr>\n",
              "    <tr>\n",
              "      <th>3</th>\n",
              "      <td>3</td>\n",
              "      <td>4</td>\n",
              "      <td>Nadzab</td>\n",
              "      <td>Nadzab</td>\n",
              "      <td>Papua New Guinea</td>\n",
              "      <td>LAE</td>\n",
              "      <td>AYNZ</td>\n",
              "      <td>-6.569828</td>\n",
              "      <td>146.726242</td>\n",
              "      <td>239</td>\n",
              "      <td>10</td>\n",
              "      <td>U</td>\n",
              "      <td>Pacific/Port_Moresby</td>\n",
              "    </tr>\n",
              "    <tr>\n",
              "      <th>4</th>\n",
              "      <td>4</td>\n",
              "      <td>5</td>\n",
              "      <td>Port Moresby Jacksons Intl</td>\n",
              "      <td>Port Moresby</td>\n",
              "      <td>Papua New Guinea</td>\n",
              "      <td>POM</td>\n",
              "      <td>AYPY</td>\n",
              "      <td>-9.443383</td>\n",
              "      <td>147.22005</td>\n",
              "      <td>146</td>\n",
              "      <td>10</td>\n",
              "      <td>U</td>\n",
              "      <td>Pacific/Port_Moresby</td>\n",
              "    </tr>\n",
              "  </tbody>\n",
              "</table>\n",
              "</div>\n",
              "      <button class=\"colab-df-convert\" onclick=\"convertToInteractive('df-a210ddf8-a729-4cb2-b2e4-0c8d7232ec4e')\"\n",
              "              title=\"Convert this dataframe to an interactive table.\"\n",
              "              style=\"display:none;\">\n",
              "        \n",
              "  <svg xmlns=\"http://www.w3.org/2000/svg\" height=\"24px\"viewBox=\"0 0 24 24\"\n",
              "       width=\"24px\">\n",
              "    <path d=\"M0 0h24v24H0V0z\" fill=\"none\"/>\n",
              "    <path d=\"M18.56 5.44l.94 2.06.94-2.06 2.06-.94-2.06-.94-.94-2.06-.94 2.06-2.06.94zm-11 1L8.5 8.5l.94-2.06 2.06-.94-2.06-.94L8.5 2.5l-.94 2.06-2.06.94zm10 10l.94 2.06.94-2.06 2.06-.94-2.06-.94-.94-2.06-.94 2.06-2.06.94z\"/><path d=\"M17.41 7.96l-1.37-1.37c-.4-.4-.92-.59-1.43-.59-.52 0-1.04.2-1.43.59L10.3 9.45l-7.72 7.72c-.78.78-.78 2.05 0 2.83L4 21.41c.39.39.9.59 1.41.59.51 0 1.02-.2 1.41-.59l7.78-7.78 2.81-2.81c.8-.78.8-2.07 0-2.86zM5.41 20L4 18.59l7.72-7.72 1.47 1.35L5.41 20z\"/>\n",
              "  </svg>\n",
              "      </button>\n",
              "      \n",
              "  <style>\n",
              "    .colab-df-container {\n",
              "      display:flex;\n",
              "      flex-wrap:wrap;\n",
              "      gap: 12px;\n",
              "    }\n",
              "\n",
              "    .colab-df-convert {\n",
              "      background-color: #E8F0FE;\n",
              "      border: none;\n",
              "      border-radius: 50%;\n",
              "      cursor: pointer;\n",
              "      display: none;\n",
              "      fill: #1967D2;\n",
              "      height: 32px;\n",
              "      padding: 0 0 0 0;\n",
              "      width: 32px;\n",
              "    }\n",
              "\n",
              "    .colab-df-convert:hover {\n",
              "      background-color: #E2EBFA;\n",
              "      box-shadow: 0px 1px 2px rgba(60, 64, 67, 0.3), 0px 1px 3px 1px rgba(60, 64, 67, 0.15);\n",
              "      fill: #174EA6;\n",
              "    }\n",
              "\n",
              "    [theme=dark] .colab-df-convert {\n",
              "      background-color: #3B4455;\n",
              "      fill: #D2E3FC;\n",
              "    }\n",
              "\n",
              "    [theme=dark] .colab-df-convert:hover {\n",
              "      background-color: #434B5C;\n",
              "      box-shadow: 0px 1px 3px 1px rgba(0, 0, 0, 0.15);\n",
              "      filter: drop-shadow(0px 1px 2px rgba(0, 0, 0, 0.3));\n",
              "      fill: #FFFFFF;\n",
              "    }\n",
              "  </style>\n",
              "\n",
              "      <script>\n",
              "        const buttonEl =\n",
              "          document.querySelector('#df-a210ddf8-a729-4cb2-b2e4-0c8d7232ec4e button.colab-df-convert');\n",
              "        buttonEl.style.display =\n",
              "          google.colab.kernel.accessAllowed ? 'block' : 'none';\n",
              "\n",
              "        async function convertToInteractive(key) {\n",
              "          const element = document.querySelector('#df-a210ddf8-a729-4cb2-b2e4-0c8d7232ec4e');\n",
              "          const dataTable =\n",
              "            await google.colab.kernel.invokeFunction('convertToInteractive',\n",
              "                                                     [key], {});\n",
              "          if (!dataTable) return;\n",
              "\n",
              "          const docLinkHtml = 'Like what you see? Visit the ' +\n",
              "            '<a target=\"_blank\" href=https://colab.research.google.com/notebooks/data_table.ipynb>data table notebook</a>'\n",
              "            + ' to learn more about interactive tables.';\n",
              "          element.innerHTML = '';\n",
              "          dataTable['output_type'] = 'display_data';\n",
              "          await google.colab.output.renderOutput(dataTable, element);\n",
              "          const docLink = document.createElement('div');\n",
              "          docLink.innerHTML = docLinkHtml;\n",
              "          element.appendChild(docLink);\n",
              "        }\n",
              "      </script>\n",
              "    </div>\n",
              "  </div>\n",
              "  "
            ]
          },
          "metadata": {},
          "execution_count": 32
        }
      ]
    },
    {
      "cell_type": "code",
      "source": [
        "airlines_query = \\\n",
        "\"\"\"\n",
        "SELECT *\n",
        "FROM airlines\n",
        "\"\"\""
      ],
      "metadata": {
        "id": "_HfPXf1rvgzU"
      },
      "execution_count": null,
      "outputs": []
    },
    {
      "cell_type": "code",
      "source": [
        "airlines_df = pd.read_sql(airlines_query, con)\n",
        "airlines_df.head()"
      ],
      "metadata": {
        "colab": {
          "base_uri": "https://localhost:8080/",
          "height": 268
        },
        "id": "OVdWpq2pvuHJ",
        "outputId": "f8fa8517-8fb8-4352-9905-17a5882432ac"
      },
      "execution_count": null,
      "outputs": [
        {
          "output_type": "execute_result",
          "data": {
            "text/plain": [
              "   index id                                          name alias  iata  icao  \\\n",
              "0      0  1                                Private flight    \\N     -  None   \n",
              "1      1  2                                   135 Airways    \\N  None   GNL   \n",
              "2      2  3                                 1Time Airline    \\N    1T   RNX   \n",
              "3      3  4  2 Sqn No 1 Elementary Flying Training School    \\N  None   WYT   \n",
              "4      4  5                               213 Flight Unit    \\N  None   TFU   \n",
              "\n",
              "  callsign         country active  \n",
              "0     None            None      Y  \n",
              "1  GENERAL   United States      N  \n",
              "2  NEXTIME    South Africa      Y  \n",
              "3     None  United Kingdom      N  \n",
              "4     None          Russia      N  "
            ],
            "text/html": [
              "\n",
              "  <div id=\"df-cbd86a54-53f8-4dc9-a148-7373f590ec58\">\n",
              "    <div class=\"colab-df-container\">\n",
              "      <div>\n",
              "<style scoped>\n",
              "    .dataframe tbody tr th:only-of-type {\n",
              "        vertical-align: middle;\n",
              "    }\n",
              "\n",
              "    .dataframe tbody tr th {\n",
              "        vertical-align: top;\n",
              "    }\n",
              "\n",
              "    .dataframe thead th {\n",
              "        text-align: right;\n",
              "    }\n",
              "</style>\n",
              "<table border=\"1\" class=\"dataframe\">\n",
              "  <thead>\n",
              "    <tr style=\"text-align: right;\">\n",
              "      <th></th>\n",
              "      <th>index</th>\n",
              "      <th>id</th>\n",
              "      <th>name</th>\n",
              "      <th>alias</th>\n",
              "      <th>iata</th>\n",
              "      <th>icao</th>\n",
              "      <th>callsign</th>\n",
              "      <th>country</th>\n",
              "      <th>active</th>\n",
              "    </tr>\n",
              "  </thead>\n",
              "  <tbody>\n",
              "    <tr>\n",
              "      <th>0</th>\n",
              "      <td>0</td>\n",
              "      <td>1</td>\n",
              "      <td>Private flight</td>\n",
              "      <td>\\N</td>\n",
              "      <td>-</td>\n",
              "      <td>None</td>\n",
              "      <td>None</td>\n",
              "      <td>None</td>\n",
              "      <td>Y</td>\n",
              "    </tr>\n",
              "    <tr>\n",
              "      <th>1</th>\n",
              "      <td>1</td>\n",
              "      <td>2</td>\n",
              "      <td>135 Airways</td>\n",
              "      <td>\\N</td>\n",
              "      <td>None</td>\n",
              "      <td>GNL</td>\n",
              "      <td>GENERAL</td>\n",
              "      <td>United States</td>\n",
              "      <td>N</td>\n",
              "    </tr>\n",
              "    <tr>\n",
              "      <th>2</th>\n",
              "      <td>2</td>\n",
              "      <td>3</td>\n",
              "      <td>1Time Airline</td>\n",
              "      <td>\\N</td>\n",
              "      <td>1T</td>\n",
              "      <td>RNX</td>\n",
              "      <td>NEXTIME</td>\n",
              "      <td>South Africa</td>\n",
              "      <td>Y</td>\n",
              "    </tr>\n",
              "    <tr>\n",
              "      <th>3</th>\n",
              "      <td>3</td>\n",
              "      <td>4</td>\n",
              "      <td>2 Sqn No 1 Elementary Flying Training School</td>\n",
              "      <td>\\N</td>\n",
              "      <td>None</td>\n",
              "      <td>WYT</td>\n",
              "      <td>None</td>\n",
              "      <td>United Kingdom</td>\n",
              "      <td>N</td>\n",
              "    </tr>\n",
              "    <tr>\n",
              "      <th>4</th>\n",
              "      <td>4</td>\n",
              "      <td>5</td>\n",
              "      <td>213 Flight Unit</td>\n",
              "      <td>\\N</td>\n",
              "      <td>None</td>\n",
              "      <td>TFU</td>\n",
              "      <td>None</td>\n",
              "      <td>Russia</td>\n",
              "      <td>N</td>\n",
              "    </tr>\n",
              "  </tbody>\n",
              "</table>\n",
              "</div>\n",
              "      <button class=\"colab-df-convert\" onclick=\"convertToInteractive('df-cbd86a54-53f8-4dc9-a148-7373f590ec58')\"\n",
              "              title=\"Convert this dataframe to an interactive table.\"\n",
              "              style=\"display:none;\">\n",
              "        \n",
              "  <svg xmlns=\"http://www.w3.org/2000/svg\" height=\"24px\"viewBox=\"0 0 24 24\"\n",
              "       width=\"24px\">\n",
              "    <path d=\"M0 0h24v24H0V0z\" fill=\"none\"/>\n",
              "    <path d=\"M18.56 5.44l.94 2.06.94-2.06 2.06-.94-2.06-.94-.94-2.06-.94 2.06-2.06.94zm-11 1L8.5 8.5l.94-2.06 2.06-.94-2.06-.94L8.5 2.5l-.94 2.06-2.06.94zm10 10l.94 2.06.94-2.06 2.06-.94-2.06-.94-.94-2.06-.94 2.06-2.06.94z\"/><path d=\"M17.41 7.96l-1.37-1.37c-.4-.4-.92-.59-1.43-.59-.52 0-1.04.2-1.43.59L10.3 9.45l-7.72 7.72c-.78.78-.78 2.05 0 2.83L4 21.41c.39.39.9.59 1.41.59.51 0 1.02-.2 1.41-.59l7.78-7.78 2.81-2.81c.8-.78.8-2.07 0-2.86zM5.41 20L4 18.59l7.72-7.72 1.47 1.35L5.41 20z\"/>\n",
              "  </svg>\n",
              "      </button>\n",
              "      \n",
              "  <style>\n",
              "    .colab-df-container {\n",
              "      display:flex;\n",
              "      flex-wrap:wrap;\n",
              "      gap: 12px;\n",
              "    }\n",
              "\n",
              "    .colab-df-convert {\n",
              "      background-color: #E8F0FE;\n",
              "      border: none;\n",
              "      border-radius: 50%;\n",
              "      cursor: pointer;\n",
              "      display: none;\n",
              "      fill: #1967D2;\n",
              "      height: 32px;\n",
              "      padding: 0 0 0 0;\n",
              "      width: 32px;\n",
              "    }\n",
              "\n",
              "    .colab-df-convert:hover {\n",
              "      background-color: #E2EBFA;\n",
              "      box-shadow: 0px 1px 2px rgba(60, 64, 67, 0.3), 0px 1px 3px 1px rgba(60, 64, 67, 0.15);\n",
              "      fill: #174EA6;\n",
              "    }\n",
              "\n",
              "    [theme=dark] .colab-df-convert {\n",
              "      background-color: #3B4455;\n",
              "      fill: #D2E3FC;\n",
              "    }\n",
              "\n",
              "    [theme=dark] .colab-df-convert:hover {\n",
              "      background-color: #434B5C;\n",
              "      box-shadow: 0px 1px 3px 1px rgba(0, 0, 0, 0.15);\n",
              "      filter: drop-shadow(0px 1px 2px rgba(0, 0, 0, 0.3));\n",
              "      fill: #FFFFFF;\n",
              "    }\n",
              "  </style>\n",
              "\n",
              "      <script>\n",
              "        const buttonEl =\n",
              "          document.querySelector('#df-cbd86a54-53f8-4dc9-a148-7373f590ec58 button.colab-df-convert');\n",
              "        buttonEl.style.display =\n",
              "          google.colab.kernel.accessAllowed ? 'block' : 'none';\n",
              "\n",
              "        async function convertToInteractive(key) {\n",
              "          const element = document.querySelector('#df-cbd86a54-53f8-4dc9-a148-7373f590ec58');\n",
              "          const dataTable =\n",
              "            await google.colab.kernel.invokeFunction('convertToInteractive',\n",
              "                                                     [key], {});\n",
              "          if (!dataTable) return;\n",
              "\n",
              "          const docLinkHtml = 'Like what you see? Visit the ' +\n",
              "            '<a target=\"_blank\" href=https://colab.research.google.com/notebooks/data_table.ipynb>data table notebook</a>'\n",
              "            + ' to learn more about interactive tables.';\n",
              "          element.innerHTML = '';\n",
              "          dataTable['output_type'] = 'display_data';\n",
              "          await google.colab.output.renderOutput(dataTable, element);\n",
              "          const docLink = document.createElement('div');\n",
              "          docLink.innerHTML = docLinkHtml;\n",
              "          element.appendChild(docLink);\n",
              "        }\n",
              "      </script>\n",
              "    </div>\n",
              "  </div>\n",
              "  "
            ]
          },
          "metadata": {},
          "execution_count": 35
        }
      ]
    },
    {
      "cell_type": "code",
      "source": [
        "airlines_df.info()"
      ],
      "metadata": {
        "colab": {
          "base_uri": "https://localhost:8080/"
        },
        "id": "IM6sWu94Awvh",
        "outputId": "25e4be8d-cfbf-42a2-916e-4116bb1d8364"
      },
      "execution_count": null,
      "outputs": [
        {
          "output_type": "stream",
          "name": "stdout",
          "text": [
            "<class 'pandas.core.frame.DataFrame'>\n",
            "RangeIndex: 6048 entries, 0 to 6047\n",
            "Data columns (total 9 columns):\n",
            " #   Column    Non-Null Count  Dtype \n",
            "---  ------    --------------  ----- \n",
            " 0   index     6048 non-null   int64 \n",
            " 1   id        6048 non-null   object\n",
            " 2   name      6048 non-null   object\n",
            " 3   alias     5615 non-null   object\n",
            " 4   iata      1461 non-null   object\n",
            " 5   icao      5961 non-null   object\n",
            " 6   callsign  5305 non-null   object\n",
            " 7   country   6033 non-null   object\n",
            " 8   active    6048 non-null   object\n",
            "dtypes: int64(1), object(8)\n",
            "memory usage: 425.4+ KB\n"
          ]
        }
      ]
    },
    {
      "cell_type": "code",
      "source": [],
      "metadata": {
        "id": "FEbYIuh8BTYV"
      },
      "execution_count": null,
      "outputs": []
    }
  ]
}