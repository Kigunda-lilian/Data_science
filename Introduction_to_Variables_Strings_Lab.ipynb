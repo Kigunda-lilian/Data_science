{
  "cells": [
    {
      "cell_type": "markdown",
      "metadata": {
        "id": "view-in-github",
        "colab_type": "text"
      },
      "source": [
        "<a href=\"https://colab.research.google.com/github/lilian-2021/-te/blob/main/Introduction_to_Variables_Strings_Lab.ipynb\" target=\"_parent\"><img src=\"https://colab.research.google.com/assets/colab-badge.svg\" alt=\"Open In Colab\"/></a>"
      ]
    },
    {
      "cell_type": "markdown",
      "metadata": {
        "id": "NLclcJcHVd3k"
      },
      "source": [
        "# Introduction to Variables: Strings - Lab"
      ]
    },
    {
      "cell_type": "markdown",
      "metadata": {
        "id": "EaZxMH9lVd4h"
      },
      "source": [
        "## Introduction\n",
        "Okay, we have learned about our first data type, the String! Now let's do a little practice with strings. We'll use the methods and functions we introduced in the previous lesson to flex our string-manipulating muscles!"
      ]
    },
    {
      "cell_type": "markdown",
      "metadata": {
        "id": "rjjZsTmSVd4n"
      },
      "source": [
        "## Objectives\n",
        "\n",
        "You will be able to:\n",
        "\n",
        "* Apply string methods to make changes to a string\n",
        "* Use concatenation to combine strings"
      ]
    },
    {
      "cell_type": "markdown",
      "metadata": {
        "id": "0Avf7iFrVd4w"
      },
      "source": [
        "## Instructions\n",
        "\n",
        "Follow the steps below to manipulate the strings and assign the values to the variables below.\n",
        "\n",
        "**1.** Below, we have a sentence whose cases are all over the place. Let's normalize the cases and make everything lower case except the first letter in the sentence. **hint:** *there is a string method that does this*"
      ]
    },
    {
      "cell_type": "code",
      "execution_count": null,
      "metadata": {
        "id": "hGV47uegVd4y",
        "outputId": "27a0fa75-14ab-4b3b-c241-93bebcb5d25e"
      },
      "outputs": [
        {
          "data": {
            "text/plain": [
              "'woW WE LOVE cOdInG and strINGS!'"
            ]
          },
          "execution_count": 2,
          "metadata": {},
          "output_type": "execute_result"
        }
      ],
      "source": [
        "sentence = \"woW WE LOVE cOdInG and strINGS!\"\n",
        "sentence"
      ]
    },
    {
      "cell_type": "code",
      "execution_count": null,
      "metadata": {
        "id": "FqMKfiDAVd49",
        "outputId": "35b28b09-08b8-46ee-dfbc-47500ebc87b8"
      },
      "outputs": [
        {
          "data": {
            "text/plain": [
              "'Wow we love coding and strings!'"
            ]
          },
          "execution_count": 3,
          "metadata": {},
          "output_type": "execute_result"
        }
      ],
      "source": [
        "sentence.capitalize()"
      ]
    },
    {
      "cell_type": "code",
      "execution_count": null,
      "metadata": {
        "id": "e45OXVCnVd4_",
        "outputId": "a38215c2-a302-42d8-bbc3-afcdd1a86535"
      },
      "outputs": [
        {
          "data": {
            "text/plain": [
              "'Wow We Love Coding And Strings!'"
            ]
          },
          "execution_count": 4,
          "metadata": {},
          "output_type": "execute_result"
        }
      ],
      "source": [
        "sentence.title()"
      ]
    },
    {
      "cell_type": "code",
      "execution_count": null,
      "metadata": {
        "id": "ZNrfzy9bVd5D",
        "outputId": "cc204140-acfb-4c70-9f64-9b49e8084bb3"
      },
      "outputs": [
        {
          "data": {
            "text/plain": [
              "'Wow we love coding and strings!'"
            ]
          },
          "execution_count": 4,
          "metadata": {},
          "output_type": "execute_result"
        }
      ],
      "source": [
        "sentence.capitalize()"
      ]
    },
    {
      "cell_type": "markdown",
      "metadata": {
        "id": "aa68gxB4Vd5H"
      },
      "source": [
        "**2.** Next, we have our Flatiron mantra, but it's not in title case like it should be! Let's fix that and use another string method that makes all strings first letter capitalized."
      ]
    },
    {
      "cell_type": "code",
      "execution_count": null,
      "metadata": {
        "id": "FpGAZ313Vd5L",
        "outputId": "9c15f8b2-bab1-4d29-e00a-9fbe9f734549"
      },
      "outputs": [
        {
          "data": {
            "text/plain": [
              "'learn. love. code.'"
            ]
          },
          "execution_count": 5,
          "metadata": {},
          "output_type": "execute_result"
        }
      ],
      "source": [
        "flatiron_mantra = \"learn. love. code.\"\n",
        "flatiron_mantra"
      ]
    },
    {
      "cell_type": "code",
      "execution_count": null,
      "metadata": {
        "id": "JUNMYakPVd5O",
        "outputId": "eb739824-2ed8-4337-c1b4-af14c74b5db9"
      },
      "outputs": [
        {
          "data": {
            "text/plain": [
              "'Learn. Love. Code.'"
            ]
          },
          "execution_count": 6,
          "metadata": {},
          "output_type": "execute_result"
        }
      ],
      "source": [
        "flatiron_mantra.title()"
      ]
    },
    {
      "cell_type": "markdown",
      "metadata": {
        "id": "InVPuq0kVd5Q"
      },
      "source": [
        "**3.** The next thing we want to do is practice turning other data types into strings. Below, we have a number `1234`, which happens to be our street number in our address, which is a string. So, let's turn the number into a string so we can eventually add it to our address. The process of linking different strings together is called **concatenation**."
      ]
    },
    {
      "cell_type": "code",
      "execution_count": null,
      "metadata": {
        "id": "BhkGCDMKVd5R",
        "outputId": "546a8b90-3bfd-4e56-b1e8-cc799a7899d7"
      },
      "outputs": [
        {
          "data": {
            "text/plain": [
              "1234"
            ]
          },
          "execution_count": 6,
          "metadata": {},
          "output_type": "execute_result"
        }
      ],
      "source": [
        "num_to_string = 1234\n",
        "num_to_string"
      ]
    },
    {
      "cell_type": "code",
      "execution_count": null,
      "metadata": {
        "id": "bTMvcSfUVd5S",
        "outputId": "dc968d4a-9bc0-402d-ef4f-5d83ea9d87fd"
      },
      "outputs": [
        {
          "data": {
            "text/plain": [
              "str"
            ]
          },
          "execution_count": 10,
          "metadata": {},
          "output_type": "execute_result"
        }
      ],
      "source": [
        "num_to_string = str(num_to_string)\n",
        "type(num_to_string)"
      ]
    },
    {
      "cell_type": "markdown",
      "metadata": {
        "id": "42oehlgCVd5U"
      },
      "source": [
        "**4.** Let's take the `num_to_string` and add it to the beginning of our street address below. We need to concatenate the variable to the beginning of our string so that we have our full address all in one string and assigned to the variable `full_address`. **hint:** `None` *is a placeholder in the below code for you to edit*"
      ]
    },
    {
      "cell_type": "code",
      "execution_count": null,
      "metadata": {
        "id": "0E46-mxSVd5d",
        "outputId": "ad657859-023a-4d78-fa09-df8d32dae39b"
      },
      "outputs": [
        {
          "data": {
            "text/plain": [
              "'1234 Abc street, Hometown USA'"
            ]
          },
          "execution_count": 11,
          "metadata": {},
          "output_type": "execute_result"
        }
      ],
      "source": [
        "full_address = num_to_string + \" Abc street, Hometown USA\"\n",
        "full_address"
      ]
    },
    {
      "cell_type": "markdown",
      "metadata": {
        "id": "5aL6KnC5Vd5f"
      },
      "source": [
        "**5.** Finally, let's replace some of the characters in a string. Let's say Bart is upset with his family and wants to be adopted by the Flanders family. How would you replace his last name?\n",
        "\n",
        "**Hint:** We did not directly cover this method in the lesson. Check out the string helper docstring for a list of available methods."
      ]
    },
    {
      "cell_type": "code",
      "execution_count": null,
      "metadata": {
        "id": "9Vx6Ld1lVd5g"
      },
      "outputs": [],
      "source": [
        "help(str)"
      ]
    },
    {
      "cell_type": "code",
      "execution_count": null,
      "metadata": {
        "id": "GHNuF703Vd5h",
        "outputId": "9a41739b-f928-4e0d-ab0c-450c46601ece"
      },
      "outputs": [
        {
          "data": {
            "text/plain": [
              "'Bart Flanders'"
            ]
          },
          "execution_count": 13,
          "metadata": {},
          "output_type": "execute_result"
        }
      ],
      "source": [
        "name = \"Bart Simpson\"\n",
        "name = name.replace('Simpson','Flanders')#Your code here; update the variable name\n",
        "name"
      ]
    },
    {
      "cell_type": "markdown",
      "metadata": {
        "id": "-kMh1_l8Vd5i"
      },
      "source": [
        "## Summary\n",
        "Great work! In this lab we practiced our skills with strings. We can now manipulate, coerce, and concatenate strings. Remember if there are any things you can't remember or want to discover about code that isn't mentioned in this material, googling is always a great practice!"
      ]
    }
  ],
  "metadata": {
    "kernelspec": {
      "display_name": "saturn (Python 3)",
      "language": "python",
      "name": "python3"
    },
    "language_info": {
      "codemirror_mode": {
        "name": "ipython",
        "version": 3
      },
      "file_extension": ".py",
      "mimetype": "text/x-python",
      "name": "python",
      "nbconvert_exporter": "python",
      "pygments_lexer": "ipython3",
      "version": "3.10.6"
    },
    "colab": {
      "provenance": [],
      "include_colab_link": true
    }
  },
  "nbformat": 4,
  "nbformat_minor": 0
}