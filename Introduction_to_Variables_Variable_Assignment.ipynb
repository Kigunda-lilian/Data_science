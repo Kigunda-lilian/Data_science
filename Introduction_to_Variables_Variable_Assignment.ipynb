{
  "cells": [
    {
      "cell_type": "markdown",
      "metadata": {
        "id": "view-in-github",
        "colab_type": "text"
      },
      "source": [
        "<a href=\"https://colab.research.google.com/github/lilian-2021/-te/blob/main/Introduction_to_Variables_Variable_Assignment.ipynb\" target=\"_parent\"><img src=\"https://colab.research.google.com/assets/colab-badge.svg\" alt=\"Open In Colab\"/></a>"
      ]
    },
    {
      "cell_type": "markdown",
      "metadata": {
        "id": "akfjmXIaSvWb"
      },
      "source": [
        "# Introduction to Variables: Variable Assignment"
      ]
    },
    {
      "cell_type": "markdown",
      "metadata": {
        "id": "Zvw-ZwCSSvXM"
      },
      "source": [
        "## Introduction"
      ]
    },
    {
      "cell_type": "markdown",
      "metadata": {
        "id": "aD2cQT8qSvXO"
      },
      "source": [
        "> \"There are only two hard things in Computer Science: cache invalidation and naming things.\"\n",
        "\n",
        "> -- Phil Karlton\n",
        "\n",
        "> \"...But ordinary language is all right.\"\n",
        "\n",
        "> -- Ludwig Wittgenstein"
      ]
    },
    {
      "cell_type": "markdown",
      "metadata": {
        "id": "uMJ3Pw-jSvXR"
      },
      "source": [
        "## Objectives\n",
        "You will be able to:\n",
        "\n",
        "* Assign and declare a Python variable"
      ]
    },
    {
      "cell_type": "markdown",
      "metadata": {
        "id": "XzfAheQxSvXr"
      },
      "source": [
        "## Declaring and Assigning Variables"
      ]
    },
    {
      "cell_type": "markdown",
      "metadata": {
        "id": "pYDXdoS5SvXu"
      },
      "source": [
        "In this lesson, we'll learn how to use variables to assign names to data.  For example, the name `\"art vandelay\"`."
      ]
    },
    {
      "cell_type": "code",
      "execution_count": null,
      "metadata": {
        "id": "0oflBgpQSvXw",
        "outputId": "71e39554-4ec0-4ae0-a187-d71b05e461b3"
      },
      "outputs": [
        {
          "data": {
            "text/plain": [
              "'Art Vandelay'"
            ]
          },
          "execution_count": 1,
          "metadata": {},
          "output_type": "execute_result"
        }
      ],
      "source": [
        "\"Art Vandelay\""
      ]
    },
    {
      "cell_type": "code",
      "execution_count": null,
      "metadata": {
        "id": "vUZMAB8KSvYB",
        "outputId": "62536ec4-9645-48a9-8661-068385162a42"
      },
      "outputs": [
        {
          "data": {
            "text/plain": [
              "'kirimichristine11'"
            ]
          },
          "execution_count": 1,
          "metadata": {},
          "output_type": "execute_result"
        }
      ],
      "source": [
        "\"kirimichristine11\""
      ]
    },
    {
      "cell_type": "markdown",
      "metadata": {
        "id": "9oDvSB6mSvYO"
      },
      "source": [
        "Now months later, if we see that string in some code, we may be confused as to what it is, and with even more data, this only becomes more difficult.\n",
        "\n",
        "So, let's use variables to indicate what each of the following strings mean."
      ]
    },
    {
      "cell_type": "code",
      "execution_count": null,
      "metadata": {
        "id": "vzzX_fkwSvYQ"
      },
      "outputs": [],
      "source": [
        "email = \"art.vandelay@vandelay.com\"\n",
        "email"
      ]
    },
    {
      "cell_type": "code",
      "execution_count": null,
      "metadata": {
        "id": "JAzRgULASvYa",
        "outputId": "02766682-737c-44e9-f4a1-b4c263c9b565"
      },
      "outputs": [
        {
          "data": {
            "text/plain": [
              "'kirimichristine11@gmail.com'"
            ]
          },
          "execution_count": 2,
          "metadata": {},
          "output_type": "execute_result"
        }
      ],
      "source": [
        "email = \"kirimichristine11@gmail.com\"\n",
        "email"
      ]
    },
    {
      "cell_type": "markdown",
      "metadata": {
        "id": "U30CxUegSvYe"
      },
      "source": [
        "> **Note:** For this, and all of the subsequent code in gray boxes, you should press shift + enter to ensure that the code executes. If you do not do so with the line above for example, then when we reference `email` in the lines that follow, Jupyter will throw an error indicating that the variable is undefined. So, it is not enough to just type the correct code, we need to run shift + enter on our gray boxes to run this code."
      ]
    },
    {
      "cell_type": "markdown",
      "metadata": {
        "id": "57g8is3xSvYf"
      },
      "source": [
        "In programming terms, we say that we just declared a variable, `email`, and assigned it to the string, `\"art.vandelay@vandelay.com\"`.  To do so, we'll follow the procedure below:\n",
        "\n",
        "    variable = data\n",
        "\n",
        "Now that we have assigned a variable `email` to a string, we just type the word `email` to see the string again."
      ]
    },
    {
      "cell_type": "code",
      "execution_count": null,
      "metadata": {
        "id": "Heuayd3SSvYg",
        "outputId": "7265c382-a265-42d9-f8f5-3ae6a721a47e"
      },
      "outputs": [
        {
          "data": {
            "text/plain": [
              "'kirimichristine11@gmail.com'"
            ]
          },
          "execution_count": 3,
          "metadata": {},
          "output_type": "execute_result"
        }
      ],
      "source": [
        "email"
      ]
    },
    {
      "cell_type": "markdown",
      "metadata": {
        "id": "YJ3jfWjgSvYw"
      },
      "source": [
        "> *remember to press shift + enter on the gray box above to see the value of our variable, *`email`*.*"
      ]
    },
    {
      "cell_type": "markdown",
      "metadata": {
        "id": "9SZ36YJWSvYx"
      },
      "source": [
        "Now let's try this with the website:"
      ]
    },
    {
      "cell_type": "code",
      "execution_count": null,
      "metadata": {
        "id": "Gst3sacRSvYz",
        "outputId": "33f0913a-2f3c-49ef-8b6b-74a5d4a18412"
      },
      "outputs": [
        {
          "data": {
            "text/plain": [
              "'vandelay.com'"
            ]
          },
          "execution_count": 4,
          "metadata": {},
          "output_type": "execute_result"
        }
      ],
      "source": [
        "website = \"vandelay.com\"\n",
        "website"
      ]
    },
    {
      "cell_type": "code",
      "execution_count": null,
      "metadata": {
        "id": "2NtWYmifSvY1",
        "outputId": "79f3fc5d-28a3-4a5f-d86b-a00ca9457157"
      },
      "outputs": [
        {
          "data": {
            "text/plain": [
              "'kirimichristine.com'"
            ]
          },
          "execution_count": 4,
          "metadata": {},
          "output_type": "execute_result"
        }
      ],
      "source": [
        "website = \"kirimichristine.com\"\n",
        "website"
      ]
    },
    {
      "cell_type": "markdown",
      "metadata": {
        "id": "-CcpmjBASvY_"
      },
      "source": [
        "Note that if you introduce a new variable, (declare it), but do not also assign it in the same line, Python will raise an error."
      ]
    },
    {
      "cell_type": "code",
      "execution_count": null,
      "metadata": {
        "id": "9rIc6vqVSvZN",
        "outputId": "841420ea-ae1d-4942-f771-3e8e0a361ba8"
      },
      "outputs": [
        {
          "ename": "NameError",
          "evalue": "name 'full_name' is not defined",
          "output_type": "error",
          "traceback": [
            "\u001b[0;31m---------------------------------------------------------------------------\u001b[0m",
            "\u001b[0;31mNameError\u001b[0m                                 Traceback (most recent call last)",
            "\u001b[0;32m<ipython-input-5-e1e889fa3b78>\u001b[0m in \u001b[0;36m<module>\u001b[0;34m()\u001b[0m\n\u001b[0;32m----> 1\u001b[0;31m \u001b[0mfull_name\u001b[0m\u001b[0;34m\u001b[0m\u001b[0m\n\u001b[0m",
            "\u001b[0;31mNameError\u001b[0m: name 'full_name' is not defined"
          ]
        }
      ],
      "source": [
        "full_name"
      ]
    },
    {
      "cell_type": "markdown",
      "metadata": {
        "id": "AHow96Q8SvZO"
      },
      "source": [
        "That error tells us that `full_name` is not defined.  We just fix this by declaring `full_name`, storing data inside that variable and returning that variable in the same line."
      ]
    },
    {
      "cell_type": "code",
      "execution_count": null,
      "metadata": {
        "id": "ctI68RUUSvZP",
        "outputId": "9850680e-d0a5-465c-f94b-6911bbc571b9"
      },
      "outputs": [
        {
          "data": {
            "text/plain": [
              "'Art Vandelay'"
            ]
          },
          "execution_count": 6,
          "metadata": {},
          "output_type": "execute_result"
        }
      ],
      "source": [
        "full_name = 'Art Vandelay'\n",
        "full_name"
      ]
    },
    {
      "cell_type": "markdown",
      "metadata": {
        "id": "CTFeNtOrSvZR"
      },
      "source": [
        "So this is assigning and reading a variable.  And when we want to see some information again, we can easily find out."
      ]
    },
    {
      "cell_type": "code",
      "execution_count": null,
      "metadata": {
        "id": "xQLIwW48SvZj",
        "outputId": "1d1b34ae-d98e-4245-8bd9-68362c25cfd4"
      },
      "outputs": [
        {
          "data": {
            "text/plain": [
              "'art.vandelay@vandelay.com'"
            ]
          },
          "execution_count": 7,
          "metadata": {},
          "output_type": "execute_result"
        }
      ],
      "source": [
        "email"
      ]
    },
    {
      "cell_type": "markdown",
      "metadata": {
        "id": "daoPOgRSSvZl"
      },
      "source": [
        "## Declaring variables without assignment"
      ]
    },
    {
      "cell_type": "markdown",
      "metadata": {
        "id": "DThovpb3SvZl"
      },
      "source": [
        "We have seen that we can have data without assigning it to variables.  "
      ]
    },
    {
      "cell_type": "code",
      "execution_count": null,
      "metadata": {
        "id": "_b1gdvl0SvZo",
        "outputId": "393f4d95-018f-4302-9fcb-6f898a984240"
      },
      "outputs": [
        {
          "data": {
            "text/plain": [
              "'Unassigned data'"
            ]
          },
          "execution_count": 8,
          "metadata": {},
          "output_type": "execute_result"
        }
      ],
      "source": [
        "\"Unassigned data\""
      ]
    },
    {
      "cell_type": "markdown",
      "metadata": {
        "id": "nX2uILXWSvZp"
      },
      "source": [
        "Sometimes we wish to declare a variable without assigning it to data.  In Python, that's a little tricky to do.  As we just saw with `name`, declaring variables without assignment throws an error.  Thankfully, Python has a special type for us that represents nothing at all."
      ]
    },
    {
      "cell_type": "code",
      "execution_count": null,
      "metadata": {
        "id": "Wngjes_gSvZ0"
      },
      "outputs": [],
      "source": [
        "None"
      ]
    },
    {
      "cell_type": "code",
      "execution_count": null,
      "metadata": {
        "id": "hvokz_j3SvZ_",
        "outputId": "42772ff5-f761-48a9-80e1-252f61aeb1e1"
      },
      "outputs": [
        {
          "data": {
            "text/plain": [
              "NoneType"
            ]
          },
          "execution_count": 10,
          "metadata": {},
          "output_type": "execute_result"
        }
      ],
      "source": [
        "type(None)"
      ]
    },
    {
      "cell_type": "markdown",
      "metadata": {
        "id": "QxTeTws2SvaC"
      },
      "source": [
        "None is a data type in Python that represents nothing.  So, if we do not know the type of a variable and want to have the data to the variable be assigned later, we can assign that variable to `None`."
      ]
    },
    {
      "cell_type": "code",
      "execution_count": null,
      "metadata": {
        "id": "DGIZKFDvSvaD"
      },
      "outputs": [],
      "source": [
        "address = None"
      ]
    },
    {
      "cell_type": "markdown",
      "metadata": {
        "id": "BjXXoRWPSvaE"
      },
      "source": [
        "Notice that `address` is now assigned, but it is assigned to `None`."
      ]
    },
    {
      "cell_type": "code",
      "execution_count": null,
      "metadata": {
        "id": "LonW5BlQSvaF"
      },
      "outputs": [],
      "source": [
        "address"
      ]
    },
    {
      "cell_type": "markdown",
      "metadata": {
        "id": "SfuBd7teSvaP"
      },
      "source": [
        "**Note:** *when variables are assigned to `None`, pressing shift + enter on the cell block will not output anything.*"
      ]
    },
    {
      "cell_type": "markdown",
      "metadata": {
        "id": "pY5kXg4BSvaQ"
      },
      "source": [
        "## Reassigning variables"
      ]
    },
    {
      "cell_type": "markdown",
      "metadata": {
        "id": "qVG0dt1LSvaQ"
      },
      "source": [
        "Now that we have this data, we can imagine using it for some kind of instruction.  For example, say we want to write ourself a memo on how to reach out to someone we just met. Here's the message:"
      ]
    },
    {
      "cell_type": "code",
      "execution_count": null,
      "metadata": {
        "id": "Gdb4puLHSvaR",
        "outputId": "033a48e7-385c-4288-b1b9-6441992ff7bc"
      },
      "outputs": [
        {
          "data": {
            "text/plain": [
              "\"Send an email to Art Vandelay at 'art.vandelay@vandelay.com' to say how nice it was meeting yesterday.\""
            ]
          },
          "execution_count": 13,
          "metadata": {},
          "output_type": "execute_result"
        }
      ],
      "source": [
        "\"Send an email to Art Vandelay at 'art.vandelay@vandelay.com' to say how nice it was meeting yesterday.\""
      ]
    },
    {
      "cell_type": "markdown",
      "metadata": {
        "id": "XZ0p3TM3Svah"
      },
      "source": [
        "If we construct this message with variables, we can write the following:"
      ]
    },
    {
      "cell_type": "code",
      "execution_count": null,
      "metadata": {
        "id": "naxlgRWRSva4",
        "outputId": "7e557af2-14c7-4488-b390-1f5943738240"
      },
      "outputs": [
        {
          "data": {
            "text/plain": [
              "'Send an email to Art Vandelay at art.vandelay@vandelay.com to say how nice it was meeting yesterday.'"
            ]
          },
          "execution_count": 14,
          "metadata": {},
          "output_type": "execute_result"
        }
      ],
      "source": [
        "\"Send an email to \" + full_name + \" at \" + email +  \" to say how nice it was meeting yesterday.\""
      ]
    },
    {
      "cell_type": "markdown",
      "metadata": {
        "id": "anqV5QUhSva6"
      },
      "source": [
        "Now you meet someone else, \"Liz Kaplan\" with the email of \"liz@ka-plan.com\" and want to write a memo with the same instructions. Only two things vary in the memo: name and email. This should be easy enough given the way we set up our code above. First we need to change the variables, `full_name` and `email`, by setting them to our new data."
      ]
    },
    {
      "cell_type": "code",
      "execution_count": null,
      "metadata": {
        "id": "wsU42ejvSvbE"
      },
      "outputs": [],
      "source": [
        "full_name = 'Liz Kaplan'\n",
        "email = 'liz@ka-plan.com'"
      ]
    },
    {
      "cell_type": "markdown",
      "metadata": {
        "id": "PHFqjMIBSvbF"
      },
      "source": [
        "So as you can see, we reassign our variables by just setting `variable = 'new data'`. Presto, our variable is then updated."
      ]
    },
    {
      "cell_type": "code",
      "execution_count": null,
      "metadata": {
        "id": "vk51Fec5SvbG",
        "outputId": "45be3719-2b1f-4ea4-ec1b-774913aa4ac0"
      },
      "outputs": [
        {
          "data": {
            "text/plain": [
              "'Liz Kaplan'"
            ]
          },
          "execution_count": 16,
          "metadata": {},
          "output_type": "execute_result"
        }
      ],
      "source": [
        "full_name # 'Liz Kaplan'"
      ]
    },
    {
      "cell_type": "code",
      "execution_count": null,
      "metadata": {
        "id": "FCEdk-4iSvbI",
        "outputId": "7a5b0113-06b9-4031-f96f-d9e6e903e29d"
      },
      "outputs": [
        {
          "data": {
            "text/plain": [
              "'liz@ka-plan.com'"
            ]
          },
          "execution_count": 17,
          "metadata": {},
          "output_type": "execute_result"
        }
      ],
      "source": [
        "email # 'liz@ka-plan.com'"
      ]
    },
    {
      "cell_type": "markdown",
      "metadata": {
        "id": "d8n5o88ESvbK"
      },
      "source": [
        "Now, if we copy and re-run our previous code, we will see it is automatically updated."
      ]
    },
    {
      "cell_type": "code",
      "execution_count": null,
      "metadata": {
        "id": "uS53AgwRSvbL",
        "outputId": "02f92a5f-616a-492f-ef9c-3cdff96111db"
      },
      "outputs": [
        {
          "data": {
            "text/plain": [
              "'Send an email to Liz Kaplan at liz@ka-plan.com to say how nice it was meeting yesterday.'"
            ]
          },
          "execution_count": 18,
          "metadata": {},
          "output_type": "execute_result"
        }
      ],
      "source": [
        "\"Send an email to \" + full_name + \" at \" + email +  \" to say how nice it was meeting yesterday.\""
      ]
    },
    {
      "cell_type": "markdown",
      "metadata": {
        "id": "6fP6XoydSvbN"
      },
      "source": [
        "In the line above, we are getting to some of the real power of programming. By choosing the correct variable name, we can begin to change the values of `full_name` or `email` and operate on their underlying values in the same ways."
      ]
    },
    {
      "cell_type": "markdown",
      "metadata": {
        "id": "DWSY2sMJSvbO"
      },
      "source": [
        "## Summary"
      ]
    },
    {
      "cell_type": "markdown",
      "metadata": {
        "id": "B6D_W68RSvbP"
      },
      "source": [
        "In this lesson, we got a taste for what makes computer programs so powerful.  By using variables, we can write programs that know how to combine data.  This can save us time by avoiding boring, repetitive tasks.  We declare and assign a variable with the pattern of `variable = data`, and reassign a variable with the same pattern.  To reference a variable, we simply type the variable's name.  \n",
        "\n",
        "We also saw that one of the things to pay attention to when working with variables is that they are sometimes different from what we expect.  Just type the name of the variable to see what it really is and make any necessary changes."
      ]
    }
  ],
  "metadata": {
    "kernelspec": {
      "display_name": "saturn (Python 3)",
      "language": "python",
      "name": "python3"
    },
    "language_info": {
      "codemirror_mode": {
        "name": "ipython",
        "version": 3
      },
      "file_extension": ".py",
      "mimetype": "text/x-python",
      "name": "python",
      "nbconvert_exporter": "python",
      "pygments_lexer": "ipython3",
      "version": "3.10.6"
    },
    "colab": {
      "provenance": [],
      "include_colab_link": true
    }
  },
  "nbformat": 4,
  "nbformat_minor": 0
}