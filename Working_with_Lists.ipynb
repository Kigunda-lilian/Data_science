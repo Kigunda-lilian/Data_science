{
  "cells": [
    {
      "cell_type": "markdown",
      "metadata": {
        "id": "view-in-github",
        "colab_type": "text"
      },
      "source": [
        "<a href=\"https://colab.research.google.com/github/lilian-2021/-te/blob/main/Working_with_Lists.ipynb\" target=\"_parent\"><img src=\"https://colab.research.google.com/assets/colab-badge.svg\" alt=\"Open In Colab\"/></a>"
      ]
    },
    {
      "cell_type": "markdown",
      "metadata": {
        "id": "oiOfZEwbXw6n"
      },
      "source": [
        "# Working with Lists\n",
        "\n",
        "## Introduction\n",
        "So far, we have worked with individual pieces of data like the string 'hello'. In this lesson, we'll see how we can group pieces of data together using lists.\n",
        "\n",
        "## Objectives\n",
        "\n",
        "You will be able to:\n",
        "\n",
        "* Use indexing to access elements in a list\n",
        "* Apply list methods to make changes to a list\n",
        "* Change elements of a list\n",
        "\n",
        "## What Are Lists?\n",
        "\n",
        "A list is our first form of a collection. A collection is just a way of grouping multiple pieces of data together. For example, let's consider the top cities for travel according to the magazine Travel and Leisure. Here is how we usually see a list of travel locations in a document or on a website.\n",
        "\n",
        "#### Travel Locations\n",
        "1. Solta\n",
        "2. Greenville\n",
        "3. Buenos Aires\n",
        "4. Los Cabos\n",
        "5. Walla Walla Valley\n",
        "6. Marakesh\n",
        "7. Albuquerque\n",
        "8. Archipelago Sea\n",
        "9. Iguazu Falls\n",
        "10. Salina Island\n",
        "11. Toronto\n",
        "12. Pyeongchang\n",
        "\n",
        "Here is what that list looks like as a Python `list`:"
      ]
    },
    {
      "cell_type": "code",
      "execution_count": null,
      "metadata": {
        "id": "VNK8TRbgXw7m",
        "outputId": "6a054c85-7cea-4621-af61-3aaa3a557acc"
      },
      "outputs": [
        {
          "data": {
            "text/plain": [
              "['Solta',\n",
              " 'Greenville',\n",
              " 'Buenos Aires',\n",
              " 'Los Cabos',\n",
              " 'Walla Walla Valley',\n",
              " 'Marakesh',\n",
              " 'Albuquerque',\n",
              " 'Archipelago Sea',\n",
              " 'Iguazu Falls',\n",
              " 'Salina Island',\n",
              " 'Toronto',\n",
              " 'Pyeongchang']"
            ]
          },
          "execution_count": 3,
          "metadata": {},
          "output_type": "execute_result"
        }
      ],
      "source": [
        "['Solta', 'Greenville', 'Buenos Aires', 'Los Cabos', 'Walla Walla Valley', 'Marakesh', 'Albuquerque', 'Archipelago Sea', 'Iguazu Falls', 'Salina Island', 'Toronto', 'Pyeongchang']"
      ]
    },
    {
      "cell_type": "markdown",
      "metadata": {
        "id": "9GkYDTT2Xw8F"
      },
      "source": [
        "We indicate that we are initializing a `list` with an opening bracket, `[`, and we end the list with a closing bracket `]`. We separate each list item, also called an element, with a comma."
      ]
    },
    {
      "cell_type": "code",
      "execution_count": null,
      "metadata": {
        "id": "6HxmPObnXw8L",
        "outputId": "5008e3e8-065d-4cff-a205-25eee1361846"
      },
      "outputs": [
        {
          "data": {
            "text/plain": [
              "['Croatia',\n",
              " 'USA',\n",
              " 'Argentina',\n",
              " 'Mexico',\n",
              " 'USA',\n",
              " 'Morocco',\n",
              " 'New Mexico',\n",
              " 'Finland',\n",
              " 'Argentina',\n",
              " 'Italy',\n",
              " 'Canada',\n",
              " 'South Korea']"
            ]
          },
          "execution_count": 2,
          "metadata": {},
          "output_type": "execute_result"
        }
      ],
      "source": [
        "['Croatia', 'USA', 'Argentina', 'Mexico', 'USA', 'Morocco', 'New Mexico', 'Finland', 'Argentina', 'Italy', 'Canada', 'South Korea']"
      ]
    },
    {
      "cell_type": "markdown",
      "metadata": {
        "id": "-lld1Q9LXw8W"
      },
      "source": [
        "We can, of course, assign lists to variables and later retrieve the elements of lists using the variable names."
      ]
    },
    {
      "cell_type": "code",
      "execution_count": null,
      "metadata": {
        "id": "6lQFx6-9Xw8q"
      },
      "outputs": [],
      "source": [
        "top_travel_cities = ['Solta', 'Greenville', 'Buenos Aires', 'Los Cabos', 'Walla Walla Valley', 'Marakesh', 'Albuquerque', 'Archipelago Sea', 'Iguazu Falls', 'Salina Island', 'Toronto', 'Pyeongchang']"
      ]
    },
    {
      "cell_type": "code",
      "execution_count": null,
      "metadata": {
        "id": "mhx1rXPgXw8v",
        "outputId": "99b44000-43b8-46a4-be6f-f4567c58b27e"
      },
      "outputs": [
        {
          "data": {
            "text/plain": [
              "['Solta',\n",
              " 'Greenville',\n",
              " 'Buenos Aires',\n",
              " 'Los Cabos',\n",
              " 'Walla Walla Valley',\n",
              " 'Marakesh',\n",
              " 'Albuquerque',\n",
              " 'Archipelago Sea',\n",
              " 'Iguazu Falls',\n",
              " 'Salina Island',\n",
              " 'Toronto',\n",
              " 'Pyeongchang']"
            ]
          },
          "execution_count": 4,
          "metadata": {},
          "output_type": "execute_result"
        }
      ],
      "source": [
        "top_travel_cities"
      ]
    },
    {
      "cell_type": "code",
      "execution_count": null,
      "metadata": {
        "id": "_USp9nAtXw88"
      },
      "outputs": [],
      "source": [
        "countries_of_top_cities = ['Croatia', 'USA', 'Argentina', 'Mexico', 'USA', 'Morocco', 'New Mexico', 'Finland', 'Argentina', 'Italy', 'Canada', 'South Korea']"
      ]
    },
    {
      "cell_type": "markdown",
      "metadata": {
        "id": "oY_MPhL0Xw9N"
      },
      "source": [
        "## Accessing Elements of Lists\n",
        "\n",
        "Now our `top_travel_cities` list contains multiple elements, and just like we are used to list elements having a rank or number associated with them...\n",
        "\n",
        "1. Solta\n",
        "2. Greenville\n",
        "3. Buenos Aires\n",
        "\n",
        "...a list in Python also assigns a number to each element."
      ]
    },
    {
      "cell_type": "code",
      "execution_count": null,
      "metadata": {
        "id": "9OHSXXoSXw9S",
        "outputId": "750ca377-cf60-4457-bd18-c93e489fb12a"
      },
      "outputs": [
        {
          "data": {
            "text/plain": [
              "['Solta',\n",
              " 'Greenville',\n",
              " 'Buenos Aires',\n",
              " 'Los Cabos',\n",
              " 'Walla Walla Valley',\n",
              " 'Marakesh',\n",
              " 'Albuquerque',\n",
              " 'Archipelago Sea',\n",
              " 'Iguazu Falls',\n",
              " 'Salina Island',\n",
              " 'Toronto',\n",
              " 'Pyeongchang']"
            ]
          },
          "execution_count": 5,
          "metadata": {},
          "output_type": "execute_result"
        }
      ],
      "source": [
        "top_travel_cities"
      ]
    },
    {
      "cell_type": "code",
      "execution_count": null,
      "metadata": {
        "id": "cJ6trZFRXw9g",
        "outputId": "0ab80563-46a6-4b45-f1a1-c39e0bc936ca"
      },
      "outputs": [
        {
          "data": {
            "text/plain": [
              "'Solta'"
            ]
          },
          "execution_count": 6,
          "metadata": {},
          "output_type": "execute_result"
        }
      ],
      "source": [
        "top_travel_cities[0]"
      ]
    },
    {
      "cell_type": "markdown",
      "metadata": {
        "id": "f19v5-U9Xw9h"
      },
      "source": [
        "In the above line we are referencing a list and then using the brackets to access a specific element of our list, the first element.  We access elements in a list with the `index`, and there is a separate index for each element in the list.  It begins at the number **zero** (not the number 1 as you might expect). Like many modern programming languages , Python uses a \"zero-indexed\" numbering scheme for collections like lists. The value then increases by 1 for every element thereafter.\n",
        "\n",
        "So to access the second element we write `top_travel_cities[1]`, and the third element is `top_travel_cities[2]`."
      ]
    },
    {
      "cell_type": "code",
      "execution_count": null,
      "metadata": {
        "id": "Ieyh8WRzXw9i",
        "outputId": "9fd3fc40-7faa-405d-fe0f-49d5fea32e08"
      },
      "outputs": [
        {
          "data": {
            "text/plain": [
              "'Buenos Aires'"
            ]
          },
          "execution_count": 7,
          "metadata": {},
          "output_type": "execute_result"
        }
      ],
      "source": [
        "top_travel_cities[2]"
      ]
    },
    {
      "cell_type": "markdown",
      "metadata": {
        "id": "y7S0NmRHXw9k"
      },
      "source": [
        "How would we access the last element?  Well, we could count all of the elements in the list, and `Pyeongchang` would just be one less than that. Or we can ask Python to start from the end and move back one:"
      ]
    },
    {
      "cell_type": "code",
      "execution_count": null,
      "metadata": {
        "id": "1iKkbxg0Xw9l",
        "outputId": "4a264ec6-72b4-4de3-e7e8-5a167330aea6"
      },
      "outputs": [
        {
          "data": {
            "text/plain": [
              "'Pyeongchang'"
            ]
          },
          "execution_count": 8,
          "metadata": {},
          "output_type": "execute_result"
        }
      ],
      "source": [
        "top_travel_cities[-1]"
      ]
    },
    {
      "cell_type": "markdown",
      "metadata": {
        "id": "62diq8ojXw9n"
      },
      "source": [
        "And we can move back as many as we want."
      ]
    },
    {
      "cell_type": "code",
      "execution_count": null,
      "metadata": {
        "id": "3X_iXfj4Xw9n",
        "outputId": "a62b637a-004f-451b-ab88-701272977f9b"
      },
      "outputs": [
        {
          "data": {
            "text/plain": [
              "'Toronto'"
            ]
          },
          "execution_count": 9,
          "metadata": {},
          "output_type": "execute_result"
        }
      ],
      "source": [
        "top_travel_cities[-2]"
      ]
    },
    {
      "cell_type": "markdown",
      "metadata": {
        "id": "tOFNkXdiXw9p"
      },
      "source": [
        "Each element in our list is a string, so, we can always set an element of our string equal to a variable."
      ]
    },
    {
      "cell_type": "code",
      "execution_count": null,
      "metadata": {
        "id": "2X4WnH58Xw9q",
        "outputId": "8a8c1eaa-b4b6-497d-eecd-5410b4962982"
      },
      "outputs": [
        {
          "data": {
            "text/plain": [
              "'Toronto'"
            ]
          },
          "execution_count": 10,
          "metadata": {},
          "output_type": "execute_result"
        }
      ],
      "source": [
        "top_canadian_city = top_travel_cities[-2]\n",
        "top_canadian_city"
      ]
    },
    {
      "cell_type": "code",
      "execution_count": null,
      "metadata": {
        "id": "AQDTF5RDXw90",
        "outputId": "db57463d-c73d-49a0-8a88-30f9cf1a60ee"
      },
      "outputs": [
        {
          "data": {
            "text/plain": [
              "str"
            ]
          },
          "execution_count": 11,
          "metadata": {},
          "output_type": "execute_result"
        }
      ],
      "source": [
        "type(top_canadian_city)"
      ]
    },
    {
      "cell_type": "markdown",
      "metadata": {
        "id": "NClHbfFkXw91"
      },
      "source": [
        "Now we have a variable of `top_canadian_city`, equal to the string 'Toronto', and a variable of `top_travel_cities` equal to the list of cities.  "
      ]
    },
    {
      "cell_type": "code",
      "execution_count": null,
      "metadata": {
        "id": "74yYQITkXw92",
        "outputId": "6b14b927-9403-43cb-8bc4-4c420f680ac4"
      },
      "outputs": [
        {
          "data": {
            "text/plain": [
              "['Solta',\n",
              " 'Greenville',\n",
              " 'Buenos Aires',\n",
              " 'Los Cabos',\n",
              " 'Walla Walla Valley',\n",
              " 'Marakesh',\n",
              " 'Albuquerque',\n",
              " 'Archipelago Sea',\n",
              " 'Iguazu Falls',\n",
              " 'Salina Island',\n",
              " 'Toronto',\n",
              " 'Pyeongchang']"
            ]
          },
          "execution_count": 12,
          "metadata": {},
          "output_type": "execute_result"
        }
      ],
      "source": [
        "top_travel_cities"
      ]
    },
    {
      "cell_type": "code",
      "execution_count": null,
      "metadata": {
        "id": "sOVsZKCRXw-B",
        "outputId": "7f7361e7-fc0e-4601-ae13-04fe16622fba"
      },
      "outputs": [
        {
          "data": {
            "text/plain": [
              "list"
            ]
          },
          "execution_count": 13,
          "metadata": {},
          "output_type": "execute_result"
        }
      ],
      "source": [
        "type(top_travel_cities)"
      ]
    },
    {
      "cell_type": "markdown",
      "metadata": {
        "id": "kIxprK6gXw-D"
      },
      "source": [
        "## Accessing Multiple Elements\n",
        "\n",
        "Now imagine that we don't want to access just one element of a list, but multiple elements at once.  Python allows us to do that as well:"
      ]
    },
    {
      "cell_type": "code",
      "execution_count": null,
      "metadata": {
        "id": "B8YJvcYHXw-G",
        "outputId": "269dad30-f774-4914-ab94-c1b3717355e5"
      },
      "outputs": [
        {
          "data": {
            "text/plain": [
              "['Solta', 'Greenville']"
            ]
          },
          "execution_count": 14,
          "metadata": {},
          "output_type": "execute_result"
        }
      ],
      "source": [
        "top_travel_cities[0:2]"
      ]
    },
    {
      "cell_type": "code",
      "execution_count": null,
      "metadata": {
        "id": "nf4vOAjAXw-H",
        "outputId": "8541b038-710e-45a7-9725-49dd0065dbf4"
      },
      "outputs": [
        {
          "data": {
            "text/plain": [
              "['Los Cabos', 'Walla Walla Valley']"
            ]
          },
          "execution_count": 15,
          "metadata": {},
          "output_type": "execute_result"
        }
      ],
      "source": [
        "top_travel_cities[3:5]"
      ]
    },
    {
      "cell_type": "markdown",
      "metadata": {
        "id": "mpnDXgF7Xw-M"
      },
      "source": [
        "As we can see from the above example, we can access elements of a list by placing two numbers separated by a colon inside of our brackets. The first number indicates the index of the first element we wish to retrieve.  \n",
        "\n",
        "The second number could represent the number of elements we want to retrieve, or maybe it represents the stopping index of the elements that we are retrieving. Looking at our `top_travel_cities` it could be either."
      ]
    },
    {
      "cell_type": "code",
      "execution_count": null,
      "metadata": {
        "id": "qbZBe3CZXw-N",
        "outputId": "0374c495-a6c1-4e54-f829-616ff8ae7de4"
      },
      "outputs": [
        {
          "data": {
            "text/plain": [
              "['Solta',\n",
              " 'Greenville',\n",
              " 'Buenos Aires',\n",
              " 'Los Cabos',\n",
              " 'Walla Walla Valley',\n",
              " 'Marakesh',\n",
              " 'Albuquerque',\n",
              " 'Archipelago Sea',\n",
              " 'Iguazu Falls',\n",
              " 'Salina Island',\n",
              " 'Toronto',\n",
              " 'Pyeongchang']"
            ]
          },
          "execution_count": 16,
          "metadata": {},
          "output_type": "execute_result"
        }
      ],
      "source": [
        "top_travel_cities"
      ]
    },
    {
      "cell_type": "markdown",
      "metadata": {
        "id": "EhMbHR_4Xw-S"
      },
      "source": [
        "Let's try a different experiment to answer our question."
      ]
    },
    {
      "cell_type": "code",
      "execution_count": null,
      "metadata": {
        "id": "p6w7yOXOXw-T",
        "outputId": "52a985e1-b988-4037-f549-f39fa59bcbe2"
      },
      "outputs": [
        {
          "data": {
            "text/plain": [
              "['Walla Walla Valley']"
            ]
          },
          "execution_count": 17,
          "metadata": {},
          "output_type": "execute_result"
        }
      ],
      "source": [
        "top_travel_cities[4:5]"
      ]
    },
    {
      "cell_type": "code",
      "execution_count": null,
      "metadata": {
        "id": "KrnUiLe8Xw-U",
        "outputId": "3677da20-8343-4447-8c7e-74489eb1b99b"
      },
      "outputs": [
        {
          "data": {
            "text/plain": [
              "' '"
            ]
          },
          "execution_count": 3,
          "metadata": {},
          "output_type": "execute_result"
        }
      ],
      "source": [
        "top_travel_cities[4][5]"
      ]
    },
    {
      "cell_type": "markdown",
      "metadata": {
        "id": "8YoADdSIXw-b"
      },
      "source": [
        "Ok, so that second number is not representing the number of elements we want retrieved. Instead it must be the index at which we stop our selection of elements."
      ]
    },
    {
      "cell_type": "code",
      "execution_count": null,
      "metadata": {
        "id": "_vg_DzX1Xw-d",
        "outputId": "0f293056-947c-4d4c-df1b-5dfc841bb40d"
      },
      "outputs": [
        {
          "data": {
            "text/plain": [
              "['Walla Walla Valley', 'Marakesh']"
            ]
          },
          "execution_count": 18,
          "metadata": {},
          "output_type": "execute_result"
        }
      ],
      "source": [
        "top_travel_cities[4:6]"
      ]
    },
    {
      "cell_type": "markdown",
      "metadata": {
        "id": "Wn_N8I8zXw-i"
      },
      "source": [
        "This operation is called `slice`.  So, we can say we are `slicing` the elements with indices 4 and 5 in the line above.  Note that even though we are `slicing` elements, our list remains intact."
      ]
    },
    {
      "cell_type": "code",
      "execution_count": null,
      "metadata": {
        "id": "E_jc_Q-GXw-j",
        "outputId": "932e079d-8755-4cdc-bd33-7c7d2ef2485d"
      },
      "outputs": [
        {
          "data": {
            "text/plain": [
              "['Solta',\n",
              " 'Greenville',\n",
              " 'Buenos Aires',\n",
              " 'Los Cabos',\n",
              " 'Walla Walla Valley',\n",
              " 'Marakesh',\n",
              " 'Albuquerque',\n",
              " 'Archipelago Sea',\n",
              " 'Iguazu Falls',\n",
              " 'Salina Island',\n",
              " 'Toronto',\n",
              " 'Pyeongchang']"
            ]
          },
          "execution_count": 19,
          "metadata": {},
          "output_type": "execute_result"
        }
      ],
      "source": [
        "top_travel_cities"
      ]
    },
    {
      "cell_type": "markdown",
      "metadata": {
        "id": "hnIBa1SVXw-p"
      },
      "source": [
        "In programming terms, we would say that slicing elements is non-destructive, because it does not change the underlying data structure.  We can do it as many times as we like, and our `top_travel_cities` array remains unchanged.  If we wish to store that slice of elements, we can store it in another variable."
      ]
    },
    {
      "cell_type": "code",
      "execution_count": null,
      "metadata": {
        "id": "rsLe7jtmXw-q",
        "outputId": "e82e520a-28ab-4318-d134-9297c190b715"
      },
      "outputs": [
        {
          "data": {
            "text/plain": [
              "['Solta', 'Greenville']"
            ]
          },
          "execution_count": 20,
          "metadata": {},
          "output_type": "execute_result"
        }
      ],
      "source": [
        "top_two = top_travel_cities[0:2]\n",
        "top_two"
      ]
    },
    {
      "cell_type": "markdown",
      "metadata": {
        "id": "YGs9aDX0Xw-r"
      },
      "source": [
        "Now we have another variable called `top_two` that points to an array which contains an array of elements equal to the first two elements of `top_travel_cities`.\n",
        "\n",
        "## Changing elements with destructive methods\n",
        "\n",
        "Now that we can read and select certain elements from lists, let's work on changing these lists. To add a new element to a list, we can use the `append` method."
      ]
    },
    {
      "cell_type": "code",
      "execution_count": null,
      "metadata": {
        "id": "QHu02rbrXw-s"
      },
      "outputs": [],
      "source": [
        "top_travel_cities.append('San Antonio')"
      ]
    },
    {
      "cell_type": "markdown",
      "metadata": {
        "id": "q5PL4aeFXw_J"
      },
      "source": [
        "Now let's take another look at `top_travel_cities`."
      ]
    },
    {
      "cell_type": "code",
      "execution_count": null,
      "metadata": {
        "id": "9Pc5mFEMXw_S",
        "outputId": "c3f9d52e-293e-4ed4-ca83-a73c653d81c3"
      },
      "outputs": [
        {
          "data": {
            "text/plain": [
              "['Solta',\n",
              " 'Greenville',\n",
              " 'Buenos Aires',\n",
              " 'Los Cabos',\n",
              " 'Walla Walla Valley',\n",
              " 'Marakesh',\n",
              " 'Albuquerque',\n",
              " 'Archipelago Sea',\n",
              " 'Iguazu Falls',\n",
              " 'Salina Island',\n",
              " 'Toronto',\n",
              " 'Pyeongchang',\n",
              " 'San Antonio']"
            ]
          },
          "execution_count": 22,
          "metadata": {},
          "output_type": "execute_result"
        }
      ],
      "source": [
        "top_travel_cities"
      ]
    },
    {
      "cell_type": "markdown",
      "metadata": {
        "id": "HAEGtJfMXw_U"
      },
      "source": [
        "You will see that 'San Antonio' has been added to the list.  Note that unlike slice, `append` is destructive.  That is, it changes our underlying data structure.  Every time we execute the `append` method, another element is added to our list.   Now what if we accidentally add 'San Antonio' a second time to our list."
      ]
    },
    {
      "cell_type": "code",
      "execution_count": null,
      "metadata": {
        "id": "POv3qjigXw_V",
        "outputId": "dc45318e-5eb8-4728-a899-3843e858453f"
      },
      "outputs": [
        {
          "data": {
            "text/plain": [
              "['Solta',\n",
              " 'Greenville',\n",
              " 'Buenos Aires',\n",
              " 'Los Cabos',\n",
              " 'Walla Walla Valley',\n",
              " 'Marakesh',\n",
              " 'Albuquerque',\n",
              " 'Archipelago Sea',\n",
              " 'Iguazu Falls',\n",
              " 'Salina Island',\n",
              " 'Toronto',\n",
              " 'Pyeongchang',\n",
              " 'San Antonio',\n",
              " 'San Antonio']"
            ]
          },
          "execution_count": 23,
          "metadata": {},
          "output_type": "execute_result"
        }
      ],
      "source": [
        "top_travel_cities.append('San Antonio')\n",
        "top_travel_cities"
      ]
    },
    {
      "cell_type": "markdown",
      "metadata": {
        "id": "ufGb0YWpXw_W"
      },
      "source": [
        "If you press shift+enter on the above line of code, we will have `'San Antonio'` as the last two elements of the list.  Luckily, we have the `pop` method to remove one of them.  The `pop` method is available to call on any list and removes the last element from the list. As you can see below, calling `pop` removed our last element."
      ]
    },
    {
      "cell_type": "code",
      "execution_count": null,
      "metadata": {
        "id": "aLZg_xCwXw_Y",
        "outputId": "53cd7bf4-1801-4912-fc7c-a05f31cd4d38"
      },
      "outputs": [
        {
          "data": {
            "text/plain": [
              "'San Antonio'"
            ]
          },
          "execution_count": 24,
          "metadata": {},
          "output_type": "execute_result"
        }
      ],
      "source": [
        "top_travel_cities.pop()"
      ]
    },
    {
      "cell_type": "markdown",
      "metadata": {
        "id": "WQb3G6Y0Xw_c"
      },
      "source": [
        "Now if we want to change an element from the middle of the list, we can access and then reassign that element. For example, let's change 'Walla Walla Valley' to the number 5."
      ]
    },
    {
      "cell_type": "code",
      "execution_count": null,
      "metadata": {
        "id": "BLnE4S8mXw_e",
        "outputId": "6e259c1f-a285-4fbf-dd21-dcad85caa81a"
      },
      "outputs": [
        {
          "data": {
            "text/plain": [
              "'Walla Walla Valley'"
            ]
          },
          "execution_count": 25,
          "metadata": {},
          "output_type": "execute_result"
        }
      ],
      "source": [
        "top_travel_cities[4]"
      ]
    },
    {
      "cell_type": "code",
      "execution_count": null,
      "metadata": {
        "id": "RnncVLhgXw_g"
      },
      "outputs": [],
      "source": [
        "top_travel_cities[4] = 5"
      ]
    },
    {
      "cell_type": "code",
      "execution_count": null,
      "metadata": {
        "id": "EsSk9ll1Xw_h",
        "outputId": "4655e33d-a48c-4f5a-c37a-cb44134c2963"
      },
      "outputs": [
        {
          "data": {
            "text/plain": [
              "['Solta',\n",
              " 'Greenville',\n",
              " 'Buenos Aires',\n",
              " 'Los Cabos',\n",
              " 5,\n",
              " 'Marakesh',\n",
              " 'Albuquerque',\n",
              " 'Archipelago Sea',\n",
              " 'Iguazu Falls',\n",
              " 'Salina Island',\n",
              " 'Toronto',\n",
              " 'Pyeongchang',\n",
              " 'San Antonio']"
            ]
          },
          "execution_count": 27,
          "metadata": {},
          "output_type": "execute_result"
        }
      ],
      "source": [
        "top_travel_cities"
      ]
    },
    {
      "cell_type": "markdown",
      "metadata": {
        "id": "7zeogB2zXw_i"
      },
      "source": [
        "Our list is changed, but now it's not as sensible, so let's change it back."
      ]
    },
    {
      "cell_type": "code",
      "execution_count": null,
      "metadata": {
        "id": "OTaI8lAtXw_j"
      },
      "outputs": [],
      "source": [
        "top_travel_cities[4] = 'Walla Walla Valley'"
      ]
    },
    {
      "cell_type": "markdown",
      "metadata": {
        "id": "dXPEf7mzXw_k"
      },
      "source": [
        "With that, our list is back to the way we like it."
      ]
    },
    {
      "cell_type": "code",
      "execution_count": null,
      "metadata": {
        "id": "VRrXCwG5Xw_l",
        "outputId": "ed9b7bf8-74a5-43ee-e664-a0e15debe066"
      },
      "outputs": [
        {
          "data": {
            "text/plain": [
              "['Solta',\n",
              " 'Greenville',\n",
              " 'Buenos Aires',\n",
              " 'Los Cabos',\n",
              " 'Walla Walla Valley',\n",
              " 'Marakesh',\n",
              " 'Albuquerque',\n",
              " 'Archipelago Sea',\n",
              " 'Iguazu Falls',\n",
              " 'Salina Island',\n",
              " 'Toronto',\n",
              " 'Pyeongchang',\n",
              " 'San Antonio']"
            ]
          },
          "execution_count": 29,
          "metadata": {},
          "output_type": "execute_result"
        }
      ],
      "source": [
        "top_travel_cities"
      ]
    },
    {
      "cell_type": "markdown",
      "metadata": {
        "id": "nd8-zbTEXw_n"
      },
      "source": [
        "## Finding Unique elements and length of lists\n",
        "\n",
        "If we are not sure whether there are repeated elements, we can use Python to get a unique list."
      ]
    },
    {
      "cell_type": "code",
      "execution_count": null,
      "metadata": {
        "id": "u6yEOYVWXw_p",
        "outputId": "6803091a-f80e-4387-83ec-a2be7d1d2861"
      },
      "outputs": [
        {
          "data": {
            "text/plain": [
              "['Solta',\n",
              " 'Greenville',\n",
              " 'Buenos Aires',\n",
              " 'Los Cabos',\n",
              " 'Walla Walla Valley',\n",
              " 'Marakesh',\n",
              " 'Albuquerque',\n",
              " 'Archipelago Sea',\n",
              " 'Iguazu Falls',\n",
              " 'Salina Island',\n",
              " 'Toronto',\n",
              " 'Pyeongchang',\n",
              " 'Solta']"
            ]
          },
          "execution_count": 18,
          "metadata": {},
          "output_type": "execute_result"
        }
      ],
      "source": [
        "top_travel_cities.append('Solta')\n",
        "top_travel_cities"
      ]
    },
    {
      "cell_type": "markdown",
      "metadata": {
        "id": "TLiHNWxmXw_q"
      },
      "source": [
        "For example, now that we have added Solta to the end of our list, Solta appears twice.\n",
        "\n",
        "Well to see a unique list of the elements, we can call the `set` function. A set is a different type collection in Python.\n",
        "A set is just like a list, except elements do not have order and each element appears just once."
      ]
    },
    {
      "cell_type": "code",
      "execution_count": null,
      "metadata": {
        "id": "b0sQ6LMTXw_r",
        "outputId": "3e27a32f-97a7-4a70-bb50-f406f104123f"
      },
      "outputs": [
        {
          "data": {
            "text/plain": [
              "{'Albuquerque',\n",
              " 'Archipelago Sea',\n",
              " 'Buenos Aires',\n",
              " 'Greenville',\n",
              " 'Iguazu Falls',\n",
              " 'Los Cabos',\n",
              " 'Marakesh',\n",
              " 'Pyeongchang',\n",
              " 'Salina Island',\n",
              " 'San Antonio',\n",
              " 'Solta',\n",
              " 'Toronto',\n",
              " 'Walla Walla Valley'}"
            ]
          },
          "execution_count": 31,
          "metadata": {},
          "output_type": "execute_result"
        }
      ],
      "source": [
        "unique_travel_cities = set(top_travel_cities)\n",
        "unique_travel_cities"
      ]
    },
    {
      "cell_type": "markdown",
      "metadata": {
        "id": "WB7t6_3-Xw_t"
      },
      "source": [
        "The `set` function is non-destructive on our list."
      ]
    },
    {
      "cell_type": "code",
      "execution_count": null,
      "metadata": {
        "id": "hznRbO5jXw_u",
        "outputId": "30993923-8993-450b-90f2-2ed6590b98dd"
      },
      "outputs": [
        {
          "data": {
            "text/plain": [
              "['Solta',\n",
              " 'Greenville',\n",
              " 'Buenos Aires',\n",
              " 'Los Cabos',\n",
              " 'Walla Walla Valley',\n",
              " 'Marakesh',\n",
              " 'Albuquerque',\n",
              " 'Archipelago Sea',\n",
              " 'Iguazu Falls',\n",
              " 'Salina Island',\n",
              " 'Toronto',\n",
              " 'Pyeongchang',\n",
              " 'San Antonio',\n",
              " 'Solta']"
            ]
          },
          "execution_count": 32,
          "metadata": {},
          "output_type": "execute_result"
        }
      ],
      "source": [
        "top_travel_cities"
      ]
    },
    {
      "cell_type": "markdown",
      "metadata": {
        "id": "wTLVMNPLXw_v"
      },
      "source": [
        " So here, when we convert our list into a set, our set just consists of the unique elements.  But unfortunately this structure is a set, not a list."
      ]
    },
    {
      "cell_type": "code",
      "execution_count": null,
      "metadata": {
        "id": "ftOHxSJZXw_w",
        "outputId": "5683e122-8823-4b60-8b9d-d924c342f853"
      },
      "outputs": [
        {
          "data": {
            "text/plain": [
              "set"
            ]
          },
          "execution_count": 33,
          "metadata": {},
          "output_type": "execute_result"
        }
      ],
      "source": [
        "type(unique_travel_cities)"
      ]
    },
    {
      "cell_type": "markdown",
      "metadata": {
        "id": "fk1V8lpkXw_y"
      },
      "source": [
        "So let's convert this set, which has a unique list of our travel cities, into a list."
      ]
    },
    {
      "cell_type": "code",
      "execution_count": null,
      "metadata": {
        "id": "Q5LvJyoBXw_z"
      },
      "outputs": [],
      "source": [
        "unique_travel_cities = list(unique_travel_cities)"
      ]
    },
    {
      "cell_type": "code",
      "execution_count": null,
      "metadata": {
        "id": "WbSe9_6RXw_0",
        "outputId": "8922f4f6-1d47-40a3-a26f-f1617ebad668"
      },
      "outputs": [
        {
          "data": {
            "text/plain": [
              "list"
            ]
          },
          "execution_count": 35,
          "metadata": {},
          "output_type": "execute_result"
        }
      ],
      "source": [
        "type(unique_travel_cities)"
      ]
    },
    {
      "cell_type": "markdown",
      "metadata": {
        "id": "YMkbktUnXw_1"
      },
      "source": [
        "So the array of `unique_travel_cities` is now a unique list."
      ]
    },
    {
      "cell_type": "code",
      "execution_count": null,
      "metadata": {
        "id": "ANXVmzd5Xw_2",
        "outputId": "e8c7ae0e-72a4-4a7a-dbe3-fc4d2ff0e0b3"
      },
      "outputs": [
        {
          "data": {
            "text/plain": [
              "['Archipelago Sea',\n",
              " 'Salina Island',\n",
              " 'Toronto',\n",
              " 'Marakesh',\n",
              " 'Greenville',\n",
              " 'San Antonio',\n",
              " 'Los Cabos',\n",
              " 'Pyeongchang',\n",
              " 'Walla Walla Valley',\n",
              " 'Albuquerque',\n",
              " 'Solta',\n",
              " 'Iguazu Falls',\n",
              " 'Buenos Aires']"
            ]
          },
          "execution_count": 36,
          "metadata": {},
          "output_type": "execute_result"
        }
      ],
      "source": [
        "unique_travel_cities"
      ]
    },
    {
      "cell_type": "markdown",
      "metadata": {
        "id": "FU-D2u8RXw_3"
      },
      "source": [
        "And you can see quickly that it differs from the list of top travel cities by checking the length."
      ]
    },
    {
      "cell_type": "code",
      "execution_count": null,
      "metadata": {
        "id": "Qg4Rl-DXXw_4",
        "outputId": "0be8e53e-a5f7-4c0a-f731-6d04be164dad"
      },
      "outputs": [
        {
          "data": {
            "text/plain": [
              "13"
            ]
          },
          "execution_count": 37,
          "metadata": {},
          "output_type": "execute_result"
        }
      ],
      "source": [
        "len(unique_travel_cities)"
      ]
    },
    {
      "cell_type": "code",
      "execution_count": null,
      "metadata": {
        "id": "h0pFJ6fHXw_6",
        "outputId": "d16b68b9-1fa0-4c5d-a6fa-9bf0ccad2ddc"
      },
      "outputs": [
        {
          "data": {
            "text/plain": [
              "14"
            ]
          },
          "execution_count": 38,
          "metadata": {},
          "output_type": "execute_result"
        }
      ],
      "source": [
        "len(top_travel_cities)"
      ]
    },
    {
      "cell_type": "markdown",
      "metadata": {
        "id": "Txgyt89DXxAB"
      },
      "source": [
        "> **Note:** *For most purposes, Python developers prefer to work with `lists` as opposed to sets, as `lists` are generally easier to manipulate, as you will see in future lessons.*\n",
        "\n",
        "## Summary\n",
        "\n",
        "In this section we saw how to associate data together in a collection, called a list.  A list is similar to a list in the real world - it implies the data has some connection, and that it has an order to it.  We initialize a list with the brackets, `[]`, and separate each element by a comma.  To access elements from a list, we use the bracket accessor followed by the index of the element we want to retrieve, and our indices begin at zero and increase by 1 from there. To add a new element to the end of the list we use the `append` method, and to remove an element from the end of a list we use the `pop` method. We can change elements anywhere between by first accessing the elements and then reassigning them."
      ]
    }
  ],
  "metadata": {
    "kernelspec": {
      "display_name": "saturn (Python 3)",
      "language": "python",
      "name": "python3"
    },
    "language_info": {
      "codemirror_mode": {
        "name": "ipython",
        "version": 3
      },
      "file_extension": ".py",
      "mimetype": "text/x-python",
      "name": "python",
      "nbconvert_exporter": "python",
      "pygments_lexer": "ipython3",
      "version": "3.10.6"
    },
    "colab": {
      "provenance": [],
      "include_colab_link": true
    }
  },
  "nbformat": 4,
  "nbformat_minor": 0
}