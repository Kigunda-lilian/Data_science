{
  "cells": [
    {
      "cell_type": "markdown",
      "metadata": {
        "id": "view-in-github",
        "colab_type": "text"
      },
      "source": [
        "<a href=\"https://colab.research.google.com/github/lilian-2021/-te/blob/main/Control_Flow_Conditionals.ipynb\" target=\"_parent\"><img src=\"https://colab.research.google.com/assets/colab-badge.svg\" alt=\"Open In Colab\"/></a>"
      ]
    },
    {
      "cell_type": "markdown",
      "metadata": {
        "id": "9JAqGbXIWy0h"
      },
      "source": [
        "# Control Flow: Conditionals\n",
        "\n",
        "## Introduction\n",
        "\n",
        "We have talked about different data types, how to use them, and the kinds of operations that we can perform on them. We have also talked about using Booleans (`True` or `False`) to inform decisions in our programming. Often when we want to implement a decision in our code, we'll use conditionals. Conditionals allow us to break up our code in a way that we can selectively perform operations like assigning a value or even just printing text.\n",
        "\n",
        "## Objectives\n",
        "\n",
        "You will be able to:\n",
        "\n",
        "* Use Python conditional statements\n",
        "\n",
        "## Execution Flow\n",
        "\n",
        " So far in Python, all of our lines of code run one after the other. So in the code below, `vacation_days` is initially assigned to `0`, then it is reassigned by incrementing by one, and again reassigned by incrementing again by one, which brings the `vacation_days` to a total of `2`."
      ]
    },
    {
      "cell_type": "code",
      "execution_count": null,
      "metadata": {
        "id": "jJmZPBb2Wy2Y",
        "outputId": "52eaf492-774c-40b0-beb4-9256592f3156"
      },
      "outputs": [
        {
          "name": "stdout",
          "output_type": "stream",
          "text": [
            "2\n"
          ]
        }
      ],
      "source": [
        "# set-up vacation_days variable\n",
        "vacation_days = 0\n",
        "\n",
        "# add 1 to vacation_days and rewrite itself\n",
        "vacation_days = vacation_days + 1\n",
        "vacation_days = vacation_days + 1\n",
        "\n",
        "# print how many vacation days there are\n",
        "print(vacation_days)"
      ]
    },
    {
      "cell_type": "code",
      "execution_count": null,
      "metadata": {
        "id": "Ll8jxbYSWy3V",
        "outputId": "3527c6bf-5dd1-46ac-ddf1-3e445b3ee954"
      },
      "outputs": [
        {
          "name": "stdout",
          "output_type": "stream",
          "text": [
            "2\n"
          ]
        }
      ],
      "source": [
        "# reset variable to 0\n",
        "vacation_days = 0\n",
        "\n",
        "# this does the same as above\n",
        "vacation_days += 1\n",
        "vacation_days += 1\n",
        "\n",
        "# print how many vacation days there are\n",
        "print(vacation_days)"
      ]
    },
    {
      "cell_type": "markdown",
      "metadata": {
        "id": "fZz7ZYrVWy3Y"
      },
      "source": [
        "> The `+=` is used to increment the current value of the variable and assign this new value back to it. The statement `vacation_days += 1` can be thought of as `vacation_days = vacation_days + 1`.\n",
        "On line 1 we assign `vacation_days` the value `0`. So, on line two, we reassign `vacation_days` to equal the current value of `vacation_days`, which is `0`, plus `1`. Again we increment vacation_days on line 3, which would now equate to `1 + 1`, and finally we output the new value of `vacation_days`, `2`.\n",
        "\n",
        "## If Statement\n",
        "In Python there are three conditional statements, `if`, `elif`, and `else`. Every conditional statement is required to begin with an `if`. The `elif` and `else` statements are not always required. `elif` is short for **else if**.\n",
        "\n",
        "Now what if we wanted to only increment our vacation days based on a condtion? We could imagine a condition in this context being whether or not we hit our goals this quarter at work. If that condition were `True`, we would want to increase our vacation days. However, if that condition is not `True`, we can't increase our vacation time. Let's look at the code below that contains an `if` statement.\n",
        "\n",
        "Code that is part of an `if` statement *block* runs only when the condition evaluates to `True`. So if the condition evaluates to `False` our block of code will not be run and it moves on to the next block.\n",
        "\n",
        "> **Note:** A *block* is any code that is grouped together. With conditionals, we indicate that something is part of the *block* by *indentation*. So the line `vacation_days += 1` is indented to ensure that it is run as a part of the conditional argument below. To end the block we simply stop indenting.\n",
        "\n",
        "> **Note:** In all of the following code blocks, pay close attention to how the variable `vacation_days` is affected depending on the value and order of the conditions. The idea is to understand how Python decides which code should run when it comes across an `if`, `elif`, and `else` statement."
      ]
    },
    {
      "cell_type": "code",
      "execution_count": null,
      "metadata": {
        "id": "Gsf5D7uhWy3a",
        "outputId": "18791119-e172-4fac-e47d-a4b0d9e6859d"
      },
      "outputs": [
        {
          "name": "stdout",
          "output_type": "stream",
          "text": [
            "vacation_days =  2\n",
            "we incremented vacation days\n"
          ]
        }
      ],
      "source": [
        "vacation_days = 1\n",
        "goals_met = True\n",
        "if goals_met:\n",
        "    # all code indented under the if statement is the block\n",
        "    # indented code runs since conditional argument is True\n",
        "    vacation_days += 1\n",
        "    print(\"vacation_days = \", vacation_days)\n",
        "    print(\"we incremented vacation days\")\n",
        "# if block ends"
      ]
    },
    {
      "cell_type": "markdown",
      "metadata": {
        "id": "-dlYJjIzWy3q"
      },
      "source": [
        "Because our condition was `True`, our block of code ran. We added 1 day to our `vacation_days` variable and printed two statements.\n",
        "\n",
        "What if the first conditional was set to `False` but we wanted to make sure there is *some* code that runs no matter what? That is where we can use our `else` statement."
      ]
    },
    {
      "cell_type": "code",
      "execution_count": null,
      "metadata": {
        "id": "AfN_4y-aWy4L",
        "outputId": "1bb70546-05ed-483f-e852-505b8d677d7c"
      },
      "outputs": [
        {
          "name": "stdout",
          "output_type": "stream",
          "text": [
            "vacation_days =  1\n",
            "we did NOT increment vacation days\n"
          ]
        }
      ],
      "source": [
        "vacation_days = 1\n",
        "goals_met = False\n",
        "if goals_met:\n",
        "    # if block starts\n",
        "    # code does not run since conditional argument is False\n",
        "    vacation_days += 1\n",
        "    print(\"vacation_days = \", vacation_days)\n",
        "    print(\"we incremented vacation days\")\n",
        "# if block ends\n",
        "else:\n",
        "    # else block starts\n",
        "    print(\"vacation_days = \", vacation_days)\n",
        "    print(\"we did NOT increment vacation days\")\n",
        "# else block ends"
      ]
    },
    {
      "cell_type": "markdown",
      "metadata": {
        "collapsed": true,
        "id": "6Ui3qJ-JWy4U"
      },
      "source": [
        "Above we can see that the condition following the `if` is `False` and the code directly underneath is not run. The variable `vacation_days` stays assigned to the number 1. However, since we now have an `else` statement, our `if` block gets skipped and we then move on to the block of code underneath our `else` statement, which we can see prints the number of vacation days and a message indicating that we did not increment the vacation days.\n",
        "\n",
        "But what if we have a second condition? Let's say we really worked hard and exceeded all our goals for the quarter? Maybe instead of incrementing just `1` day, we increment our vacation days by `2`! The third conditional statement is an `elif` statement, which is essentially another `if` statement that follows the first `if` statement. `elif` still requires a condition and a block of code, but it only comes after an `if` statement or another `elif` statement.\n",
        "\n",
        "Let's take a look:"
      ]
    },
    {
      "cell_type": "code",
      "execution_count": null,
      "metadata": {
        "id": "8cgqMZ9tWy4p",
        "outputId": "0cf0f367-00e3-42a9-be5f-546bf9042856"
      },
      "outputs": [
        {
          "name": "stdout",
          "output_type": "stream",
          "text": [
            "vacation_days =  1\n",
            "we did NOT increment vacation days\n"
          ]
        }
      ],
      "source": [
        "vacation_days = 1\n",
        "goals_met = False\n",
        "goals_exceeded = False\n",
        "if goals_met:\n",
        "    # code does not run since conditional argument is False\n",
        "    vacation_days += 1\n",
        "    print(\"vacation_days = \", vacation_days)\n",
        "    print(\"we incremented vacation days\")\n",
        "elif goals_exceeded:\n",
        "    print(\"We are now in our elif statement!\")\n",
        "    print(\"This means that we exceeded our goals this quarter\")\n",
        "    print(\"We will increase our vacation days by two\")\n",
        "    vacation_days += 2\n",
        "    print(\"vacation_days = \", vacation_days)\n",
        "else:\n",
        "    print(\"vacation_days = \", vacation_days)\n",
        "    print(\"we did NOT increment vacation days\")"
      ]
    },
    {
      "cell_type": "markdown",
      "metadata": {
        "id": "a0mSOH1EWy5I"
      },
      "source": [
        "It is important to note that an `else` block comes last and will **only** run if all the conditions before it are false.\n",
        "\n",
        "## Truthiness\n",
        "\n",
        "![truthiness](https://upload.wikimedia.org/wikipedia/en/8/85/Truthiness.png)\n",
        "\n",
        "So far our conditionals have depended on whether something evaluates exactly to `True` or `False`.  But conditionals don't force us to be so precise. Conditionals also consider some values `True` if they are `truthy` and `False` if they are `falsy`.  Take a look at the following:"
      ]
    },
    {
      "cell_type": "code",
      "execution_count": null,
      "metadata": {
        "id": "BOmQDmWwWy5e",
        "outputId": "776d8c1d-7086-416b-9c39-8448a308873d"
      },
      "outputs": [
        {
          "data": {
            "text/plain": [
              "2"
            ]
          },
          "execution_count": 5,
          "metadata": {},
          "output_type": "execute_result"
        }
      ],
      "source": [
        "vacation_days = 1\n",
        "if vacation_days:\n",
        "    # this is run\n",
        "    vacation_days += 1\n",
        "vacation_days"
      ]
    },
    {
      "cell_type": "markdown",
      "metadata": {
        "id": "78SwiTEsWy5x"
      },
      "source": [
        "z# Even though `vacation_days` did not evaluate to `True`, it still ran the code in the `if` block because the value for `vacation_days` was `1`, which is considered `truthy`.\n",
        "\n",
        "So, from this we can surmise that numbers are **truthy** values. EXCEPT, in Python `0` is **not** considered a truthy value.   "
      ]
    },
    {
      "cell_type": "code",
      "execution_count": null,
      "metadata": {
        "id": "Dh5JM7FRWy54",
        "outputId": "8092febc-e5cd-4726-f769-ea6e5d7dbf9a"
      },
      "outputs": [
        {
          "data": {
            "text/plain": [
              "0"
            ]
          },
          "execution_count": 8,
          "metadata": {},
          "output_type": "execute_result"
        }
      ],
      "source": [
        "vacation_days = 0\n",
        "if vacation_days:\n",
        "    # this is not run\n",
        "    vacation_days += 1\n",
        "vacation_days"
      ]
    },
    {
      "cell_type": "markdown",
      "metadata": {
        "id": "o-Tk7Bo4Wy55"
      },
      "source": [
        "If `0` is **not truthy**, and it is not `True` or `False`, what is it? Just as Python has **truthy** values, it has **falsy** values (or values that are treated as False in conditional statements), and `0` is considered a falsy value.\n",
        "\n",
        "Above, we can see that the `if` block was not run and `vacation_days` was not incremented, almost as if `vacation_days` evaluated to `False`.\n",
        "\n",
        "So what is truthy and what is falsy in Python?  Zero is falsy, and `None` is falsy.  Also falsy are values like empty strings (`\"\"`) and empty lists (`[]`), which we will learn more about in later lessons. Let's take a look at this."
      ]
    },
    {
      "cell_type": "code",
      "execution_count": null,
      "metadata": {
        "scrolled": true,
        "id": "6qaqOQGhWy6K",
        "outputId": "4fbb73af-b004-4936-f839-7aa6a3cac24c"
      },
      "outputs": [
        {
          "data": {
            "text/plain": [
              "'nashHello'"
            ]
          },
          "execution_count": 9,
          "metadata": {},
          "output_type": "execute_result"
        }
      ],
      "source": [
        "greeting = ''\n",
        "if greeting:\n",
        "    greeting += 'Hello'\n",
        "else:\n",
        "    greeting += 'Goodbye'\n",
        "greeting"
      ]
    },
    {
      "cell_type": "markdown",
      "metadata": {
        "id": "yJAWMCfjWy6b"
      },
      "source": [
        "If we are ever curious about the whether something is truthy or falsy in Python, we can just ask with the `bool` function."
      ]
    },
    {
      "cell_type": "code",
      "execution_count": null,
      "metadata": {
        "scrolled": true,
        "id": "9HixeDYaWy6c",
        "outputId": "6f494bff-de43-474f-90ba-b277d880fd59"
      },
      "outputs": [
        {
          "data": {
            "text/plain": [
              "False"
            ]
          },
          "execution_count": 9,
          "metadata": {},
          "output_type": "execute_result"
        }
      ],
      "source": [
        "bool(0) # False"
      ]
    },
    {
      "cell_type": "code",
      "execution_count": null,
      "metadata": {
        "id": "J85n-kZAWy6e",
        "outputId": "df35c1c2-9cf3-4b8f-f0c0-bc24f99bf37e"
      },
      "outputs": [
        {
          "data": {
            "text/plain": [
              "True"
            ]
          },
          "execution_count": 10,
          "metadata": {},
          "output_type": "execute_result"
        }
      ],
      "source": [
        "bool(1) # True"
      ]
    },
    {
      "cell_type": "code",
      "execution_count": null,
      "metadata": {
        "scrolled": true,
        "id": "9NJkfQM7Wy63",
        "outputId": "770fe389-37e8-464d-c7b2-a52f33f0caae"
      },
      "outputs": [
        {
          "data": {
            "text/plain": [
              "False"
            ]
          },
          "execution_count": 11,
          "metadata": {},
          "output_type": "execute_result"
        }
      ],
      "source": [
        "bool('')"
      ]
    },
    {
      "cell_type": "code",
      "execution_count": null,
      "metadata": {
        "id": "c1sHexXYWy67",
        "outputId": "a6f06d45-e607-40cb-bf65-8f4bc4d23780"
      },
      "outputs": [
        {
          "data": {
            "text/plain": [
              "False"
            ]
          },
          "execution_count": 12,
          "metadata": {},
          "output_type": "execute_result"
        }
      ],
      "source": [
        "bool([])"
      ]
    },
    {
      "cell_type": "markdown",
      "metadata": {
        "id": "WcHRHgF8Wy68"
      },
      "source": [
        "Boolean values (`True` and `False`) can also be used in mathematical equations. `True` is set to 1 and `False` is set to 0."
      ]
    },
    {
      "cell_type": "code",
      "execution_count": null,
      "metadata": {
        "id": "aD0SUzUIWy69",
        "outputId": "a3f24775-133f-4a54-9a37-fb75b5d54d04"
      },
      "outputs": [
        {
          "data": {
            "text/plain": [
              "7"
            ]
          },
          "execution_count": 13,
          "metadata": {},
          "output_type": "execute_result"
        }
      ],
      "source": [
        "True + 5 + True"
      ]
    },
    {
      "cell_type": "code",
      "execution_count": null,
      "metadata": {
        "id": "MVnpT9T8Wy7M",
        "outputId": "7a6f15d7-7558-49a5-b8eb-43db60ed01d8"
      },
      "outputs": [
        {
          "data": {
            "text/plain": [
              "2"
            ]
          },
          "execution_count": 14,
          "metadata": {},
          "output_type": "execute_result"
        }
      ],
      "source": [
        "True - False - False + True"
      ]
    },
    {
      "cell_type": "code",
      "execution_count": null,
      "metadata": {
        "id": "xsBpcZE_Wy7O",
        "outputId": "2728a750-6b4c-4f7a-9822-f4f83e0c53ec"
      },
      "outputs": [
        {
          "data": {
            "text/plain": [
              "4"
            ]
          },
          "execution_count": 15,
          "metadata": {},
          "output_type": "execute_result"
        }
      ],
      "source": [
        "True * 4"
      ]
    },
    {
      "cell_type": "markdown",
      "metadata": {
        "id": "I9lIi59ZWy7Y"
      },
      "source": [
        "We can see how this can be put to use in an If statement"
      ]
    },
    {
      "cell_type": "code",
      "execution_count": null,
      "metadata": {
        "id": "rNocYgazWy7c",
        "outputId": "a9e52770-eb19-4af2-dc4d-b22deb828df8"
      },
      "outputs": [
        {
          "name": "stdout",
          "output_type": "stream",
          "text": [
            "Truthy\n"
          ]
        }
      ],
      "source": [
        "test_var = 1\n",
        "\n",
        "if test_var:\n",
        "    print('Truthy')\n",
        "else:\n",
        "    print('Falsey')"
      ]
    },
    {
      "cell_type": "markdown",
      "metadata": {
        "collapsed": true,
        "id": "ItFGJXf8Wy7d"
      },
      "source": [
        "## Using Data to Make Decisions\n",
        "\n",
        "Our code in conditional arguments becomes more interesting when we use conditional arguments that are less direct than just `True` or `False`.\n",
        "\n",
        "Let's say you have a management system that allows employees to put in their vacation days and the system has a way of auto tagging vacations as disruptive, average, or minimal based on the number of days being taken off. This helps to give immediate feedback for you so that you can make sure to plan deadlines and staff projects  appropriately. So, we'll use conditional statements that use the number of days taken off as the input to figure out if the vacation is disruptive, normal, or minimal.\n",
        "\n",
        "Let's start out with just creating logic that creates a tag for disruptive vacations or vacations longer than 5 days off of work. All other vacations can be tagged as average."
      ]
    },
    {
      "cell_type": "code",
      "execution_count": null,
      "metadata": {
        "id": "nv1d0ZWxWy7e",
        "outputId": "6f3b1bf9-8e54-491d-f199-e206ad76a724"
      },
      "outputs": [
        {
          "name": "stdout",
          "output_type": "stream",
          "text": [
            "#disruptive\n"
          ]
        }
      ],
      "source": [
        "number_of_days = 7\n",
        "if number_of_days > 5:\n",
        "    print(\"#disruptive\")\n",
        "else:\n",
        "    print(\"#average\")"
      ]
    },
    {
      "cell_type": "markdown",
      "metadata": {
        "id": "qMbmEvP3Wy7x"
      },
      "source": [
        "Great, now what if we want to tag vacations that are under 3 days off as minimally disruptive? Well, we don't want to create a new if block entirely. If we do, then our else statement will always run and we'll get `#average` and `#minimal`, which is not what we want.\n",
        "\n",
        "So, we'll have to use an `elif` statement."
      ]
    },
    {
      "cell_type": "code",
      "execution_count": null,
      "metadata": {
        "id": "k6rjafawWy7z",
        "outputId": "bc907666-35fc-4e35-a069-286f558b3707"
      },
      "outputs": [
        {
          "name": "stdout",
          "output_type": "stream",
          "text": [
            "#minimal\n"
          ]
        }
      ],
      "source": [
        "number_of_days = 2\n",
        "if number_of_days > 5:\n",
        "    print(\"#disruptive\")\n",
        "elif number_of_days < 3:\n",
        "    print(\"#minimal\")\n",
        "else:\n",
        "    print(\"#average\")"
      ]
    },
    {
      "cell_type": "code",
      "execution_count": null,
      "metadata": {
        "id": "mm3gUFIeWy70",
        "outputId": "66d7c89b-f0cc-40ab-f04c-e1e3fae6fd14"
      },
      "outputs": [
        {
          "name": "stdout",
          "output_type": "stream",
          "text": [
            "#average\n"
          ]
        }
      ],
      "source": [
        "number_of_days = 3\n",
        "if number_of_days > 5:\n",
        "    print(\"#disruptive\")\n",
        "elif number_of_days < 3:\n",
        "    print(\"#minimal\")\n",
        "else:\n",
        "    print(\"#average\")"
      ]
    },
    {
      "cell_type": "markdown",
      "metadata": {
        "id": "COgbff9HWy7-"
      },
      "source": [
        "We can see how powerful this kind of code can be to creating dynamic and efficient programs and to makings decisions. Now, there is no need for anyone to manually rank each employee's vacations and we now have a system that flags vacations that might need some special planning by management in order to keep work running smoothly.\n",
        "\n",
        "## Summary\n",
        "\n",
        "In this lesson, we saw how conditionals allow us to make decisions with our code by only executing code under the `if` statement when the conditional argument is `True` or truthy.  We then saw how we can use the `else` statement to only run code when the conditional argument is `False` or falsy, and as we know, code that is not in a conditional block is still run as normal. Next, we examined what is truthy or falsy, and saw that None, 0, empty strings, and lists are all falsy. If we are unsure, we can use the `bool` function to see the boolean equivalent of a piece of data. Finally, we used `if`, `elif`, and `else` statements together to make decisions based on the conditions of our problem."
      ]
    }
  ],
  "metadata": {
    "kernelspec": {
      "display_name": "saturn (Python 3)",
      "language": "python",
      "name": "python3"
    },
    "language_info": {
      "codemirror_mode": {
        "name": "ipython",
        "version": 3
      },
      "file_extension": ".py",
      "mimetype": "text/x-python",
      "name": "python",
      "nbconvert_exporter": "python",
      "pygments_lexer": "ipython3",
      "version": "3.10.6"
    },
    "toc": {
      "base_numbering": 1,
      "nav_menu": {},
      "number_sections": true,
      "sideBar": true,
      "skip_h1_title": false,
      "title_cell": "Table of Contents",
      "title_sidebar": "Contents",
      "toc_cell": false,
      "toc_position": {},
      "toc_section_display": true,
      "toc_window_display": false
    },
    "colab": {
      "provenance": [],
      "include_colab_link": true
    }
  },
  "nbformat": 4,
  "nbformat_minor": 0
}