{
  "cells": [
    {
      "cell_type": "markdown",
      "metadata": {
        "id": "view-in-github",
        "colab_type": "text"
      },
      "source": [
        "<a href=\"https://colab.research.google.com/github/lilian-2021/DS/blob/main/Looping_Over_Collections_Lab.ipynb\" target=\"_parent\"><img src=\"https://colab.research.google.com/assets/colab-badge.svg\" alt=\"Open In Colab\"/></a>"
      ]
    },
    {
      "cell_type": "code",
      "source": [],
      "metadata": {
        "id": "XhSWzXMHwUDK"
      },
      "execution_count": null,
      "outputs": []
    },
    {
      "cell_type": "markdown",
      "metadata": {
        "id": "669NvDp_wP6S"
      },
      "source": [
        "# Looping Over Collections - Lab\n",
        "\n",
        "## Introduction\n",
        "In this lab, we will be practicing what we know about `for` loops. We will use them to reduce the amount of code we write by hand to iterate through collections. We will use data from the excel file, `cities.xlsx`, that has data on different cities, their populations, and their areas. Finally, we will use this information to plot and compare each city. Let's get started!\n",
        "\n",
        "## Objectives\n",
        "\n",
        "You will be able to:\n",
        "\n",
        "* Use a `for` loop to iterate over a collection\n",
        "\n",
        "## Identifying When To Use a For Loop\n",
        "\n",
        "In the last lesson, we worked with some of our travel data.  Additional data has been compiled in the `cities.xlsx` excel spreadsheet. Let's retrieve this data from excel using the Pandas library. Don't worry if Pandas feels unfamiliar, it will be covered in detail later. For now, just follow the provided code and get a feel for what is happening. First, read the information from the excel file as a list of dictionaries, with each dictionary representing a location. Then, assign this list to the variable `cities`."
      ]
    },
    {
      "cell_type": "code",
      "execution_count": null,
      "metadata": {
        "id": "SXS2XP_RwP72",
        "outputId": "08e5f863-4328-44ce-949e-f8913836a590"
      },
      "outputs": [
        {
          "data": {
            "text/html": [
              "<div>\n",
              "<style scoped>\n",
              "    .dataframe tbody tr th:only-of-type {\n",
              "        vertical-align: middle;\n",
              "    }\n",
              "\n",
              "    .dataframe tbody tr th {\n",
              "        vertical-align: top;\n",
              "    }\n",
              "\n",
              "    .dataframe thead th {\n",
              "        text-align: right;\n",
              "    }\n",
              "</style>\n",
              "<table border=\"1\" class=\"dataframe\">\n",
              "  <thead>\n",
              "    <tr style=\"text-align: right;\">\n",
              "      <th></th>\n",
              "      <th>City</th>\n",
              "      <th>Population</th>\n",
              "    </tr>\n",
              "  </thead>\n",
              "  <tbody>\n",
              "    <tr>\n",
              "      <th>2</th>\n",
              "      <td>Pyeongchang</td>\n",
              "      <td>2581000</td>\n",
              "    </tr>\n",
              "    <tr>\n",
              "      <th>7</th>\n",
              "      <td>Archipelago Sea</td>\n",
              "      <td>60000</td>\n",
              "    </tr>\n",
              "    <tr>\n",
              "      <th>9</th>\n",
              "      <td>Salina Island</td>\n",
              "      <td>4000</td>\n",
              "    </tr>\n",
              "  </tbody>\n",
              "</table>\n",
              "</div>"
            ],
            "text/plain": [
              "              City  Population\n",
              "2      Pyeongchang     2581000\n",
              "7  Archipelago Sea       60000\n",
              "9    Salina Island        4000"
            ]
          },
          "execution_count": 4,
          "metadata": {},
          "output_type": "execute_result"
        }
      ],
      "source": [
        "import pandas as pd\n",
        "file_name = './cities.xlsx'\n",
        "travel_df = pd.read_excel(file_name)\n",
        "cities = travel_df.to_dict('records')\n",
        "travel_df[['City','Population']].sample(3)\n"
      ]
    },
    {
      "cell_type": "code",
      "execution_count": null,
      "metadata": {
        "id": "J0mxDg0UwP8s",
        "outputId": "a1ae17a3-1dcd-4f05-cf6c-cb53ae291ee3"
      },
      "outputs": [
        {
          "name": "stdout",
          "output_type": "stream",
          "text": [
            "[('Buenos Aires', 2891000), ('Toronto', 2800000), ('Pyeongchang', 2581000)]\n"
          ]
        }
      ],
      "source": [
        "# retrieve the first three city names, stored as the 'City' attribute of each dictionary, and 'Population' of each of the cities.\n",
        "first_three_cities = []\n",
        "for city_data in cities[:3]:\n",
        "    city_name = city_data['City']\n",
        "    population = city_data['Population']\n",
        "#     list\n",
        "#     first_three_cities.append([city_name, population])\n",
        "#     tuple\n",
        "    first_three_cities.append((city_name, population))\n",
        "\n",
        "print(first_three_cities)"
      ]
    },
    {
      "cell_type": "code",
      "execution_count": null,
      "metadata": {
        "id": "_bgEHhiIwP84",
        "outputId": "7754ed66-54f7-4292-d967-43647d13b5c0"
      },
      "outputs": [
        {
          "name": "stdout",
          "output_type": "stream",
          "text": [
            "[('Buenos Aires', 2891000), ('Toronto', 2800000), ('Pyeongchang', 2581000)]\n",
            "['Buenos Aires', 'Toronto', 'Pyeongchang']\n",
            "[2891000, 2800000, 2581000]\n"
          ]
        }
      ],
      "source": [
        "first_three_cities = []\n",
        "first_three_cities_name = []\n",
        "first_three_cities_pop = []\n",
        "for city_data in cities[:3]:\n",
        "    city_name = city_data['City']\n",
        "    population = city_data['Population']\n",
        "    first_three_cities.append((city_name, population))\n",
        "    first_three_cities_name.append(city_name)\n",
        "    first_three_cities_pop.append(population)\n",
        "\n",
        "print(first_three_cities)\n",
        "print(first_three_cities_name)\n",
        "print(first_three_cities_pop)"
      ]
    },
    {
      "cell_type": "markdown",
      "metadata": {
        "id": "KTdM5JAowP9M"
      },
      "source": [
        "Next, retrieve the first three city names, stored as the `'City'` attribute of each dictionary, and `'Population'` of each of the cities.  Then plot the names as our `x_values` and the populations as our `y_values` using the `matplotlib` library. Again, don't worry about understanding all of the details behind what `matplotlib` is doing. It will be covered in more detail soon."
      ]
    },
    {
      "cell_type": "code",
      "execution_count": null,
      "metadata": {
        "id": "RoSDKuehwP9T",
        "outputId": "1e529104-4af6-4cc4-9416-0ee74942823e"
      },
      "outputs": [
        {
          "data": {
            "image/png": "[encoded data removed]",
            "text/plain": [
              "<Figure size 640x480 with 1 Axes>"
            ]
          },
          "metadata": {},
          "output_type": "display_data"
        }
      ],
      "source": [
        "import matplotlib.pyplot as plt\n",
        "\n",
        "%matplotlib inline\n",
        "\n",
        "x_values = [cities[0]['City'], cities[1]['City'], cities[2]['City']]\n",
        "y_values = [cities[0]['Population'], cities[1]['Population'], cities[2]['Population']]\n",
        "\n",
        "plt.bar(x_values, y_values)\n",
        "plt.ylabel('Population')\n",
        "plt.title('City Populations')\n",
        "\n",
        "plt.show()"
      ]
    },
    {
      "cell_type": "code",
      "execution_count": null,
      "metadata": {
        "id": "H3mU0ujKwP9y",
        "outputId": "339d152b-3bdd-4382-9dc8-50b8efdddcee"
      },
      "outputs": [
        {
          "data": {
            "image/png": "[encoded data removed]",
            "text/plain": [
              "<Figure size 640x480 with 1 Axes>"
            ]
          },
          "metadata": {},
          "output_type": "display_data"
        }
      ],
      "source": [
        "x_values = first_three_cities_name\n",
        "y_values = first_three_cities_pop\n",
        "\n",
        "plt.bar(x_values, y_values)\n",
        "plt.ylabel('Population')\n",
        "plt.title('City Populations')\n",
        "\n",
        "plt.show()"
      ]
    },
    {
      "cell_type": "markdown",
      "metadata": {
        "id": "SfwFpJMXwP-K"
      },
      "source": [
        "Of course, as you may have spotted, there is a good amount of repetition in displaying this data.  Just take a look at how we retrieved the data for our `x_values` and `y_values`. And you'll notice that, unless we know the exact number of cities and populations in our excel file, this method of retrieving data might miss some data or try to access values that don't exist.\n",
        "\n",
        "We can take a close look at this below:"
      ]
    },
    {
      "cell_type": "code",
      "execution_count": null,
      "metadata": {
        "id": "3YrC05XxwQAQ"
      },
      "outputs": [],
      "source": [
        "x_values = [cities[0]['City'], cities[1]['City'], cities[2]['City']]\n",
        "y_values = [cities[0]['Population'], cities[1]['Population'], cities[2]['Population']]"
      ]
    },
    {
      "cell_type": "markdown",
      "metadata": {
        "id": "eVXIILK2wQAa"
      },
      "source": [
        "As we can see, if we have any more than 3 lines of data, our `x_values` and `y_values` will be incomplete, and if we had only 2 lines of data, our code would break.\n",
        "\n",
        "So in this lesson, we will use `for` loop to display information about our travel locations with less repetition and more accuracy."
      ]
    },
    {
      "cell_type": "markdown",
      "metadata": {
        "id": "cjkK8w_MwQAl"
      },
      "source": [
        "## Instructions"
      ]
    },
    {
      "cell_type": "markdown",
      "metadata": {
        "id": "Q9HV889LwQAx"
      },
      "source": [
        "Before we get into creating graphs from our cities data, let's get a bit more comfortable with the data we are working with. Let's see if we can iterate through just one element (i.e. a city **dictionary** object) to get the **area**."
      ]
    },
    {
      "cell_type": "code",
      "execution_count": null,
      "metadata": {
        "id": "HxMBFRZHwQAy",
        "outputId": "eaee44c2-27b2-4443-ef68-2186fd971fd5"
      },
      "outputs": [
        {
          "data": {
            "text/plain": [
              "{'City': 'Buenos Aires',\n",
              " 'Country': 'Argentina',\n",
              " 'Population': 2891000,\n",
              " 'Area': 4758}"
            ]
          },
          "execution_count": 10,
          "metadata": {},
          "output_type": "execute_result"
        }
      ],
      "source": [
        "buenos_aires = cities[0]\n",
        "buenos_aires"
      ]
    },
    {
      "cell_type": "code",
      "execution_count": null,
      "metadata": {
        "id": "oyBkSzZhwQA6",
        "outputId": "4fcef9fd-a668-41d1-9f54-a670b0938af9"
      },
      "outputs": [
        {
          "data": {
            "text/plain": [
              "4758"
            ]
          },
          "execution_count": 11,
          "metadata": {},
          "output_type": "execute_result"
        }
      ],
      "source": [
        "# here we want to find just the area of buenos_aires\n",
        "buenos_aires_area = cities[0][\"Area\"]\n",
        "buenos_aires_area"
      ]
    },
    {
      "cell_type": "markdown",
      "metadata": {
        "id": "Grt3oN5SwQA9"
      },
      "source": [
        "Now that we have a bit more familiarity with our dictionaries, we can move to gathering all the information we need to create our traces.\n",
        "\n",
        "Our `cities` list contains information about the top 12 cities.  For our upcoming iteration tasks, it will be useful to have a list of the numbers 0 through 11.  Use what we know about `len` and `range`to generate a list of numbers 0 through 11.  Assign this to a variable called `city_indices`."
      ]
    },
    {
      "cell_type": "code",
      "execution_count": null,
      "metadata": {
        "id": "VE0etiIlwQBR",
        "outputId": "4a44352a-dd4c-4075-8547-d01f7326d879"
      },
      "outputs": [
        {
          "data": {
            "text/plain": [
              "[0, 1, 2, 3, 4, 5, 6, 7, 8, 9, 10, 11]"
            ]
          },
          "execution_count": 12,
          "metadata": {},
          "output_type": "execute_result"
        }
      ],
      "source": [
        "city_indices = list(range(0,len(cities)))\n",
        "city_indices"
      ]
    },
    {
      "cell_type": "markdown",
      "metadata": {
        "id": "dkse6IkHwQBU"
      },
      "source": [
        "Now, using the `cities` list, we want to create a list of the names for each city. Loop through each city and append it's name (`'City'`) to the `city_names` list."
      ]
    },
    {
      "cell_type": "code",
      "execution_count": null,
      "metadata": {
        "id": "7uryBdq-wQBd",
        "outputId": "1e126446-c1f3-4876-b9d1-7fe316cb601b"
      },
      "outputs": [
        {
          "data": {
            "text/plain": [
              "['Buenos Aires',\n",
              " 'Toronto',\n",
              " 'Pyeongchang',\n",
              " 'Marakesh',\n",
              " 'Albuquerque',\n",
              " 'Los Cabos',\n",
              " 'Greenville',\n",
              " 'Archipelago Sea',\n",
              " 'Walla Walla Valley',\n",
              " 'Salina Island',\n",
              " 'Solta',\n",
              " 'Iguazu Falls']"
            ]
          },
          "execution_count": 13,
          "metadata": {},
          "output_type": "execute_result"
        }
      ],
      "source": [
        "city_names = [cities[0]['City'], cities[1]['City'], cities[2]['City'], cities[3]['City'], cities[4]['City'], cities[5]['City'], cities[6]['City'], cities[7]['City'], cities[8]['City'], cities[9]['City'], cities[10]['City'], cities[11]['City']]\n",
        "\n",
        "city_names"
      ]
    },
    {
      "cell_type": "code",
      "execution_count": null,
      "metadata": {
        "id": "2hBIwNAYwQBi",
        "outputId": "c54b72cb-7a84-4416-aa9c-c87e0e5461d8"
      },
      "outputs": [
        {
          "ename": "TypeError",
          "evalue": "list indices must be integers or slices, not list",
          "output_type": "error",
          "traceback": [
            "\u001b[0;31m---------------------------------------------------------------------------\u001b[0m",
            "\u001b[0;31mTypeError\u001b[0m                                 Traceback (most recent call last)",
            "Cell \u001b[0;32mIn [15], line 2\u001b[0m\n\u001b[1;32m      1\u001b[0m \u001b[38;5;28;01mfor\u001b[39;00m city \u001b[38;5;129;01min\u001b[39;00m \u001b[38;5;28mlist\u001b[39m(\u001b[38;5;28mrange\u001b[39m(\u001b[38;5;241m0\u001b[39m,\u001b[38;5;28mlen\u001b[39m(cities))):\n\u001b[0;32m----> 2\u001b[0m     \u001b[38;5;28mprint\u001b[39m(\u001b[38;5;124m'\u001b[39m\u001b[38;5;124mnames_and_ranks = \u001b[39m\u001b[38;5;124m'\u001b[39m,\u001b[43mcities\u001b[49m\u001b[43m[\u001b[49m\u001b[43mcity_indices\u001b[49m\u001b[43m]\u001b[49m \u001b[38;5;241m+\u001b[39m cities[city])\n",
            "\u001b[0;31mTypeError\u001b[0m: list indices must be integers or slices, not list"
          ]
        }
      ],
      "source": [
        "for city in list(range(0,len(cities))):\n",
        "    print('names_and_ranks = ',cities[city_indices] + cities[city])"
      ]
    },
    {
      "cell_type": "markdown",
      "metadata": {
        "id": "7S8RrIUXwQBj"
      },
      "source": [
        "Your task is to assign the variable `names_and_ranks` to a list, with each element equal to the city name and its corresponding rank.  For example, the first element would be, `\"1. Buenos Aires\"` and the second would be `\"2. Toronto\"`. Luckily for us, the list of cities that we read from our excel file is already in order by most populous to least. So, all we need to do is add numbers 1 through 12 to the beginning of each city name.\n",
        "\n",
        "Use a `for` loop and the lists `city_indices` and `city_names` to accomplish this.  We'll need to perform some nifty string interpolation to format our strings properly.  Check out [f-string interpolation](https://www.programiz.com/python-programming/string-interpolation#f) to see how we can pass values into a string.  Remember that list indices start at zero, but we want our `names_and_ranks` list to start at one!"
      ]
    },
    {
      "cell_type": "code",
      "execution_count": null,
      "metadata": {
        "id": "zYU4AE92wQBk",
        "outputId": "b2775857-7e42-41ad-9bb6-a247bba5453b"
      },
      "outputs": [
        {
          "name": "stdout",
          "output_type": "stream",
          "text": [
            "1 . Buenos Aires\n",
            "2 . Toronto\n",
            "3 . Pyeongchang\n",
            "4 . Marakesh\n",
            "5 . Albuquerque\n",
            "6 . Los Cabos\n",
            "7 . Greenville\n",
            "8 . Archipelago Sea\n",
            "9 . Walla Walla Valley\n",
            "10 . Salina Island\n",
            "11 . Solta\n",
            "12 . Iguazu Falls\n"
          ]
        }
      ],
      "source": [
        "names_and_ranks = \"\"\n",
        "for index in city_indices:\n",
        "    names_and_ranks = print(index+1,\".\", city_names[index])\n",
        "    names_and_ranks\n",
        "# write a for loop that adds the properly formatted string to the names_and_ranks list"
      ]
    },
    {
      "cell_type": "code",
      "execution_count": null,
      "metadata": {
        "id": "vAWKhPBPwQBu",
        "outputId": "6bd1f4b9-dbb8-4720-da33-16ee52b549c5"
      },
      "outputs": [
        {
          "ename": "TypeError",
          "evalue": "'NoneType' object is not subscriptable",
          "output_type": "error",
          "traceback": [
            "\u001b[0;31m---------------------------------------------------------------------------\u001b[0m",
            "\u001b[0;31mTypeError\u001b[0m                                 Traceback (most recent call last)",
            "Cell \u001b[0;32mIn [34], line 2\u001b[0m\n\u001b[1;32m      1\u001b[0m \u001b[38;5;66;03m# run this cell to check that your output matches the format\u001b[39;00m\n\u001b[0;32m----> 2\u001b[0m \u001b[38;5;28mprint\u001b[39m(\u001b[43mnames_and_ranks\u001b[49m\u001b[43m[\u001b[49m\u001b[38;5;241;43m0\u001b[39;49m\u001b[43m]\u001b[49m)\n",
            "\u001b[0;31mTypeError\u001b[0m: 'NoneType' object is not subscriptable"
          ]
        }
      ],
      "source": [
        "# run this cell to check that your output matches the format\n",
        "print(names_and_ranks[0]) # '1. Buenos Aires'\n",
        "#print(names_and_ranks[1]) # '2. Toronto'\n",
        "#print(names_and_ranks[-1]) # '12. Iguazu Falls'"
      ]
    },
    {
      "cell_type": "markdown",
      "metadata": {
        "id": "G7rNTYvIwQBv"
      },
      "source": [
        "Ok, now use another `for` loop to iterate through our list of `cities` and create a new list called `city_populations` that has the population for each city (`Population`)."
      ]
    },
    {
      "cell_type": "code",
      "execution_count": null,
      "metadata": {
        "id": "u9I5z996wQBw"
      },
      "outputs": [],
      "source": [
        "city_populations = cities[2]\n",
        "# use a for loop to iterate through the list of cities with their corresponding population"
      ]
    },
    {
      "cell_type": "code",
      "execution_count": null,
      "metadata": {
        "id": "Pk-nLvXgwQBx"
      },
      "outputs": [],
      "source": [
        "print(city_populations[0]) # 2891000\n",
        "print(city_populations[1]) # 2800000\n",
        "print(city_populations[-1]) # 0"
      ]
    },
    {
      "cell_type": "markdown",
      "metadata": {
        "id": "PRhitWdpwQBx"
      },
      "source": [
        "Great! Now we can begin to plot this data. Again, we'll used `matplotlib` to create a bar graph with our cities and their respective population data. To do this, we use the `.bar()` function and pass in our x-axis and y-axis values, add a label and title, and finally we call the `.show()` function to view our new bar graph.\n",
        "\n",
        "> **Note:** In the example below, we are adding a custom rotation for our x-axis labels so that they do not overlap."
      ]
    },
    {
      "cell_type": "code",
      "execution_count": null,
      "metadata": {
        "id": "VoygE3FRwQBy"
      },
      "outputs": [],
      "source": [
        "plt.bar(names_and_ranks, city_populations)\n",
        "plt.xticks(rotation='vertical')\n",
        "plt.ylabel('Population')\n",
        "plt.title('City Populations')\n",
        "plt.show()"
      ]
    },
    {
      "cell_type": "markdown",
      "metadata": {
        "id": "zH5FMJwDwQCS"
      },
      "source": [
        "Now we want declare a variable called `city_areas` that points to a list of all of the areas of the cities.  Let's use a `for` loop to iterate through our `cities` and have `city_areas` equal to each area of the city.  "
      ]
    },
    {
      "cell_type": "code",
      "execution_count": null,
      "metadata": {
        "id": "THw8-kR6wQCT"
      },
      "outputs": [],
      "source": [
        "city_areas = []\n",
        "#write a for loop that adds the 'Area' of each city to the list city_areas"
      ]
    },
    {
      "cell_type": "markdown",
      "metadata": {
        "id": "fpm7WQI9wQCd"
      },
      "source": [
        "Now that we have the city areas and populations, let's plot them to see how the size of each city compares to its population."
      ]
    },
    {
      "cell_type": "code",
      "execution_count": null,
      "metadata": {
        "id": "8v3eo2TCwQCe"
      },
      "outputs": [],
      "source": [
        "plt.bar(names_and_ranks, city_populations)\n",
        "\n",
        "plt.ylabel('Population')\n",
        "plt.xlabel('Cities')\n",
        "plt.title('City Populations')\n",
        "plt.xticks(rotation='vertical')\n",
        "\n",
        "plt.show()"
      ]
    },
    {
      "cell_type": "code",
      "execution_count": null,
      "metadata": {
        "id": "CCYVDTUBwQCf"
      },
      "outputs": [],
      "source": [
        "plt.bar(names_and_ranks, city_areas)\n",
        "plt.ylabel('Area')\n",
        "plt.xlabel('Cities')\n",
        "plt.title('City Areas')\n",
        "plt.xticks(rotation='vertical')\n",
        "\n",
        "plt.show()"
      ]
    },
    {
      "cell_type": "markdown",
      "metadata": {
        "id": "NPteQJK0wQCf"
      },
      "source": [
        "## Summary\n",
        "\n",
        "In this section we saw how we can use `for` loops to go through elements of a list and perform the same operation on each.  By using `for` loops we were able to reduce the amount of code that we wrote and write more expressive code."
      ]
    }
  ],
  "metadata": {
    "kernelspec": {
      "display_name": "saturn (Python 3)",
      "language": "python",
      "name": "python3"
    },
    "language_info": {
      "codemirror_mode": {
        "name": "ipython",
        "version": 3
      },
      "file_extension": ".py",
      "mimetype": "text/x-python",
      "name": "python",
      "nbconvert_exporter": "python",
      "pygments_lexer": "ipython3",
      "version": "3.10.6"
    },
    "vscode": {
      "interpreter": {
        "hash": "7525ddc99344d304bee386e4294f627a69ef3ddf90a93199e89e426185c49e1b"
      }
    },
    "colab": {
      "provenance": [],
      "include_colab_link": true
    }
  },
  "nbformat": 4,
  "nbformat_minor": 0
}