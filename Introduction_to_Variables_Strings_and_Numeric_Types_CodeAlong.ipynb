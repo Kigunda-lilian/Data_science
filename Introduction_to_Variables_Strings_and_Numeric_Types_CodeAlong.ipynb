{
  "cells": [
    {
      "cell_type": "markdown",
      "metadata": {
        "id": "view-in-github",
        "colab_type": "text"
      },
      "source": [
        "<a href=\"https://colab.research.google.com/github/lilian-2021/-te/blob/main/Introduction_to_Variables_Strings_and_Numeric_Types_CodeAlong.ipynb\" target=\"_parent\"><img src=\"https://colab.research.google.com/assets/colab-badge.svg\" alt=\"Open In Colab\"/></a>"
      ]
    },
    {
      "cell_type": "markdown",
      "metadata": {
        "id": "IxZgzL_EWUz1"
      },
      "source": [
        "# Introduction to Variables: Strings and Numeric Types - CodeAlong\n",
        "\n",
        "## Introduction\n",
        "Now that we have learned about working with different types of data in Python: strings, numbers (ints and floats), and booleans, let's put that knowledge to the test. In this lab we'll imagine that we were at a nice social gathering and exchanged business cards with a few people. One of the business cards belongs to Art Vandelay, a new travel agent. We want to use our programming skills to format this information correctly.\n",
        "\n",
        "## Objectives\n",
        "\n",
        "You will be able to:\n",
        "\n",
        "* Apply string methods to make changes to a string\n",
        "* Use concatenation to combine strings\n",
        "* Perform basic mathematical operations with numeric data types\n",
        "\n",
        "## Instructions\n",
        "\n",
        "The next morning we take out the business card, ready to format it using our programming skills, and here is what we find.\n",
        "\n",
        "![](https://learn-verified.s3.amazonaws.com/data-science-assets/biz-card-mistakes.jpg)\n",
        "\n",
        "Yeah, Mr. Vandelay may not be the best at designing business cards, but like Mr. Vandelay, we know that people enter incorrect information on forms all the time.\n",
        "\n",
        "So as Data Scientists, we often need to clean and organize data before we can make sense of it.  Let's get to work.\n",
        "\n",
        "In this exercise, we'll see that there is some data already provided for us.  Next to the data, we will see a comment indicating what the data should look like after we change it.  \n",
        "\n",
        "> Comments are indicated in Python by a `#` followed by text. They do not get run and will not affect our code. Here we are using them to show what the intended output should be.\n",
        "\n",
        "For example, let's say we want to capitalize all of the letters of \"art vandelay\".  We'll see the following:"
      ]
    },
    {
      "cell_type": "code",
      "execution_count": null,
      "metadata": {
        "id": "webDmeM7WU04",
        "outputId": "4df02084-b444-409d-f5b7-dcb2f3f97537"
      },
      "outputs": [
        {
          "data": {
            "text/plain": [
              "'ART VANDELAY'"
            ]
          },
          "execution_count": 3,
          "metadata": {},
          "output_type": "execute_result"
        }
      ],
      "source": [
        "\"art vandelay\" # \"ART VANDELAY\"\n",
        "name  = \"art vandelay\"\n",
        "name.upper()"
      ]
    },
    {
      "cell_type": "markdown",
      "metadata": {
        "id": "KzyNqvfOWU1a"
      },
      "source": [
        "> **Reminder:** *to **run** the code in a jupyter notebook, press shift + enter after selecting the cell you would like to run.*\n",
        "\n",
        "To get our output to match the comment we can use the `upper()` method as shown here:"
      ]
    },
    {
      "cell_type": "code",
      "execution_count": null,
      "metadata": {
        "id": "7Te31rM9WU1j",
        "outputId": "d6e4c05c-a664-454f-e822-04e4b5e5c0e0"
      },
      "outputs": [
        {
          "data": {
            "text/plain": [
              "'ART VANDELAY'"
            ]
          },
          "execution_count": 2,
          "metadata": {},
          "output_type": "execute_result"
        }
      ],
      "source": [
        "\"art vandelay\".upper() # 'ART VANDELAY'"
      ]
    },
    {
      "cell_type": "markdown",
      "metadata": {
        "id": "plgcGJqvWU1l"
      },
      "source": [
        "## Get Going with Strings\n",
        "\n",
        "Our first problem will be to capitalize the first letter of each word in `\"art vandelay\"`. Find the correct string method to capitalize both the first and last names."
      ]
    },
    {
      "cell_type": "code",
      "execution_count": null,
      "metadata": {
        "id": "LJJ8e_0RWU1q",
        "outputId": "984f70ff-e526-43ae-98c5-99427d173c78"
      },
      "outputs": [
        {
          "data": {
            "text/plain": [
              "'art vandelay'"
            ]
          },
          "execution_count": 5,
          "metadata": {},
          "output_type": "execute_result"
        }
      ],
      "source": [
        "art_vandelay = \"art vandelay\" # 'Art Vandelay'\n",
        "art_vandelay"
      ]
    },
    {
      "cell_type": "code",
      "execution_count": null,
      "metadata": {
        "id": "UGJc1GRNWU11",
        "outputId": "cebfde12-8460-430d-9b8f-a9b1094290fc"
      },
      "outputs": [
        {
          "data": {
            "text/plain": [
              "'Art vandelay'"
            ]
          },
          "execution_count": 6,
          "metadata": {},
          "output_type": "execute_result"
        }
      ],
      "source": [
        "art_vandelay.capitalize()"
      ]
    },
    {
      "cell_type": "markdown",
      "metadata": {
        "id": "andjQRbEWU2I"
      },
      "source": [
        "Now let's turn all the letters of \"Ceo\" to uppercase."
      ]
    },
    {
      "cell_type": "code",
      "execution_count": null,
      "metadata": {
        "id": "BteILSH3WU2M",
        "outputId": "e9f0d46e-c3d5-433c-d51f-3ec83d3ea74e"
      },
      "outputs": [
        {
          "data": {
            "text/plain": [
              "'Ceo'"
            ]
          },
          "execution_count": 7,
          "metadata": {},
          "output_type": "execute_result"
        }
      ],
      "source": [
        "ceo = \"Ceo\" # 'CEO'\n",
        "ceo`"
      ]
    },
    {
      "cell_type": "code",
      "execution_count": null,
      "metadata": {
        "id": "tJarNv7FWU2Z",
        "outputId": "ed7ec73f-ff7b-4133-89b9-92ff31a66928"
      },
      "outputs": [
        {
          "data": {
            "text/plain": [
              "'CEO'"
            ]
          },
          "execution_count": 10,
          "metadata": {},
          "output_type": "execute_result"
        }
      ],
      "source": [
        "ceo.upper()"
      ]
    },
    {
      "cell_type": "markdown",
      "metadata": {
        "id": "rS3IaNN3WU2b"
      },
      "source": [
        "Next we will need our code to answer a question about email addresses. Every email address should end with \".com\". Find the right string method to check if the email address ends with `\".com\"` and return `True` or `False` accordingly."
      ]
    },
    {
      "cell_type": "code",
      "execution_count": null,
      "metadata": {
        "id": "eYV5CubQWU2d",
        "outputId": "ca39d90b-6aa9-4822-c72f-7fd3bb26d952"
      },
      "outputs": [
        {
          "data": {
            "text/plain": [
              "False"
            ]
          },
          "execution_count": 7,
          "metadata": {},
          "output_type": "execute_result"
        }
      ],
      "source": [
        "ends_with_com = \"art.vandelay@vandelay.co\" # False\n",
        "ends_with_com.endswith(\".com\")"
      ]
    },
    {
      "cell_type": "code",
      "execution_count": null,
      "metadata": {
        "id": "HqUAIWo0WU2j",
        "outputId": "faa030b0-acf8-493a-97e2-573fc93d86e6"
      },
      "outputs": [
        {
          "data": {
            "text/plain": [
              "False"
            ]
          },
          "execution_count": 12,
          "metadata": {},
          "output_type": "execute_result"
        }
      ],
      "source": [
        "ends_with_com.endswith(\"com\")"
      ]
    },
    {
      "cell_type": "markdown",
      "metadata": {
        "id": "Sxd5hXkjWU29"
      },
      "source": [
        "As you can see below, the website `\"vandelay.com\"` is not preceded by `\"www.\"`. We can perform what is called string concatenation to fix this! Use the plus sign, `'+'`, to change the website `'vandelay.com'` to the string `'www.vandelay.com'` by prepending `'www.'`."
      ]
    },
    {
      "cell_type": "code",
      "execution_count": null,
      "metadata": {
        "scrolled": true,
        "id": "rxnqr9Y0WU3A",
        "outputId": "4d8a4beb-12b3-434f-95a8-2ddac2f691a5"
      },
      "outputs": [
        {
          "data": {
            "text/plain": [
              "'vandelay.com'"
            ]
          },
          "execution_count": 13,
          "metadata": {},
          "output_type": "execute_result"
        }
      ],
      "source": [
        "web_address = 'vandelay.com' # 'www.vandelay.com'\n",
        "web_address"
      ]
    },
    {
      "cell_type": "code",
      "execution_count": null,
      "metadata": {
        "id": "BrqBrMDnWU3X",
        "outputId": "496884da-3aa9-4e78-82e6-3c9d11b7ad61"
      },
      "outputs": [
        {
          "data": {
            "text/plain": [
              "'www.'"
            ]
          },
          "execution_count": 10,
          "metadata": {},
          "output_type": "execute_result"
        }
      ],
      "source": [
        "web = \"www.\"\n",
        "web"
      ]
    },
    {
      "cell_type": "code",
      "execution_count": null,
      "metadata": {
        "id": "bUnn1awlWU3Z",
        "outputId": "c5837e6f-3e0d-422e-9749-d1303b5fa100"
      },
      "outputs": [
        {
          "data": {
            "text/plain": [
              "'www.vandelay.com'"
            ]
          },
          "execution_count": 17,
          "metadata": {},
          "output_type": "execute_result"
        }
      ],
      "source": [
        "web + web_address"
      ]
    },
    {
      "cell_type": "code",
      "execution_count": null,
      "metadata": {
        "id": "LB9zJXGpWU3l",
        "outputId": "a4edcd78-4425-4f97-9375-2562b1e10513"
      },
      "outputs": [
        {
          "data": {
            "text/plain": [
              "'www.vandelay.com'"
            ]
          },
          "execution_count": 12,
          "metadata": {},
          "output_type": "execute_result"
        }
      ],
      "source": [
        "f\"{web}vandelay.com\""
      ]
    },
    {
      "cell_type": "code",
      "execution_count": null,
      "metadata": {
        "id": "FD5o59vkWU3o",
        "outputId": "1c4629a2-9d5c-4fa8-c1a1-4e9034c4ea11"
      },
      "outputs": [
        {
          "data": {
            "text/plain": [
              "'www.vandelay.com'"
            ]
          },
          "execution_count": 13,
          "metadata": {},
          "output_type": "execute_result"
        }
      ],
      "source": [
        "\"{web}vandelay.com\".format(web = \"www.\" )"
      ]
    },
    {
      "cell_type": "markdown",
      "metadata": {
        "id": "FufOYu59WU34"
      },
      "source": [
        "## Working with Numbers\n",
        "\n",
        "Finally, Mr. Vandelay gave us his phone number, but he actually has two other phone numbers that are different from the one listed on his business card.  All three numbers are basically the same with the exception of the ending. Below, start by coercing the first phone number, which is currently a string, to an `int` and add one. Next do the same to the second phone number but increase it by two."
      ]
    },
    {
      "cell_type": "code",
      "execution_count": null,
      "metadata": {
        "id": "EFvNYYUTWU35",
        "outputId": "b39a03d5-cade-4011-acaa-ee53d801c5fb"
      },
      "outputs": [
        {
          "data": {
            "text/plain": [
              "'7285553334'"
            ]
          },
          "execution_count": 18,
          "metadata": {},
          "output_type": "execute_result"
        }
      ],
      "source": [
        "phone_num_one = \"7285553334\" # 7285553335\n",
        "phone_num_one"
      ]
    },
    {
      "cell_type": "code",
      "execution_count": null,
      "metadata": {
        "id": "Irjo3vnsWU39",
        "outputId": "f55436ef-4c5d-453f-da6b-1405e91e6758"
      },
      "outputs": [
        {
          "data": {
            "text/plain": [
              "7285553335"
            ]
          },
          "execution_count": 21,
          "metadata": {},
          "output_type": "execute_result"
        }
      ],
      "source": [
        "int(phone_num_one) + 1"
      ]
    },
    {
      "cell_type": "code",
      "execution_count": null,
      "metadata": {
        "id": "d065GU49WU4B",
        "outputId": "9a28a31a-8fdc-41b2-cfe0-d11912b2e1a7"
      },
      "outputs": [
        {
          "data": {
            "text/plain": [
              "'7285553334'"
            ]
          },
          "execution_count": 19,
          "metadata": {},
          "output_type": "execute_result"
        }
      ],
      "source": [
        "phone_num_two = \"7285553334\" # 7285553336\n",
        "phone_num_two"
      ]
    },
    {
      "cell_type": "code",
      "execution_count": null,
      "metadata": {
        "id": "JdktYzEUWU4C",
        "outputId": "5e932f99-fafc-4823-83b0-10225254666c"
      },
      "outputs": [
        {
          "data": {
            "text/plain": [
              "7285553336"
            ]
          },
          "execution_count": 22,
          "metadata": {},
          "output_type": "execute_result"
        }
      ],
      "source": [
        "int(phone_num_two) + 2"
      ]
    },
    {
      "cell_type": "markdown",
      "metadata": {
        "id": "lJiXgWvyWU4D"
      },
      "source": [
        "## Summary\n",
        "\n",
        "In this lab, we practiced working with string methods to operate on and answer questions about strings. We wrote methods that return Booleans and changed strings to integers in order to perform addition. So much of working with data is ensuring that it is properly formatted so we can then operate on it, and in this lab, we saw how to use code to do just that."
      ]
    }
  ],
  "metadata": {
    "kernelspec": {
      "display_name": "saturn (Python 3)",
      "language": "python",
      "name": "python3"
    },
    "language_info": {
      "codemirror_mode": {
        "name": "ipython",
        "version": 3
      },
      "file_extension": ".py",
      "mimetype": "text/x-python",
      "name": "python",
      "nbconvert_exporter": "python",
      "pygments_lexer": "ipython3",
      "version": "3.10.6"
    },
    "toc": {
      "base_numbering": 1,
      "nav_menu": {},
      "number_sections": true,
      "sideBar": true,
      "skip_h1_title": false,
      "title_cell": "Table of Contents",
      "title_sidebar": "Contents",
      "toc_cell": false,
      "toc_position": {},
      "toc_section_display": true,
      "toc_window_display": false
    },
    "colab": {
      "provenance": [],
      "include_colab_link": true
    }
  },
  "nbformat": 4,
  "nbformat_minor": 0
}