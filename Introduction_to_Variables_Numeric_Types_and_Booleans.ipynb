{
  "cells": [
    {
      "cell_type": "markdown",
      "metadata": {
        "id": "view-in-github",
        "colab_type": "text"
      },
      "source": [
        "<a href=\"https://colab.research.google.com/github/lilian-2021/-te/blob/main/Introduction_to_Variables_Numeric_Types_and_Booleans.ipynb\" target=\"_parent\"><img src=\"https://colab.research.google.com/assets/colab-badge.svg\" alt=\"Open In Colab\"/></a>"
      ]
    },
    {
      "cell_type": "markdown",
      "metadata": {
        "id": "rFN8i0nrV4G3"
      },
      "source": [
        "# Introduction to Variables: Numeric Types and Booleans\n",
        "\n",
        "## Introduction\n",
        "So, we know that we have a type for representing text, the String. But what if we want to represent other types of data, like Numbers? We are Data Scientists after all, and we'll be working with numbers a lot. In this lesson, we'll introduce both Numbers and Booleans, data types we will frequently use in Python.\n",
        "\n",
        "## Objectives\n",
        "You will be able to:\n",
        "\n",
        "* Use different numeric data types\n",
        "* Distinguish the difference between numeric data types\n",
        "* Perform basic mathematical operations with numeric data types\n",
        "* Use Boolean data types\n",
        "\n",
        "## What Are Numeric Data Types?\n",
        "\n",
        "All of us are familiar with numbers. `1492` is a number.  So is `34.75`. If we think about what the common operations are with numbers, we get a pretty good idea for what Python allows us to do with numbers.\n",
        "\n",
        "> **Note:** *to see the output of the following operations, press the shift + enter keys and run each cell*"
      ]
    },
    {
      "cell_type": "code",
      "execution_count": null,
      "metadata": {
        "id": "2hE-kpBUV4H-",
        "outputId": "17939332-57ca-400b-984e-1638c892132e"
      },
      "outputs": [
        {
          "data": {
            "text/plain": [
              "2"
            ]
          },
          "execution_count": 1,
          "metadata": {},
          "output_type": "execute_result"
        }
      ],
      "source": [
        "1 + 1"
      ]
    },
    {
      "cell_type": "code",
      "execution_count": null,
      "metadata": {
        "id": "NtPSPohXV4IY",
        "outputId": "77a79c30-6cf1-4784-95ce-ebc5dab2bc6c"
      },
      "outputs": [
        {
          "data": {
            "text/plain": [
              "10"
            ]
          },
          "execution_count": 2,
          "metadata": {},
          "output_type": "execute_result"
        }
      ],
      "source": [
        "2 * 5"
      ]
    },
    {
      "cell_type": "markdown",
      "metadata": {
        "id": "j3a2J2-TV4Id"
      },
      "source": [
        "If we look at a number for its type, we find something slightly different."
      ]
    },
    {
      "cell_type": "code",
      "execution_count": null,
      "metadata": {
        "id": "iTU-xBJcV4If",
        "outputId": "f6d1ec31-c409-4ab6-87a3-f26f4ea7295d"
      },
      "outputs": [
        {
          "data": {
            "text/plain": [
              "int"
            ]
          },
          "execution_count": 3,
          "metadata": {},
          "output_type": "execute_result"
        }
      ],
      "source": [
        "type(10)"
      ]
    },
    {
      "cell_type": "code",
      "execution_count": null,
      "metadata": {
        "id": "bBPHtXv5V4Ih",
        "outputId": "2e3d1a77-d2ee-4600-9185-109f536a9116"
      },
      "outputs": [
        {
          "data": {
            "text/plain": [
              "float"
            ]
          },
          "execution_count": 4,
          "metadata": {},
          "output_type": "execute_result"
        }
      ],
      "source": [
        "type(10.2)"
      ]
    },
    {
      "cell_type": "markdown",
      "metadata": {
        "id": "nhR5QeYtV4Ik"
      },
      "source": [
        "Python is simply indicating that a number without a decimal is called an `int` for ***integer***, and a number with a decimal is called a **float**. Both floats and integers are numeric data types, but for now, we can think of both of these simply as numbers."
      ]
    },
    {
      "cell_type": "code",
      "execution_count": null,
      "metadata": {
        "id": "rLrsw4ypV4Jf",
        "outputId": "43992695-c1c5-4d5c-9010-5e8b39ac5b1d"
      },
      "outputs": [
        {
          "data": {
            "text/plain": [
              "10.75"
            ]
          },
          "execution_count": 5,
          "metadata": {},
          "output_type": "execute_result"
        }
      ],
      "source": [
        "10 + 0.75"
      ]
    },
    {
      "cell_type": "markdown",
      "metadata": {
        "id": "7Bs2EElDV4Ji"
      },
      "source": [
        "As we can see in the above example, the `float`, `0.75`, plus the `int`, `10`, resolves to the `float`, `10.75`. So, a `float` combined with an `int` returns a number that is a `float`.\n",
        "\n",
        "## What is a Boolean?\n",
        "\n",
        "A Boolean (`bool`) has two possible values: **True** or **False**."
      ]
    },
    {
      "cell_type": "code",
      "execution_count": null,
      "metadata": {
        "id": "_BZKBYG1V4Jk",
        "outputId": "565be5cd-c27a-49fc-90d1-07ea70fea799"
      },
      "outputs": [
        {
          "data": {
            "text/plain": [
              "bool"
            ]
          },
          "execution_count": 6,
          "metadata": {},
          "output_type": "execute_result"
        }
      ],
      "source": [
        "type(True)"
      ]
    },
    {
      "cell_type": "markdown",
      "metadata": {
        "id": "FkRRSEQQV4Jp"
      },
      "source": [
        "It's fairly rare for programmers to explicitly write the word `True` or `False`.  Instead our programs can respond to questions for us in this form.  We have already seen one such example:"
      ]
    },
    {
      "cell_type": "code",
      "execution_count": null,
      "metadata": {
        "id": "jTEK86BDV4Jr",
        "outputId": "4da29aab-12c0-4f94-bebb-d69d63f3ee14"
      },
      "outputs": [
        {
          "data": {
            "text/plain": [
              "True"
            ]
          },
          "execution_count": 7,
          "metadata": {},
          "output_type": "execute_result"
        }
      ],
      "source": [
        "\"Homer Simpson\".endswith(\"Simpson\")"
      ]
    },
    {
      "cell_type": "code",
      "execution_count": null,
      "metadata": {
        "id": "dcV8kXplV4Js",
        "outputId": "969f5f72-8a07-4838-a8fd-2092804721ce"
      },
      "outputs": [
        {
          "data": {
            "text/plain": [
              "False"
            ]
          },
          "execution_count": 8,
          "metadata": {},
          "output_type": "execute_result"
        }
      ],
      "source": [
        "\"Homer Simpson\".endswith(\"Homer\")"
      ]
    },
    {
      "cell_type": "markdown",
      "metadata": {
        "id": "3fwKSj08V4Ju"
      },
      "source": [
        "And as you might imagine, a boolean can be returned from a math operation as well."
      ]
    },
    {
      "cell_type": "code",
      "execution_count": null,
      "metadata": {
        "id": "t6mYw9tqV4J3",
        "outputId": "7ee7f5f4-8e4e-4061-92fd-ec43a8950750"
      },
      "outputs": [
        {
          "data": {
            "text/plain": [
              "False"
            ]
          },
          "execution_count": 9,
          "metadata": {},
          "output_type": "execute_result"
        }
      ],
      "source": [
        "3 * 5 < 10"
      ]
    },
    {
      "cell_type": "markdown",
      "metadata": {
        "id": "-lebBqtGV4J5"
      },
      "source": [
        "You will see later on that by utilizing these returned booleans, we can make decisions with our code. For example: send this email if a user's last name is Simpson, or send an invite if the user is in a target age group. We aren't there yet, but we'll get there!"
      ]
    },
    {
      "cell_type": "markdown",
      "metadata": {
        "id": "kPGaZxnSV4J6"
      },
      "source": [
        "## Data Types as a Choice"
      ]
    },
    {
      "cell_type": "markdown",
      "metadata": {
        "id": "NxWR5q5_V4KC"
      },
      "source": [
        "> \"Bad programmers worry about the code. Good programmers worry about data structures and their relationships.\" -- Linus Torvalds"
      ]
    },
    {
      "cell_type": "markdown",
      "metadata": {
        "id": "TpQKhP4VV4KD"
      },
      "source": [
        "For now, it's interesting to think of how methods allow us to change between data types and to think of when we may want our data to be in one data type versus another.  We started this lesson by saying that 34 is a number.  But what if it's not?"
      ]
    },
    {
      "cell_type": "code",
      "execution_count": null,
      "metadata": {
        "id": "mFgmqp1IV4KE",
        "outputId": "fe5e6761-3e2c-4e59-8de4-12bca35e4e2c"
      },
      "outputs": [
        {
          "data": {
            "text/plain": [
              "'west 34th street'"
            ]
          },
          "execution_count": 10,
          "metadata": {},
          "output_type": "execute_result"
        }
      ],
      "source": [
        "\"west 34th street\""
      ]
    },
    {
      "cell_type": "code",
      "execution_count": null,
      "metadata": {
        "id": "AHbUEdHKV4KF",
        "outputId": "df9d54d3-a7f5-440d-f7f4-26c4fb22c008"
      },
      "outputs": [
        {
          "data": {
            "text/plain": [
              "str"
            ]
          },
          "execution_count": 11,
          "metadata": {},
          "output_type": "execute_result"
        }
      ],
      "source": [
        "type(\"west 34th street\")"
      ]
    },
    {
      "cell_type": "markdown",
      "metadata": {
        "id": "m9ruN7QbV4KH"
      },
      "source": [
        "We could make the argument that in certain contexts, like an address, 34 is text. In others, when we are judging distance in blocks it feels like a number. So how do we decide?  \n",
        "\n",
        "We find the answer to that by thinking about what we want to do with the data. If we want to capitalize all of the words in the string, to mail a letter (which I admit, sounds awful), we should keep the data in the format of a string."
      ]
    },
    {
      "cell_type": "code",
      "execution_count": null,
      "metadata": {
        "id": "broXmF6VV4KI",
        "outputId": "1d5f0849-218b-4ed6-d3e2-993fb2e7dfe4"
      },
      "outputs": [
        {
          "data": {
            "text/plain": [
              "'34Th Street'"
            ]
          },
          "execution_count": 12,
          "metadata": {},
          "output_type": "execute_result"
        }
      ],
      "source": [
        "\"34th street\".title()"
      ]
    },
    {
      "cell_type": "markdown",
      "metadata": {
        "id": "KX_6iHeFV4KJ"
      },
      "source": [
        "What if we are trying to ask if a number in that string is larger than another number?  For example, a restaurant that only delivers food below 22nd street might use a program to write something like:"
      ]
    },
    {
      "cell_type": "code",
      "execution_count": null,
      "metadata": {
        "id": "j7TtywYSV4KK",
        "outputId": "e1854fed-811b-45bb-fc7d-a0a64e2f824a"
      },
      "outputs": [
        {
          "data": {
            "text/plain": [
              "False"
            ]
          },
          "execution_count": 15,
          "metadata": {},
          "output_type": "execute_result"
        }
      ],
      "source": [
        "34 < 22"
      ]
    },
    {
      "cell_type": "markdown",
      "metadata": {
        "id": "vZrgEgxaV4KT"
      },
      "source": [
        "But would a method like less than ( `<` ) work with a string? Does it make sense for a string or text to answer whether it is less than or greater than a number? Trying things is free, so let's give it a shot."
      ]
    },
    {
      "cell_type": "code",
      "execution_count": null,
      "metadata": {
        "id": "Wk8QBpqDV4KU",
        "outputId": "fe7219ba-659c-4d23-9ea2-a464948d0cfc"
      },
      "outputs": [
        {
          "ename": "TypeError",
          "evalue": "'<' not supported between instances of 'str' and 'int'",
          "output_type": "error",
          "traceback": [
            "\u001b[0;31m---------------------------------------------------------------------------\u001b[0m",
            "\u001b[0;31mTypeError\u001b[0m                                 Traceback (most recent call last)",
            "Cell \u001b[0;32mIn [1], line 1\u001b[0m\n\u001b[0;32m----> 1\u001b[0m \u001b[38;5;124;43m\"\u001b[39;49m\u001b[38;5;124;43mint(34)th street\u001b[39;49m\u001b[38;5;124;43m\"\u001b[39;49m\u001b[43m \u001b[49m\u001b[38;5;241;43m<\u001b[39;49m\u001b[43m \u001b[49m\u001b[38;5;241;43m22\u001b[39;49m\n",
            "\u001b[0;31mTypeError\u001b[0m: '<' not supported between instances of 'str' and 'int'"
          ]
        }
      ],
      "source": [
        "\"34th street\" < 22"
      ]
    },
    {
      "cell_type": "markdown",
      "metadata": {
        "id": "S9uzBL6IV4KV"
      },
      "source": [
        "Well, now we know for sure.  So, if we want to help our restaurant with deliveries, we should convert our number from a string to a number and then make the comparison."
      ]
    },
    {
      "cell_type": "code",
      "execution_count": null,
      "metadata": {
        "id": "ylVNbzaoV4KV",
        "outputId": "67513f2d-51e9-478f-99d2-3ebd5a582921"
      },
      "outputs": [
        {
          "data": {
            "text/plain": [
              "False"
            ]
          },
          "execution_count": 13,
          "metadata": {},
          "output_type": "execute_result"
        }
      ],
      "source": [
        "int('34') < 22\n",
        "# False"
      ]
    },
    {
      "cell_type": "markdown",
      "metadata": {
        "id": "h_ZdLfuxV4KW"
      },
      "source": [
        "And if we want to go from a number to a string, for example to produce an address, we again need to pay attention to the type."
      ]
    },
    {
      "cell_type": "code",
      "execution_count": null,
      "metadata": {
        "id": "J5vdTkXDV4KX",
        "outputId": "d65f387a-5002-4979-aadc-6200045358dd"
      },
      "outputs": [
        {
          "data": {
            "text/plain": [
              "'34th Street'"
            ]
          },
          "execution_count": 14,
          "metadata": {},
          "output_type": "execute_result"
        }
      ],
      "source": [
        "str(34) + 'th Street'"
      ]
    },
    {
      "cell_type": "markdown",
      "metadata": {
        "id": "3VC95RjUV4KY"
      },
      "source": [
        "Here we saw our first method for switching between types: simply write the name of the type followed by parentheses and the data on which we want to operate. After introducing this pattern, we can start to explore with others types such as Boolean."
      ]
    },
    {
      "cell_type": "code",
      "execution_count": null,
      "metadata": {
        "id": "pCnlT9rxV4Kj",
        "outputId": "a59766c5-421a-43e5-aec9-e0ec1f06c07b"
      },
      "outputs": [
        {
          "data": {
            "text/plain": [
              "True"
            ]
          },
          "execution_count": 2,
          "metadata": {},
          "output_type": "execute_result"
        }
      ],
      "source": [
        "bool(100)"
      ]
    },
    {
      "cell_type": "code",
      "execution_count": null,
      "metadata": {
        "id": "huYwZGzYV4Kl",
        "outputId": "b1b7af6d-f0cb-4752-db50-675e36b1eeb1"
      },
      "outputs": [
        {
          "data": {
            "text/plain": [
              "False"
            ]
          },
          "execution_count": 3,
          "metadata": {},
          "output_type": "execute_result"
        }
      ],
      "source": [
        "bool(0)"
      ]
    },
    {
      "cell_type": "markdown",
      "metadata": {
        "id": "9AaJyCfLV4Km"
      },
      "source": [
        "Great, so we can coerce a number to a boolean as well.  And we are beginning to think about keeping our data in one form or another based on what we want to do with that data.    "
      ]
    },
    {
      "cell_type": "markdown",
      "metadata": {
        "id": "B4RnxE77V4Kn"
      },
      "source": [
        "## Summary"
      ]
    },
    {
      "cell_type": "markdown",
      "metadata": {
        "id": "6x8jDuwtV4Ko"
      },
      "source": [
        "In this section, we introduced two new types of data: numbers and booleans. We saw that numbers allow us to perform standard math operations and we saw that booleans answer whether something is True or False, and serve as a way our program or different methods can respond to questions.\n",
        "\n",
        "We have seen almost all of our Python data types. We talked about how to choose a data type, and how to switch between data types.  We said that we choose a data type based on the capabilities that we want to give to that data: should it answer whether it is larger or smaller, or does it make sense to capitalize? The goal of this discussion is to begin thinking about why we decide to put data in specific types (i.e. string, number, boolean). We also introduced coercion methods like `bool` and `str` that switch between data types."
      ]
    }
  ],
  "metadata": {
    "kernelspec": {
      "display_name": "saturn (Python 3)",
      "language": "python",
      "name": "python3"
    },
    "language_info": {
      "codemirror_mode": {
        "name": "ipython",
        "version": 3
      },
      "file_extension": ".py",
      "mimetype": "text/x-python",
      "name": "python",
      "nbconvert_exporter": "python",
      "pygments_lexer": "ipython3",
      "version": "3.10.6"
    },
    "colab": {
      "provenance": [],
      "include_colab_link": true
    }
  },
  "nbformat": 4,
  "nbformat_minor": 0
}