{
  "cells": [
    {
      "cell_type": "markdown",
      "metadata": {
        "id": "view-in-github",
        "colab_type": "text"
      },
      "source": [
        "<a href=\"https://colab.research.google.com/github/lilian-2021/DS/blob/main/User_Input_and_Output_in_Python.ipynb\" target=\"_parent\"><img src=\"https://colab.research.google.com/assets/colab-badge.svg\" alt=\"Open In Colab\"/></a>"
      ]
    },
    {
      "cell_type": "markdown",
      "metadata": {
        "id": "kVy38CEW8qHv"
      },
      "source": [
        "# User Input and Output in Python\n",
        "\n",
        "## Introduction\n",
        "\n",
        "Sometimes, you'll want Python to ask users for a certain input. This is where user inputs can help!\n",
        "\n",
        "## Objectives\n",
        "\n",
        "You will be able to:\n",
        "\n",
        "* Incorporate input/output functionality in code to allow for user interaction\n",
        "\n",
        "## User input in Python\n",
        "\n",
        "To get user input in Python, you can use the `input()` function. You can store the result in a variable, and use it to your heart's content. Remember that the result you get from the user will be a string, even if they enter a number.\n",
        "\n",
        "For example, run the following cell:"
      ]
    },
    {
      "cell_type": "code",
      "execution_count": null,
      "metadata": {
        "id": "izXcbui38qJS",
        "outputId": "f95b7311-ed57-4554-e0dc-f6e2bf016cba"
      },
      "outputs": [
        {
          "name": "stdout",
          "output_type": "stream",
          "text": [
            "Give me your name: Christine\n",
            "Your name is Christine\n"
          ]
        }
      ],
      "source": [
        "name = input(\"Give me your name: \")\n",
        "print(\"Your name is \" + name)"
      ]
    },
    {
      "cell_type": "markdown",
      "metadata": {
        "id": "sO4XQucJ8qJv"
      },
      "source": [
        "When you use the `input()` function, the program waits for the user to type something and press ENTER. Only after the user presses ENTER does the program continue."
      ]
    },
    {
      "cell_type": "markdown",
      "metadata": {
        "id": "bDuv3nRF8qJx"
      },
      "source": [
        "## Manipulating strings (a few ways)\n",
        "\n",
        "What you get from the `input()` function is always a string. What can you do with it?\n",
        "\n",
        "First, make the string into a number. Let’s say you are 100% positive that the user entered a number. You can turn the string into an integer with the function `int()`. (Later we will see what to do when the user does NOT enter a number and you try to do this. For now, don’t worry about that problem)\n",
        "\n",
        "Here is what this looks like:"
      ]
    },
    {
      "cell_type": "code",
      "execution_count": null,
      "metadata": {
        "id": "EVEfc98Z8qKK",
        "outputId": "344ebf27-a421-4905-b84e-876a702a0e7e"
      },
      "outputs": [
        {
          "name": "stdout",
          "output_type": "stream",
          "text": [
            "Enter your age: 25\n",
            "You are 25 years old\n"
          ]
        }
      ],
      "source": [
        "age = input(\"Enter your age: \")\n",
        "age = int(age)\n",
        "print (\"You are\", age , \"years old\" )"
      ]
    },
    {
      "cell_type": "markdown",
      "metadata": {
        "id": "XhQbqPMi8qKS"
      },
      "source": [
        "Unlike using `+` for string concatenation as seen earlier, we simply use a `,` for joining strings with numbers. You can also convert an `int` to `str` and use concatenation normally:"
      ]
    },
    {
      "cell_type": "code",
      "execution_count": null,
      "metadata": {
        "id": "y5g3RbJf8qKl",
        "outputId": "3f77d9c7-e768-4ef8-e4cb-26d6b3f2aa2f"
      },
      "outputs": [
        {
          "name": "stdout",
          "output_type": "stream",
          "text": [
            "You are 43 years old\n"
          ]
        }
      ],
      "source": [
        "print (\"You are \" + str(age) + \" years old\")"
      ]
    },
    {
      "cell_type": "markdown",
      "metadata": {
        "id": "oZ52rxZ08qK1"
      },
      "source": [
        "## Example\n",
        "Let's create a program that asks the user to enter their name, age, and the current year. Print out a message addressed to them that tells them the year that they will turn 100 years old."
      ]
    },
    {
      "cell_type": "code",
      "execution_count": null,
      "metadata": {
        "id": "PFor34G58qLD",
        "outputId": "9cb0212c-51d9-450e-b5df-c1a615159177"
      },
      "outputs": [
        {
          "name": "stdout",
          "output_type": "stream",
          "text": [
            "What is your name: Christine\n",
            "How old are you: 25\n",
            "What is the current year: 2023\n",
            "Christine will be 100 years old in the year 2098\n"
          ]
        }
      ],
      "source": [
        "name = input(\"What is your name: \")\n",
        "age = int(input(\"How old are you: \"))\n",
        "current_year = int(input(\"What is the current year: \"))\n",
        "year = str((current_year - age)+100)\n",
        "print(name + \" will be 100 years old in the year \" + year)"
      ]
    },
    {
      "cell_type": "markdown",
      "metadata": {
        "id": "yICZjVKd8qLR"
      },
      "source": [
        "## Summary\n",
        "\n",
        "This lesson introduced you to character input/output and string manipulation. We also saw how we can take user input, do some basic processing and provide feedback to the user based on the input."
      ]
    }
  ],
  "metadata": {
    "kernelspec": {
      "display_name": "saturn (Python 3)",
      "language": "python",
      "name": "python3"
    },
    "language_info": {
      "codemirror_mode": {
        "name": "ipython",
        "version": 3
      },
      "file_extension": ".py",
      "mimetype": "text/x-python",
      "name": "python",
      "nbconvert_exporter": "python",
      "pygments_lexer": "ipython3",
      "version": "3.10.6"
    },
    "toc": {
      "base_numbering": 1,
      "nav_menu": {},
      "number_sections": true,
      "sideBar": true,
      "skip_h1_title": false,
      "title_cell": "Table of Contents",
      "title_sidebar": "Contents",
      "toc_cell": false,
      "toc_position": {},
      "toc_section_display": true,
      "toc_window_display": false
    },
    "colab": {
      "provenance": [],
      "include_colab_link": true
    }
  },
  "nbformat": 4,
  "nbformat_minor": 0
}