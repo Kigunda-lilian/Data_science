{
  "nbformat": 4,
  "nbformat_minor": 0,
  "metadata": {
    "colab": {
      "provenance": [],
      "authorship_tag": "ABX9TyPFhsfgYWnonnr0reEBqTCi",
      "include_colab_link": true
    },
    "kernelspec": {
      "name": "python3",
      "display_name": "Python 3"
    },
    "language_info": {
      "name": "python"
    }
  },
  "cells": [
    {
      "cell_type": "markdown",
      "metadata": {
        "id": "view-in-github",
        "colab_type": "text"
      },
      "source": [
        "<a href=\"https://colab.research.google.com/github/lilian-2021/DS/blob/main/numpy.ipynb\" target=\"_parent\"><img src=\"https://colab.research.google.com/assets/colab-badge.svg\" alt=\"Open In Colab\"/></a>"
      ]
    },
    {
      "cell_type": "code",
      "execution_count": null,
      "metadata": {
        "colab": {
          "base_uri": "https://localhost:8080/"
        },
        "id": "yvhvlizuo_89",
        "outputId": "a3dc7ce9-c63d-49b1-ce82-3b9f75c33013"
      },
      "outputs": [
        {
          "output_type": "execute_result",
          "data": {
            "text/plain": [
              "numpy.ndarray"
            ]
          },
          "metadata": {},
          "execution_count": 1
        }
      ],
      "source": [
        "import numpy as np\n",
        "import matplotlib.pyplot as plt\n",
        "a = np.array([1,2,3,4,5])\n",
        "type(a)\n"
      ]
    },
    {
      "cell_type": "code",
      "source": [],
      "metadata": {
        "id": "r4YQAjafBXpf"
      },
      "execution_count": null,
      "outputs": []
    },
    {
      "cell_type": "code",
      "source": [
        "a.dtype"
      ],
      "metadata": {
        "colab": {
          "base_uri": "https://localhost:8080/"
        },
        "id": "Z6N6ta0uprFa",
        "outputId": "24ea3bfc-5e84-4a43-871c-db816f70ab65"
      },
      "execution_count": null,
      "outputs": [
        {
          "output_type": "execute_result",
          "data": {
            "text/plain": [
              "dtype('int64')"
            ]
          },
          "metadata": {},
          "execution_count": 2
        }
      ]
    },
    {
      "cell_type": "code",
      "source": [
        "a.ndim\n",
        "a.shape\n",
        "# returns a tuple showing the no. elements along each dimension"
      ],
      "metadata": {
        "colab": {
          "base_uri": "https://localhost:8080/"
        },
        "id": "Qy-5N6ynqWRE",
        "outputId": "8c64c811-c94d-4eb6-cefd-d51503e9c592"
      },
      "execution_count": null,
      "outputs": [
        {
          "output_type": "execute_result",
          "data": {
            "text/plain": [
              "(5,)"
            ]
          },
          "metadata": {},
          "execution_count": 3
        }
      ]
    },
    {
      "cell_type": "code",
      "source": [
        "a.size\n",
        "# returns the number of elements in the array(total number of elements)"
      ],
      "metadata": {
        "colab": {
          "base_uri": "https://localhost:8080/"
        },
        "id": "CfMNagiErZPP",
        "outputId": "5df087b3-6e60-4ef4-a5b8-38642cd1954f"
      },
      "execution_count": null,
      "outputs": [
        {
          "output_type": "execute_result",
          "data": {
            "text/plain": [
              "5"
            ]
          },
          "metadata": {},
          "execution_count": 4
        }
      ]
    },
    {
      "cell_type": "code",
      "source": [],
      "metadata": {
        "id": "-wmFrG9-b-pd"
      },
      "execution_count": null,
      "outputs": []
    },
    {
      "cell_type": "code",
      "source": [
        "a =np.array([11,2,3,4])\n",
        "f = np.array([1.2,2.3,4.5,5.6])\n",
        "a\n",
        "f\n",
        "a+f\n"
      ],
      "metadata": {
        "colab": {
          "base_uri": "https://localhost:8080/"
        },
        "id": "JTdIKuNdsQdr",
        "outputId": "8c2892bd-84ce-49ff-9196-819388d7a833"
      },
      "execution_count": null,
      "outputs": [
        {
          "output_type": "execute_result",
          "data": {
            "text/plain": [
              "array([12.2,  4.3,  7.5,  9.6])"
            ]
          },
          "metadata": {},
          "execution_count": 20
        }
      ]
    },
    {
      "cell_type": "code",
      "source": [
        "a ** f\n",
        "\n",
        "type(a)\n",
        "a + 10"
      ],
      "metadata": {
        "colab": {
          "base_uri": "https://localhost:8080/"
        },
        "id": "gq2sLjOjuIXM",
        "outputId": "c651147d-d5d9-4bcb-82ee-154615e23c7b"
      },
      "execution_count": null,
      "outputs": [
        {
          "output_type": "execute_result",
          "data": {
            "text/plain": [
              "array([21, 12, 13, 14])"
            ]
          },
          "metadata": {},
          "execution_count": 23
        }
      ]
    },
    {
      "cell_type": "code",
      "source": [
        "# universal functions(ufuncs)\n",
        "np.sin(a)\n",
        "a[1] = 4\n",
        "a"
      ],
      "metadata": {
        "colab": {
          "base_uri": "https://localhost:8080/"
        },
        "id": "UBsPmPHnu0Su",
        "outputId": "79f986e7-287b-470a-aaed-1b22c918dc48"
      },
      "execution_count": null,
      "outputs": [
        {
          "output_type": "execute_result",
          "data": {
            "text/plain": [
              "array([11,  4,  3,  4])"
            ]
          },
          "metadata": {},
          "execution_count": 26
        }
      ]
    },
    {
      "cell_type": "code",
      "source": [
        "# multi-Dimensional arrays\n",
        "c = np.array([[0,1,2,3],[10,11,12,13]])\n",
        "type(c)\n",
        "c.ndim\n",
        "c.shape\n",
        "c.size\n",
        "c[1,3] = -1\n",
        "c\n",
        "c[1]\n",
        "\n"
      ],
      "metadata": {
        "colab": {
          "base_uri": "https://localhost:8080/"
        },
        "id": "QEtvEk2nvjqX",
        "outputId": "88d11b34-cfd1-4736-a0c9-3f6fbefa7178"
      },
      "execution_count": null,
      "outputs": [
        {
          "output_type": "execute_result",
          "data": {
            "text/plain": [
              "array([10, 11, 12, -1])"
            ]
          },
          "metadata": {},
          "execution_count": 37
        }
      ]
    },
    {
      "cell_type": "code",
      "source": [
        "# slicing extracts a portion of a sequence by specifying a lower and upper bound.\n",
        "# The lower bound element is included , but the upper-bound element is not included.\n",
        "# the step value specifies the stride between elements.\n",
        "a = np.array([10,11,12,13,14])\n",
        "a[1:3]\n",
        "a[1:-2]\n",
        "a[-4:3]"
      ],
      "metadata": {
        "colab": {
          "base_uri": "https://localhost:8080/"
        },
        "id": "77YS_JY7QPEO",
        "outputId": "48fb00f7-18f6-49b9-b6bb-236ca1b1f275"
      },
      "execution_count": null,
      "outputs": [
        {
          "output_type": "execute_result",
          "data": {
            "text/plain": [
              "array([11, 12])"
            ]
          },
          "metadata": {},
          "execution_count": 7
        }
      ]
    },
    {
      "cell_type": "code",
      "source": [
        "# ommitted boundaries are assumed to be the beginning (or end) of the list\n",
        "# grab first three elements\n",
        "a[:3]\n",
        "# grab last two elements\n",
        "a[:-2]\n",
        "# every other element\n",
        "a[::2]\n",
        "a[::]\n",
        "a[1::]\n",
        "a[1::2]"
      ],
      "metadata": {
        "colab": {
          "base_uri": "https://localhost:8080/"
        },
        "id": "Q8n1Xo2BSqlB",
        "outputId": "7061457f-e94d-414a-d396-05c99db355a7"
      },
      "execution_count": null,
      "outputs": [
        {
          "output_type": "execute_result",
          "data": {
            "text/plain": [
              "array([11, 13])"
            ]
          },
          "metadata": {},
          "execution_count": 17
        }
      ]
    },
    {
      "cell_type": "code",
      "source": [
        "# Array slicing\n",
        "# row 0 columns 3 to 5\n",
        "a[0,3:5]\n",
        "# throw away 4 columns and 4 rows\n",
        "a[4:,4:]\n",
        "# column selection\n",
        "# all rows in column 2\n",
        "a[:,2]\n",
        "# strided\n",
        "a[2::2, ::2]\n"
      ],
      "metadata": {
        "id": "1E75mO_TUjoG"
      },
      "execution_count": null,
      "outputs": []
    },
    {
      "cell_type": "code",
      "source": [
        "# create an array of 25 numbers and arrange them as a cube(5 rows,5 columns)\n",
        "a = np.arange(25).reshape(5,5)\n",
        "a\n",
        "\n",
        "# all rows,jump column 1(shifted) and select all the other columns in intervals 0f 2\n",
        "a[:,1::2]\n",
        "# jump the first row(offset of one) and select all the other rows in intervals of 2, select all columns of those rows in intervals of 2\n",
        "#Note: use double colons when there is an offset, use a single lonely colon to select everything\n",
        "a[1::2,::2]\n",
        "\n",
        "# jump the first 4 rows\n",
        "a[4:]\n",
        "# select row 4\n",
        "a[4]\n",
        "# select row 4 and all columns\n",
        "a[4,:]\n",
        "# select the last row and all columns\n",
        "a[-1,:]\n",
        "# jump the first row(offset of one) and select all the other rows .stop at index 4(not included)\n",
        "a[1::2,:4:2]\n",
        "a[1::2,:-1:2]\n",
        "# jump the first row(offset of one) and select all the other rows . stop at index 3(not included)\n",
        "a[1::2,:3:2]\n",
        "a[1::2,:-2:2]\n"
      ],
      "metadata": {
        "colab": {
          "base_uri": "https://localhost:8080/"
        },
        "id": "rnA8WqlZYmYb",
        "outputId": "1fae8b86-dd6b-4695-c035-b3f74614ef13"
      },
      "execution_count": null,
      "outputs": [
        {
          "output_type": "execute_result",
          "data": {
            "text/plain": [
              "array([[ 5,  7],\n",
              "       [15, 17]])"
            ]
          },
          "metadata": {},
          "execution_count": 39
        }
      ]
    },
    {
      "cell_type": "code",
      "source": [
        "\n",
        "# sharing memory. a view\n",
        "a = np.array([1,2,3,4])\n",
        "b = a[:2]\n",
        "a\n",
        "b\n",
        "b[0]=-1\n",
        "a\n",
        "b = a[::]\n",
        "b\n",
        "# making a copy of an array(they are completely separate from each other. no memory buffer )\n",
        "b = a.copy()\n",
        "b\n",
        "b[0]=9\n",
        "b\n",
        "a"
      ],
      "metadata": {
        "colab": {
          "base_uri": "https://localhost:8080/"
        },
        "id": "0WRHI2EbiwmG",
        "outputId": "d61d2be3-0f97-4148-a332-f4099105c597"
      },
      "execution_count": null,
      "outputs": [
        {
          "output_type": "execute_result",
          "data": {
            "text/plain": [
              "array([-1,  2,  3,  4])"
            ]
          },
          "metadata": {},
          "execution_count": 47
        }
      ]
    },
    {
      "cell_type": "code",
      "source": [
        "# selecting the last two elements\n",
        "a[-2:]\n",
        "a[2:]\n",
        "## selecting the first two elements\n",
        "a[:2]\n",
        "\n",
        "# insert an iterable of length 2\n",
        "a[-2:]=[7,8]\n",
        "a\n",
        "# or a scalar value\n",
        "\n"
      ],
      "metadata": {
        "colab": {
          "base_uri": "https://localhost:8080/"
        },
        "id": "lYu4EKH9lFn5",
        "outputId": "0a5281ff-c30f-435b-ac89-65f404cea055"
      },
      "execution_count": null,
      "outputs": [
        {
          "output_type": "execute_result",
          "data": {
            "text/plain": [
              "array([-1,  2,  7,  8])"
            ]
          },
          "metadata": {},
          "execution_count": 54
        }
      ]
    },
    {
      "cell_type": "code",
      "source": [
        "# selecting the last two elements\n",
        "a[-2:]\n",
        "a[2:]\n",
        "## selecting the first two elements\n",
        "a[:2]\n",
        "\n",
        "# insert an iterable of length 2\n",
        "a[-2:]=[7,8]\n",
        "a\n",
        "# or a scalar value\n",
        "a[-2:]=[99]\n",
        "a\n"
      ],
      "metadata": {
        "colab": {
          "base_uri": "https://localhost:8080/"
        },
        "outputId": "b7ef1256-d771-475a-c5d0-c4737f1530ab",
        "id": "4EBiztluoQCx"
      },
      "execution_count": null,
      "outputs": [
        {
          "output_type": "execute_result",
          "data": {
            "text/plain": [
              "array([-1,  2, 99, 99])"
            ]
          },
          "metadata": {},
          "execution_count": 55
        }
      ]
    },
    {
      "cell_type": "code",
      "source": [
        "# Fancy indexing/masking/boolean indexing\n",
        "# helps you to index by position and value\n",
        "# takes two forms i.e indexing by position and with booleans(masking)\n",
        "# an array from 0 to 80 upper bound not included in steps of 10\n",
        "a = np.arange(0,80,10)\n",
        "a\n",
        "indices = [1,2,-3]\n",
        "y = a[indices]\n",
        "y\n",
        "a[indices]=99\n",
        "a\n",
        "# indexing with boolean\n",
        "mask = np.array([0,1,1,0,0,1,0,0], dtype=bool)\n",
        "y = a[mask]\n",
        "y\n"
      ],
      "metadata": {
        "id": "5cjjGndtcB16",
        "colab": {
          "base_uri": "https://localhost:8080/"
        },
        "outputId": "eecb85b4-70e8-4641-902a-1bbc3fd23b43"
      },
      "execution_count": null,
      "outputs": [
        {
          "output_type": "execute_result",
          "data": {
            "text/plain": [
              "array([99, 99, 99])"
            ]
          },
          "metadata": {},
          "execution_count": 14
        }
      ]
    },
    {
      "cell_type": "code",
      "source": [
        "a = np.array([-1,-3,1,4,-6,9,3])\n",
        "negative = a<0\n",
        "a[negative]\n",
        "a[negative]=0\n",
        "a\n"
      ],
      "metadata": {
        "colab": {
          "base_uri": "https://localhost:8080/"
        },
        "id": "ZAAAWAOS08cR",
        "outputId": "801a58d6-5246-4bdc-a169-71aee5286eda"
      },
      "execution_count": null,
      "outputs": [
        {
          "output_type": "execute_result",
          "data": {
            "text/plain": [
              "array([0, 0, 1, 4, 0, 9, 3])"
            ]
          },
          "metadata": {},
          "execution_count": 16
        }
      ]
    },
    {
      "cell_type": "code",
      "source": [
        "#  fancy indexing in 2-D\n",
        "# diagonal selection using indices instead of the diagonal numpy method\n",
        "a=np.arange(0,125,5).reshape(5,5)\n",
        "a[[0,1,2,3],[1,2,3,4]]\n",
        "# selecting values with different step sizes fancy indexing comes to the rescue\n",
        "a[3:,[0,1,4]]\n",
        "# combining masking/boolean indexing with normal position indexing to get 'true rows' for column 2\n",
        "mask = np.array([1,0,1,0,0],dtype=bool)\n",
        "a[mask,2]\n",
        "a\n"
      ],
      "metadata": {
        "colab": {
          "base_uri": "https://localhost:8080/"
        },
        "id": "AME8xAxz2z_O",
        "outputId": "ce3d7654-6d7e-4c58-d594-19a9ad5b53dd"
      },
      "execution_count": null,
      "outputs": [
        {
          "output_type": "execute_result",
          "data": {
            "text/plain": [
              "array([[  0,   5,  10,  15,  20],\n",
              "       [ 25,  30,  35,  40,  45],\n",
              "       [ 50,  55,  60,  65,  70],\n",
              "       [ 75,  80,  85,  90,  95],\n",
              "       [100, 105, 110, 115, 120]])"
            ]
          },
          "metadata": {},
          "execution_count": 40
        }
      ]
    },
    {
      "cell_type": "code",
      "source": [
        "# note: unlike slicing, fancy indexing creates copies instead of a view into original array\n",
        "a[[0,1,2,3],[1,2,3,4]]\n",
        "a[3:,[0,1,4]]\n",
        "mask = np.array([1,0,1,0,0],dtype=bool)\n",
        "a[mask,2]\n"
      ],
      "metadata": {
        "colab": {
          "base_uri": "https://localhost:8080/"
        },
        "id": "L3jEv2YK-GFt",
        "outputId": "8cf60883-5e80-4a91-c3b6-9cba8be06132"
      },
      "execution_count": null,
      "outputs": [
        {
          "output_type": "execute_result",
          "data": {
            "text/plain": [
              "array([10, 60])"
            ]
          },
          "metadata": {},
          "execution_count": 45
        }
      ]
    },
    {
      "cell_type": "code",
      "source": [
        "a = np.arange(25).reshape(5,5)\n",
        "a\n",
        "blue =[[0,2,3,3],[2,3,1,4]]\n",
        "a[blue]\n",
        "# using boolean mask to extract all numbers divisible by 3\n",
        "a[a%3==0]\n",
        "a%3==0\n",
        "\n",
        "\n"
      ],
      "metadata": {
        "colab": {
          "base_uri": "https://localhost:8080/"
        },
        "id": "cejh7HCPHkCY",
        "outputId": "1ec6aea7-589d-4c33-b254-145983370ae7"
      },
      "execution_count": null,
      "outputs": [
        {
          "output_type": "stream",
          "name": "stderr",
          "text": [
            "<ipython-input-55-2e94e3be1f74>:4: FutureWarning: Using a non-tuple sequence for multidimensional indexing is deprecated; use `arr[tuple(seq)]` instead of `arr[seq]`. In the future this will be interpreted as an array index, `arr[np.array(seq)]`, which will result either in an error or a different result.\n",
            "  a[blue]\n"
          ]
        },
        {
          "output_type": "execute_result",
          "data": {
            "text/plain": [
              "array([[ True, False, False,  True, False],\n",
              "       [False,  True, False, False,  True],\n",
              "       [False, False,  True, False, False],\n",
              "       [ True, False, False,  True, False],\n",
              "       [False,  True, False, False,  True]])"
            ]
          },
          "metadata": {},
          "execution_count": 55
        }
      ]
    },
    {
      "cell_type": "code",
      "source": [
        "# note: numpy is row major unlike matlab and fortran which are column majors\n",
        "# calculations using arrays\n",
        "# rules:\n",
        "# 1. Operations between multiple array objects are first checked for proper shape match\n",
        "# 2. Mathematical operators (+-*/exp,log,...) apply element by element , on the values\n",
        "# 3 Reduction operations(mean,std,skew,kurt,sum,prod,...) apply to the whole array,unless an axis is specified\n",
        "# 4. Missing values propagate unless explicitly ignored(nanmean,nansum,...)."
      ],
      "metadata": {
        "id": "OrgI6USTNf3f"
      },
      "execution_count": null,
      "outputs": []
    },
    {
      "cell_type": "code",
      "source": [
        "a = np.array([[1,2,3],[4,5,6]])\n",
        "a.sum()\n",
        "# sum along the 0 axis\n",
        "a.sum(axis=0)\n",
        "# sum along the last axis(last axis is always the column)\n",
        "a.sum(axis =-1)"
      ],
      "metadata": {
        "colab": {
          "base_uri": "https://localhost:8080/"
        },
        "id": "m1DfKBkeBbiI",
        "outputId": "aba8ffab-e7f2-44fd-d291-543d4083c34e"
      },
      "execution_count": null,
      "outputs": [
        {
          "output_type": "execute_result",
          "data": {
            "text/plain": [
              "array([ 6, 15])"
            ]
          },
          "metadata": {},
          "execution_count": 6
        }
      ]
    },
    {
      "cell_type": "code",
      "source": [
        "a = np.ones((5,6))\n",
        "a"
      ],
      "metadata": {
        "colab": {
          "base_uri": "https://localhost:8080/"
        },
        "id": "yh7iKJgeEG4z",
        "outputId": "11cc985d-94a3-4e46-c5ff-7ed8f134dc09"
      },
      "execution_count": null,
      "outputs": [
        {
          "output_type": "execute_result",
          "data": {
            "text/plain": [
              "array([[1., 1., 1., 1., 1., 1.],\n",
              "       [1., 1., 1., 1., 1., 1.],\n",
              "       [1., 1., 1., 1., 1., 1.],\n",
              "       [1., 1., 1., 1., 1., 1.],\n",
              "       [1., 1., 1., 1., 1., 1.]])"
            ]
          },
          "metadata": {},
          "execution_count": 12
        }
      ]
    },
    {
      "cell_type": "code",
      "source": [
        "# numpy's where function has two distinct uses.One is to provide coordinates from masks\n",
        "a = np.array([-1,2,5,5])\n",
        "a == a.max()\n",
        "np.where(a == a.max())\n",
        "np.where(a>0)\n",
        "a =np.arange(-2,2)**2\n",
        "a\n",
        "mask = a%2 == 0\n",
        "mask\n",
        "# coordinates are returned as a tuple of arrays , one for each axis\n",
        "np.where(mask)"
      ],
      "metadata": {
        "colab": {
          "base_uri": "https://localhost:8080/"
        },
        "id": "CGjeyO_lEHNJ",
        "outputId": "270be1e7-cda6-4056-82c5-4bb981c953dd"
      },
      "execution_count": null,
      "outputs": [
        {
          "output_type": "execute_result",
          "data": {
            "text/plain": [
              "(array([0, 2]),)"
            ]
          },
          "metadata": {},
          "execution_count": 19
        }
      ]
    },
    {
      "cell_type": "code",
      "source": [
        "# where can also be used to construct a new array by choosing values from other arrays of the same shape\n",
        "positives = np.arange(4)\n",
        "positives\n",
        "negatives =- positives\n",
        "negatives\n",
        "np.where(mask,positives,negatives)\n",
        "# or from scalar values\n",
        "# This can be useful for recoding arrays\n",
        "np.where(mask,1,0)\n",
        "# or from both\n",
        "np.where(mask,positives,negatives)"
      ],
      "metadata": {
        "colab": {
          "base_uri": "https://localhost:8080/"
        },
        "id": "0FwFvzK2f9vW",
        "outputId": "5c4f2504-3afd-4be7-b983-4357c6cf62d4"
      },
      "execution_count": null,
      "outputs": [
        {
          "output_type": "execute_result",
          "data": {
            "text/plain": [
              "array([ 0, -1,  2, -3])"
            ]
          },
          "metadata": {},
          "execution_count": 28
        }
      ]
    },
    {
      "cell_type": "code",
      "source": [
        "# using loadtx to load a numpy array/data\n",
        "from numpy import loadtxt\n",
        "# data = loadtxt('wind.data')\n"
      ],
      "metadata": {
        "colab": {
          "base_uri": "https://localhost:8080/",
          "height": 415
        },
        "id": "NGKRJWKmj6Yn",
        "outputId": "d85d5e3f-b6b3-4b63-b607-7278846110a3"
      },
      "execution_count": null,
      "outputs": [
        {
          "output_type": "error",
          "ename": "FileNotFoundError",
          "evalue": "ignored",
          "traceback": [
            "\u001b[0;31m---------------------------------------------------------------------------\u001b[0m",
            "\u001b[0;31mFileNotFoundError\u001b[0m                         Traceback (most recent call last)",
            "\u001b[0;32m<ipython-input-30-04593a8be20a>\u001b[0m in \u001b[0;36m<cell line: 3>\u001b[0;34m()\u001b[0m\n\u001b[1;32m      1\u001b[0m \u001b[0;31m# using loadtx to load a numpy array/data\u001b[0m\u001b[0;34m\u001b[0m\u001b[0;34m\u001b[0m\u001b[0m\n\u001b[1;32m      2\u001b[0m \u001b[0;32mfrom\u001b[0m \u001b[0mnumpy\u001b[0m \u001b[0;32mimport\u001b[0m \u001b[0mloadtxt\u001b[0m\u001b[0;34m\u001b[0m\u001b[0;34m\u001b[0m\u001b[0m\n\u001b[0;32m----> 3\u001b[0;31m \u001b[0mdata\u001b[0m \u001b[0;34m=\u001b[0m \u001b[0mloadtxt\u001b[0m\u001b[0;34m(\u001b[0m\u001b[0;34m'wind.data'\u001b[0m\u001b[0;34m)\u001b[0m\u001b[0;34m\u001b[0m\u001b[0;34m\u001b[0m\u001b[0m\n\u001b[0m",
            "\u001b[0;32m/usr/local/lib/python3.10/dist-packages/numpy/lib/npyio.py\u001b[0m in \u001b[0;36mloadtxt\u001b[0;34m(fname, dtype, comments, delimiter, converters, skiprows, usecols, unpack, ndmin, encoding, max_rows, like)\u001b[0m\n\u001b[1;32m   1040\u001b[0m             \u001b[0mfname\u001b[0m \u001b[0;34m=\u001b[0m \u001b[0mos_fspath\u001b[0m\u001b[0;34m(\u001b[0m\u001b[0mfname\u001b[0m\u001b[0;34m)\u001b[0m\u001b[0;34m\u001b[0m\u001b[0;34m\u001b[0m\u001b[0m\n\u001b[1;32m   1041\u001b[0m         \u001b[0;32mif\u001b[0m \u001b[0m_is_string_like\u001b[0m\u001b[0;34m(\u001b[0m\u001b[0mfname\u001b[0m\u001b[0;34m)\u001b[0m\u001b[0;34m:\u001b[0m\u001b[0;34m\u001b[0m\u001b[0;34m\u001b[0m\u001b[0m\n\u001b[0;32m-> 1042\u001b[0;31m             \u001b[0mfh\u001b[0m \u001b[0;34m=\u001b[0m \u001b[0mnp\u001b[0m\u001b[0;34m.\u001b[0m\u001b[0mlib\u001b[0m\u001b[0;34m.\u001b[0m\u001b[0m_datasource\u001b[0m\u001b[0;34m.\u001b[0m\u001b[0mopen\u001b[0m\u001b[0;34m(\u001b[0m\u001b[0mfname\u001b[0m\u001b[0;34m,\u001b[0m \u001b[0;34m'rt'\u001b[0m\u001b[0;34m,\u001b[0m \u001b[0mencoding\u001b[0m\u001b[0;34m=\u001b[0m\u001b[0mencoding\u001b[0m\u001b[0;34m)\u001b[0m\u001b[0;34m\u001b[0m\u001b[0;34m\u001b[0m\u001b[0m\n\u001b[0m\u001b[1;32m   1043\u001b[0m             \u001b[0mfencoding\u001b[0m \u001b[0;34m=\u001b[0m \u001b[0mgetattr\u001b[0m\u001b[0;34m(\u001b[0m\u001b[0mfh\u001b[0m\u001b[0;34m,\u001b[0m \u001b[0;34m'encoding'\u001b[0m\u001b[0;34m,\u001b[0m \u001b[0;34m'latin1'\u001b[0m\u001b[0;34m)\u001b[0m\u001b[0;34m\u001b[0m\u001b[0;34m\u001b[0m\u001b[0m\n\u001b[1;32m   1044\u001b[0m             \u001b[0mline_iter\u001b[0m \u001b[0;34m=\u001b[0m \u001b[0miter\u001b[0m\u001b[0;34m(\u001b[0m\u001b[0mfh\u001b[0m\u001b[0;34m)\u001b[0m\u001b[0;34m\u001b[0m\u001b[0;34m\u001b[0m\u001b[0m\n",
            "\u001b[0;32m/usr/local/lib/python3.10/dist-packages/numpy/lib/_datasource.py\u001b[0m in \u001b[0;36mopen\u001b[0;34m(path, mode, destpath, encoding, newline)\u001b[0m\n\u001b[1;32m    191\u001b[0m \u001b[0;34m\u001b[0m\u001b[0m\n\u001b[1;32m    192\u001b[0m     \u001b[0mds\u001b[0m \u001b[0;34m=\u001b[0m \u001b[0mDataSource\u001b[0m\u001b[0;34m(\u001b[0m\u001b[0mdestpath\u001b[0m\u001b[0;34m)\u001b[0m\u001b[0;34m\u001b[0m\u001b[0;34m\u001b[0m\u001b[0m\n\u001b[0;32m--> 193\u001b[0;31m     \u001b[0;32mreturn\u001b[0m \u001b[0mds\u001b[0m\u001b[0;34m.\u001b[0m\u001b[0mopen\u001b[0m\u001b[0;34m(\u001b[0m\u001b[0mpath\u001b[0m\u001b[0;34m,\u001b[0m \u001b[0mmode\u001b[0m\u001b[0;34m,\u001b[0m \u001b[0mencoding\u001b[0m\u001b[0;34m=\u001b[0m\u001b[0mencoding\u001b[0m\u001b[0;34m,\u001b[0m \u001b[0mnewline\u001b[0m\u001b[0;34m=\u001b[0m\u001b[0mnewline\u001b[0m\u001b[0;34m)\u001b[0m\u001b[0;34m\u001b[0m\u001b[0;34m\u001b[0m\u001b[0m\n\u001b[0m\u001b[1;32m    194\u001b[0m \u001b[0;34m\u001b[0m\u001b[0m\n\u001b[1;32m    195\u001b[0m \u001b[0;34m\u001b[0m\u001b[0m\n",
            "\u001b[0;32m/usr/local/lib/python3.10/dist-packages/numpy/lib/_datasource.py\u001b[0m in \u001b[0;36mopen\u001b[0;34m(self, path, mode, encoding, newline)\u001b[0m\n\u001b[1;32m    530\u001b[0m                                       encoding=encoding, newline=newline)\n\u001b[1;32m    531\u001b[0m         \u001b[0;32melse\u001b[0m\u001b[0;34m:\u001b[0m\u001b[0;34m\u001b[0m\u001b[0;34m\u001b[0m\u001b[0m\n\u001b[0;32m--> 532\u001b[0;31m             \u001b[0;32mraise\u001b[0m \u001b[0mFileNotFoundError\u001b[0m\u001b[0;34m(\u001b[0m\u001b[0;34mf\"{path} not found.\"\u001b[0m\u001b[0;34m)\u001b[0m\u001b[0;34m\u001b[0m\u001b[0;34m\u001b[0m\u001b[0m\n\u001b[0m\u001b[1;32m    533\u001b[0m \u001b[0;34m\u001b[0m\u001b[0m\n\u001b[1;32m    534\u001b[0m \u001b[0;34m\u001b[0m\u001b[0m\n",
            "\u001b[0;31mFileNotFoundError\u001b[0m: wind.data not found."
          ]
        }
      ]
    }
  ]
}