{
  "cells": [
    {
      "cell_type": "markdown",
      "metadata": {
        "id": "view-in-github",
        "colab_type": "text"
      },
      "source": [
        "<a href=\"https://colab.research.google.com/github/lilian-2021/DS/blob/main/Data_Visualization_Lab.ipynb\" target=\"_parent\"><img src=\"https://colab.research.google.com/assets/colab-badge.svg\" alt=\"Open In Colab\"/></a>"
      ]
    },
    {
      "cell_type": "markdown",
      "metadata": {
        "id": "bJHEbk5DKcAe"
      },
      "source": [
        "# Data Visualization - Lab\n",
        "\n",
        "## Introduction\n",
        "This lab will give you some structured practice performing data visualization!\n",
        "\n",
        "## Objectives\n",
        "\n",
        "You will be able to:\n",
        "\n",
        "* Use Matplotlib to create a bar graph\n",
        "* Use Matplotlib to create a scatter plot\n",
        "* Use Matplotlib to create a histogram\n"
      ]
    },
    {
      "cell_type": "code",
      "execution_count": null,
      "metadata": {
        "id": "90XoFiCNKcBF"
      },
      "outputs": [],
      "source": [
        "# Run this cell without changes\n",
        "import numpy as np\n",
        "import matplotlib.pyplot as plt\n",
        "%matplotlib inline"
      ]
    },
    {
      "cell_type": "markdown",
      "metadata": {
        "id": "SaO_wd-KKcBL"
      },
      "source": [
        "## Exercise 1\n",
        "\n",
        "Make a vertical bar graph using `ax.bar()` for the following set of data:\n",
        "\n",
        "> Jim's Video Library contains 40 crime, 30 science fiction, 10 drama, 50 comedy, 25 action and 5 documentary movies.\n",
        "\n",
        "* Set x-axis (genres) and y-axis (number of movies)\n",
        "* Plot and label the bar graph\n",
        "* Provide a suitable title\n",
        "* Label x and y-axis\n",
        "\n",
        "Notes:\n",
        "\n",
        "1. We are asking you to \"hard-code\" the numbers listed above into Python. There is no file or other data source to open.\n",
        "2. `x` and `height` must be iterables of numbers, so `x` should just be 6 evenly-spaced numbers. To set the labels of \"crime\" etc. pass the `labels` into the `.bar()` function using the `tick_label` argument.\n",
        "\n",
        "The graph you create should look like this:\n",
        "\n",
        "![bar graph](graph_images/bar_chart.png)"
      ]
    },
    {
      "cell_type": "markdown",
      "metadata": {
        "id": "Mn9MDcF7KcBO"
      },
      "source": [
        "# Replace None with appropriate code\n",
        "import numpy as np\n",
        "height = [40,30,10,50,25,5]\n",
        "x =[Crime,Sci/fi,Drama,Comedy,Action,Documentary]\n",
        "#data = {\"Crime\":40, \"Sci/fi\":30, \"Drama\":10, \"Comedy\":50, \"Action\":25, \"Documentary\":5}\n",
        "labels = \"jim's Video Library\"\n",
        "\n",
        "# Create the plotfig, ax = plt.subplots(figsize=(8, 6))\n",
        "\n",
        "# Plot vertical bars of fixed width by passing x and height values to .bar() function\n",
        "plt.bar(x, height, label='jim's Video Library')\n",
        "\n",
        "# Give a title to the bar graph and label the axes\n",
        "plt.xlabel('X Values - Genres')\n",
        "plt.ylabel('Y Values - Number of Movi')\n",
        "\n",
        "plt.title('Bar Plot in Matplotlib')\n",
        "plt.legend()\n",
        "None\n",
        "None\n",
        "None"
      ]
    },
    {
      "cell_type": "code",
      "execution_count": null,
      "metadata": {
        "id": "ZYgGE6GMKcBR",
        "outputId": "96912eee-ec00-4b09-b158-82e9d7d025e2"
      },
      "outputs": [
        {
          "ename": "NameError",
          "evalue": "name 'Crime' is not defined",
          "output_type": "error",
          "traceback": [
            "\u001b[0;31m---------------------------------------------------------------------------\u001b[0m",
            "\u001b[0;31mNameError\u001b[0m                                 Traceback (most recent call last)",
            "Cell \u001b[0;32mIn [1], line 2\u001b[0m\n\u001b[1;32m      1\u001b[0m height \u001b[38;5;241m=\u001b[39m [\u001b[38;5;241m40\u001b[39m,\u001b[38;5;241m30\u001b[39m,\u001b[38;5;241m10\u001b[39m,\u001b[38;5;241m50\u001b[39m,\u001b[38;5;241m25\u001b[39m,\u001b[38;5;241m5\u001b[39m]\n\u001b[0;32m----> 2\u001b[0m x \u001b[38;5;241m=\u001b[39m[\u001b[43mCrime\u001b[49m, Sci\u001b[38;5;241m/\u001b[39mfi, Drama, Comedy, Action, Documentary]\n\u001b[1;32m      3\u001b[0m \u001b[38;5;66;03m#data = {\"Crime\":40, \"Sci/fi\":30, \"Drama\":10, \"Comedy\":50, \"Action\":25, \"Documentary\":5}\u001b[39;00m\n\u001b[1;32m      4\u001b[0m labels \u001b[38;5;241m=\u001b[39m (xlabel,ylabel)\n",
            "\u001b[0;31mNameError\u001b[0m: name 'Crime' is not defined"
          ]
        }
      ],
      "source": [
        "height = [40,30,10,50,25,5]\n",
        "x =[Crime, Sci/fi, Drama, Comedy, Action, Documentary]\n",
        "#data = {\"Crime\":40, \"Sci/fi\":30, \"Drama\":10, \"Comedy\":50, \"Action\":25, \"Documentary\":5}\n",
        "labels = (xlabel,ylabel)\n",
        "\n",
        "fig, ax = plt.subplots(figsize=(8, 6))\n",
        "plt.xlabel('Genres')\n",
        "plt.ylabel(Number of Movies')\n",
        "\n",
        "plt.title('Jims Video Library')\n",
        "plt.legend()\n",
        "plt.show()"
      ]
    },
    {
      "cell_type": "markdown",
      "metadata": {
        "id": "9h0XU5P4KcBX"
      },
      "source": [
        "## Exercise 2\n",
        "\n",
        "The table shows the data collected by a Consumer Products Group on the relationship between the weight of a car and its average gas mileage.\n",
        "\n",
        "      Car Type  Weight\tmiles per gallon\n",
        "        A\t    2750\t   29\n",
        "        B\t    3125\t   23\n",
        "        C\t    2100\t   33\n",
        "        D\t    4082\t   18\n",
        "        E\t    2690\t   20\n",
        "        F\t    3640\t   21\n",
        "        G\t    4380\t   14\n",
        "        H\t    2241\t   25\n",
        "        I\t    2895\t   31\n",
        "        J\t    3659\t   17\n",
        "        \n",
        "* Use a scatter plot to show the relationship between mpg and weight of a car using `.scatter()`\n",
        "* Set appropriate labels for axes\n",
        "* Give a title to the plot\n",
        "* Create a legend\n",
        "\n",
        "Looking the scatter plot, think about: how would you describe the relationship between these two attributes?\n",
        "\n",
        "The graph you create should look like this:\n",
        "\n",
        "![scatter plot](graph_images/scatter_plot.png)"
      ]
    },
    {
      "cell_type": "code",
      "execution_count": null,
      "metadata": {
        "id": "9eXwfXMvKcBa",
        "outputId": "a20e5644-ccb5-4a2d-9b3d-ef686c43c133"
      },
      "outputs": [
        {
          "data": {
            "image/png": "[encoded data removed]",
            "text/plain": [
              "<Figure size 640x480 with 1 Axes>"
            ]
          },
          "metadata": {},
          "output_type": "display_data"
        }
      ],
      "source": [
        "# Replace None with appropriate code\n",
        "\n",
        "weight = [2750, 3125, 2100, 4082, 2690, 3640, 4380, 2241, 2895, 3659]\n",
        "mpg = [29, 23, 33, 28, 20, 21, 14, 25, 31, 17]\n",
        "\n",
        "# Create the plot\n",
        "\n",
        "\n",
        "# Plot with scatter()\n",
        "plt.scatter(weight, mpg, label = \"weight vs mileage\" )\n",
        "\n",
        "# Set x and y axes labels, legend, and title\n",
        "plt.title('Consumer Cars')\n",
        "plt.xlabel('Car Weight')\n",
        "plt.ylabel('Miles per Gallon')\n",
        "plt.legend()\n",
        "plt.show()\n"
      ]
    },
    {
      "cell_type": "markdown",
      "metadata": {
        "id": "1fVan4CWKcBe"
      },
      "source": [
        "## Exercise 3\n",
        "\n",
        "Joe is the branch manager at a bank. Recently, Joe has been receiving customer feedback saying that the waiting times for clients to be served by customer service representatives are too long. Joe decides to observe and write down the time spent waiting by each customer. Here are his findings from observing and writing down the wait times (in seconds), spent by 20 customers:\n",
        "\n",
        "43.1, 35.6, 37.5, 36.5, 45.3, 43.4, 40.3, 50.2, 47.3, 31.2, 42.2, 45.5, 30.3, 31.4, 35.6, 45.2, 54.1, 45.6, 36.5, 43.1\n",
        "\n",
        "* Build a histogram of these values using the `hist()` function. Use `bins=5` to represent the 20 data points\n",
        "* Plot, label and give a title as above.\n",
        "\n",
        "The graph you create should look like this:\n",
        "\n",
        "![histogram](graph_images/histogram.png)"
      ]
    },
    {
      "cell_type": "code",
      "execution_count": null,
      "metadata": {
        "id": "gKc166S3KcBg",
        "outputId": "5b07261a-7da1-44f2-89a1-bafd51da05b7"
      },
      "outputs": [
        {
          "name": "stderr",
          "output_type": "stream",
          "text": [
            "No artists with labels found to put in legend.  Note that artists whose label start with an underscore are ignored when legend() is called with no argument.\n"
          ]
        },
        {
          "data": {
            "image/png": "[encoded data removed]",
            "text/plain": [
              "<Figure size 640x480 with 1 Axes>"
            ]
          },
          "metadata": {},
          "output_type": "display_data"
        }
      ],
      "source": [
        "# Replace None with appropriate code\n",
        "\n",
        "x = [43.1, 35.6, 37.5, 36.5, 45.3, 43.4,\n",
        "     40.3, 50.2, 47.3, 31.2, 42.2, 45.5,\n",
        "     30.3, 31.4, 35.6, 45.2, 54.1, 45.6,\n",
        "     36.5, 43.1]\n",
        "\n",
        "# Create the plot\n",
        "None\n",
        "\n",
        "# Plot the histogram with hist() function\n",
        "None\n",
        "plt.hist(x, bins = 5, edgecolor='black')\n",
        "\n",
        "# Label axes and set title\n",
        "plt.title('Customer Waiting Times')\n",
        "plt.xlabel('Waiting Time')\n",
        "plt.ylabel('Number of Customers')\n",
        "plt.legend()\n",
        "plt.show()"
      ]
    },
    {
      "cell_type": "markdown",
      "metadata": {
        "id": "vr6NUx3PKcBj"
      },
      "source": [
        "## Summary\n",
        "\n",
        "In this lab, you got some good practice working with creating plots in Python using Matplotlib."
      ]
    }
  ],
  "metadata": {
    "kernelspec": {
      "display_name": "saturn (Python 3)",
      "language": "python",
      "name": "python3"
    },
    "language_info": {
      "codemirror_mode": {
        "name": "ipython",
        "version": 3
      },
      "file_extension": ".py",
      "mimetype": "text/x-python",
      "name": "python",
      "nbconvert_exporter": "python",
      "pygments_lexer": "ipython3",
      "version": "3.10.6"
    },
    "colab": {
      "provenance": [],
      "include_colab_link": true
    }
  },
  "nbformat": 4,
  "nbformat_minor": 0
}