{
  "cells": [
    {
      "cell_type": "markdown",
      "metadata": {
        "id": "view-in-github",
        "colab_type": "text"
      },
      "source": [
        "<a href=\"https://colab.research.google.com/github/lilian-2021/DS/blob/main/Creating_Functions_Lab.ipynb\" target=\"_parent\"><img src=\"https://colab.research.google.com/assets/colab-badge.svg\" alt=\"Open In Colab\"/></a>"
      ]
    },
    {
      "cell_type": "markdown",
      "metadata": {
        "id": "9neiZTCr5ud-"
      },
      "source": [
        "# Creating Functions - Lab"
      ]
    },
    {
      "cell_type": "markdown",
      "metadata": {
        "id": "GVRl5DrP5uea"
      },
      "source": [
        "## Introduction\n",
        "\n",
        "As you know, we can use functions to name snippets of our code, thus making our code more expressive. We can also use functions to allow us to reuse our code. In this lab we will practice using functions for both of those purposes."
      ]
    },
    {
      "cell_type": "markdown",
      "metadata": {
        "id": "EXNF-pa55uee"
      },
      "source": [
        "## Objectives\n",
        "\n",
        "You will be able to:\n",
        "\n",
        "* Declare and use a basic function"
      ]
    },
    {
      "cell_type": "markdown",
      "metadata": {
        "id": "YnZqIwzl5ueh"
      },
      "source": [
        "## Instructions:\n",
        "### Writing our first functions"
      ]
    },
    {
      "cell_type": "markdown",
      "metadata": {
        "id": "djsBYFKq5uej"
      },
      "source": [
        "Imagine we are creating a list of travel destinations -- which can really turn out to be a full time job if we like to travel. We have our list of `travel_destinations` which we assign below. Write a function called `number_of_destinations()` that returns the number of destinations we have on our list."
      ]
    },
    {
      "cell_type": "code",
      "execution_count": null,
      "metadata": {
        "id": "WLuzyp3c5uem"
      },
      "outputs": [],
      "source": [
        "travel_destinations = ['argentina', 'mexico', 'italy', 'finland', 'canada', 'croatia']\n",
        "# define function here\n",
        "def number_of_destinations():\n",
        "    destinations_no = []\n",
        "    for travel_destination in travel_destinations:\n",
        "        destinations_no = len(travel_destinations)\n",
        "\n",
        "    return destinations_no\n",
        ""
      ]
    },
    {
      "cell_type": "markdown",
      "metadata": {
        "id": "oFysQv5h5uey"
      },
      "source": [
        "> Below, remove the first `#` to uncomment the following line(s) of code and then press `shift` + `enter` to run the cell"
      ]
    },
    {
      "cell_type": "code",
      "execution_count": null,
      "metadata": {
        "id": "mo1UMQDc5ue3",
        "outputId": "071f626e-0e9b-4f8d-ed75-a5e17a3c08e1"
      },
      "outputs": [
        {
          "data": {
            "text/plain": [
              "6"
            ]
          },
          "execution_count": 3,
          "metadata": {},
          "output_type": "execute_result"
        }
      ],
      "source": [
        "number_of_destinations() # Expected output: 6"
      ]
    },
    {
      "cell_type": "markdown",
      "metadata": {
        "id": "66DcJD5x5ue8"
      },
      "source": [
        "Now write another function called `next_up()` that returns our first destination (the destination with the lowest index), in the `list_of_destinations` list."
      ]
    },
    {
      "cell_type": "code",
      "execution_count": null,
      "metadata": {
        "id": "CF5JDuns5ufA"
      },
      "outputs": [],
      "source": [
        "def next_up():\n",
        "    list_of_destinations = []\n",
        "    for travel_destination in travel_destinations:\n",
        "        list_of_destinations = min(travel_destinations)\n",
        "    return list_of_destinations"
      ]
    },
    {
      "cell_type": "markdown",
      "metadata": {
        "id": "gI_akKUX5ufC"
      },
      "source": [
        "Next, run your new function"
      ]
    },
    {
      "cell_type": "code",
      "execution_count": null,
      "metadata": {
        "id": "0682zA2r5ufE",
        "outputId": "f222636a-39c5-46ce-d626-3dbedeaae1e1"
      },
      "outputs": [
        {
          "data": {
            "text/plain": [
              "'argentina'"
            ]
          },
          "execution_count": 15,
          "metadata": {},
          "output_type": "execute_result"
        }
      ],
      "source": [
        "list_of_destinations = ['argentina', 'canada', 'croatia']\n",
        "min (list_of_destinations)\n",
        "# Your code here\n",
        "# Expected output:'argentina'"
      ]
    },
    {
      "cell_type": "markdown",
      "metadata": {
        "id": "HirUefBD5ufF"
      },
      "source": [
        "Ok, now write a function called `favorite_destination()` that returns the string `'madagascar'`."
      ]
    },
    {
      "cell_type": "code",
      "execution_count": null,
      "metadata": {
        "id": "rJZQpCym5ufG"
      },
      "outputs": [],
      "source": [
        "def favorite_destination():\n",
        "    fav_destination = []\n",
        "    for travel_destination in travel_destinations:\n",
        "        fav_destination = \"madagascar\"\n",
        "\n",
        "    return fav_destination\n",
        "\n",
        ""
      ]
    },
    {
      "cell_type": "markdown",
      "metadata": {
        "id": "5c20iv9H5ufJ"
      },
      "source": [
        "Next, run your new function"
      ]
    },
    {
      "cell_type": "code",
      "execution_count": null,
      "metadata": {
        "id": "uOd_T_-t5ufK",
        "outputId": "e1c7bd08-f92e-449a-cbd8-b5e898fb55e6"
      },
      "outputs": [
        {
          "data": {
            "text/plain": [
              "'madagascar'"
            ]
          },
          "execution_count": 20,
          "metadata": {},
          "output_type": "execute_result"
        }
      ],
      "source": [
        "favorite_destination()\n",
        "# Expected output:'madagascar'"
      ]
    },
    {
      "cell_type": "markdown",
      "metadata": {
        "id": "qzdBgtgy5ufM"
      },
      "source": [
        "Again, let's declare a list called `favorite_destinations`. Write a new function called `add_favorite_destination()` that adds the string `'madagascar'` to the end of `favorite_destinations` and also returns the string `'madagascar'`."
      ]
    },
    {
      "cell_type": "code",
      "execution_count": null,
      "metadata": {
        "id": "D7CP-r1F5ufN",
        "outputId": "cb67e4b4-434f-4430-82ea-402dedc02f06"
      },
      "outputs": [
        {
          "ename": "SyntaxError",
          "evalue": "invalid syntax (3421111550.py, line 1)",
          "output_type": "error",
          "traceback": [
            "\u001b[0;36m  Cell \u001b[0;32mIn [29], line 1\u001b[0;36m\u001b[0m\n\u001b[0;31m    def favourite_destinations:\u001b[0m\n\u001b[0m                              ^\u001b[0m\n\u001b[0;31mSyntaxError\u001b[0m\u001b[0;31m:\u001b[0m invalid syntax\n"
          ]
        }
      ],
      "source": [
        "def favourite_destinations:\n",
        "    fav_destinations.append(\"madagascar\")\n",
        "favourite_destinations()"
      ]
    },
    {
      "cell_type": "markdown",
      "metadata": {
        "id": "9Yvr-ncz5ufR"
      },
      "source": [
        "Next, run your new function"
      ]
    },
    {
      "cell_type": "code",
      "execution_count": null,
      "metadata": {
        "id": "HhPzmK-P5ufV"
      },
      "outputs": [],
      "source": [
        "favorite_destinations = ['argentina', 'mexico', 'italy', 'finland', 'canada', 'croatia']\n",
        "\n",
        "# Your code here\n",
        "\n",
        "favorite_destinations[-1]"
      ]
    },
    {
      "cell_type": "markdown",
      "metadata": {
        "id": "nYJsHkWD5ufY"
      },
      "source": [
        "Now let's write another function called `capitalize_countries()` which iterates through the list of `capitalized_destinations` and capitalizes the first letter of each word. It should return a list of capitalized destinations."
      ]
    },
    {
      "cell_type": "code",
      "execution_count": null,
      "metadata": {
        "id": "AvY-FVKW5ufZ"
      },
      "outputs": [],
      "source": [
        "capitalized_destinations = ['argentina', 'mexico', 'italy', 'finland', 'canada', 'croatia']\n",
        "# define function here"
      ]
    },
    {
      "cell_type": "markdown",
      "metadata": {
        "id": "1K9JERjh5ufc"
      },
      "source": [
        "Next, run your new function"
      ]
    },
    {
      "cell_type": "code",
      "execution_count": null,
      "metadata": {
        "id": "09_jNjZP5ufd"
      },
      "outputs": [],
      "source": [
        "# Your code here # ['Argentina', 'Mexico', 'Italy', 'Finland', 'Canada', 'Croatia']"
      ]
    },
    {
      "cell_type": "markdown",
      "metadata": {
        "id": "hvT1gumj5ufe"
      },
      "source": [
        "Great! Now if someone adds a country that is lowercased to our list of destinations, we can simply call our function again to capitalize each of the destinations in the list."
      ]
    },
    {
      "cell_type": "markdown",
      "metadata": {
        "id": "wYqe_gTi5ufg"
      },
      "source": [
        "## Summary"
      ]
    },
    {
      "cell_type": "markdown",
      "metadata": {
        "id": "mlln8vN85ufl"
      },
      "source": [
        "Great job! In this lab we were able to get practice both creating and returning values from functions."
      ]
    }
  ],
  "metadata": {
    "kernelspec": {
      "display_name": "saturn (Python 3)",
      "language": "python",
      "name": "python3"
    },
    "language_info": {
      "codemirror_mode": {
        "name": "ipython",
        "version": 3
      },
      "file_extension": ".py",
      "mimetype": "text/x-python",
      "name": "python",
      "nbconvert_exporter": "python",
      "pygments_lexer": "ipython3",
      "version": "3.10.6"
    },
    "toc": {
      "base_numbering": 1,
      "nav_menu": {},
      "number_sections": true,
      "sideBar": true,
      "skip_h1_title": false,
      "title_cell": "Table of Contents",
      "title_sidebar": "Contents",
      "toc_cell": false,
      "toc_position": {},
      "toc_section_display": true,
      "toc_window_display": false
    },
    "colab": {
      "provenance": [],
      "include_colab_link": true
    }
  },
  "nbformat": 4,
  "nbformat_minor": 0
}